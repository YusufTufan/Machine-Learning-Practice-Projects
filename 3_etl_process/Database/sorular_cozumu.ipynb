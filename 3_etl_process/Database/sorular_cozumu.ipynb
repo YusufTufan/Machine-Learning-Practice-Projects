{
 "cells": [
  {
   "cell_type": "markdown",
   "id": "ee321f15-2bdf-4379-b930-754fc52146f6",
   "metadata": {},
   "source": [
    "# Soru1: Tüm verileri göster"
   ]
  },
  {
   "cell_type": "code",
   "execution_count": null,
   "id": "1dcb267b-81eb-491c-82cc-5a49d17e15e1",
   "metadata": {},
   "outputs": [],
   "source": [
    "import sqlite3\n",
    "import pandas as pd\n",
    "conn = sqlite3.connect(\"sqlite-sakila.db\")"
   ]
  },
  {
   "cell_type": "code",
   "execution_count": null,
   "id": "20ceae31-3605-46b0-b411-9c92b7ee0b53",
   "metadata": {},
   "outputs": [],
   "source": [
    "rental_df = pd.read_sql_query(\"SELECT * FROM Rental\",conn)\n",
    "rental_df"
   ]
  },
  {
   "cell_type": "markdown",
   "id": "e30e55b4-cb1b-4d1b-b505-5b62a8f80af0",
   "metadata": {},
   "source": [
    "# Soru2:  Her filmdeki oyuncuları listele"
   ]
  },
  {
   "cell_type": "code",
   "execution_count": null,
   "id": "86ee5969-11a2-4bdd-a6d5-6b2df02d978a",
   "metadata": {},
   "outputs": [],
   "source": [
    "import sqlite3\n",
    "import pandas as pd\n",
    "conn = sqlite3.connect(\"sqlite-sakila.db\")"
   ]
  },
  {
   "cell_type": "code",
   "execution_count": null,
   "id": "bd5c83ec-0b3d-4720-9289-61a08ea5622b",
   "metadata": {},
   "outputs": [],
   "source": [
    "film_df = pd.read_sql_query(\"SELECT * FROM film\",conn)\n",
    "actor_df = pd.read_sql_query(\"SELECT * FROM actor\",conn)\n",
    "film_actor_df = pd.read_sql_query(\"SELECT * FROM film_actor\",conn)"
   ]
  },
  {
   "cell_type": "code",
   "execution_count": null,
   "id": "5138f471-f7cb-4a8a-af2d-d1433b782e00",
   "metadata": {},
   "outputs": [],
   "source": [
    "merge_df = pd.merge(film_df,film_actor_df, on='film_id')\n",
    "merge_df = pd.merge(actor_df,merge_df, on='actor_id')"
   ]
  },
  {
   "cell_type": "code",
   "execution_count": null,
   "id": "13408e13-3807-4808-9ca5-bc6a1813ed48",
   "metadata": {},
   "outputs": [],
   "source": [
    "result_df = merge_df[['title','first_name','last_name']]\n",
    "result_df"
   ]
  },
  {
   "cell_type": "markdown",
   "id": "889b7be9-eeb4-470b-adf3-dcc4032b6402",
   "metadata": {},
   "source": [
    "# Soru3: Her filmde kaç oyuncu oynadı?"
   ]
  },
  {
   "cell_type": "code",
   "execution_count": null,
   "id": "d1e3ac26-fe0a-4ec5-b64e-fb9e23a45b87",
   "metadata": {},
   "outputs": [],
   "source": [
    "import sqlite3\n",
    "import pandas as pd\n",
    "conn = sqlite3.connect(\"sqlite-sakila.db\")"
   ]
  },
  {
   "cell_type": "code",
   "execution_count": null,
   "id": "d0a7d25d-a3fd-4ad5-9e3a-e95bbcb6b560",
   "metadata": {},
   "outputs": [],
   "source": [
    "film_df = pd.read_sql_query(\"SELECT * FROM film\",conn)\n",
    "actor_df = pd.read_sql_query(\"SELECT * FROM actor\",conn)\n",
    "film_actor_df = pd.read_sql_query(\"SELECT * FROM film_actor\",conn)"
   ]
  },
  {
   "cell_type": "code",
   "execution_count": null,
   "id": "ec654168-e615-4301-b052-f8af4d9405ab",
   "metadata": {},
   "outputs": [],
   "source": [
    "merge_df = pd.merge(film_df,film_actor_df, on='film_id')\n",
    "merge_df = pd.merge(actor_df,merge_df, on='actor_id')"
   ]
  },
  {
   "cell_type": "code",
   "execution_count": null,
   "id": "4ba0b592-8a00-47c9-b028-cbe741c92f6a",
   "metadata": {},
   "outputs": [],
   "source": [
    "film_count_df = merge_df.groupby('title').agg(actor_count =('actor_id','count'))\n",
    "film_count_df"
   ]
  },
  {
   "cell_type": "markdown",
   "id": "b7231f86-a30b-4855-8f75-17d4fcdfd39c",
   "metadata": {},
   "source": [
    "# Soru 4: Her oyuncu kaç filmde oynadı?"
   ]
  },
  {
   "cell_type": "code",
   "execution_count": null,
   "id": "0bb6aa7f-bdd0-46fa-b226-337c542accb9",
   "metadata": {},
   "outputs": [],
   "source": [
    "import sqlite3\n",
    "import pandas as pd\n",
    "conn = sqlite3.connect(\"sqlite-sakila.db\")"
   ]
  },
  {
   "cell_type": "code",
   "execution_count": null,
   "id": "4179e7c7-b815-461e-9e1b-670ff6e88b26",
   "metadata": {},
   "outputs": [],
   "source": [
    "film_df = pd.read_sql_query(\"SELECT * FROM film\",conn)\n",
    "actor_df = pd.read_sql_query(\"SELECT * FROM actor\",conn)\n",
    "film_actor_df = pd.read_sql_query(\"SELECT * FROM film_actor\",conn)"
   ]
  },
  {
   "cell_type": "code",
   "execution_count": null,
   "id": "0e61546f-10ad-492e-9efa-6fdcf5e51eb3",
   "metadata": {},
   "outputs": [],
   "source": [
    "merge_df = pd.merge(film_df,film_actor_df, on='film_id')\n",
    "merge_df = pd.merge(actor_df,merge_df, on='actor_id')"
   ]
  },
  {
   "cell_type": "code",
   "execution_count": null,
   "id": "90861984-3b6a-412b-a6ae-136ed2c89169",
   "metadata": {},
   "outputs": [],
   "source": [
    "movie_count_df = merge_df.groupby(['first_name','last_name']).agg(movie_count=(\"film_id\",\"count\"))\n",
    "movie_count_df"
   ]
  },
  {
   "cell_type": "markdown",
   "id": "1d16c997-3cd7-4b5f-b571-f4483d5cac3c",
   "metadata": {},
   "source": [
    "# Soru 5: Envanterde olmayan filmler var mı ve varsa kaç tane?"
   ]
  },
  {
   "cell_type": "code",
   "execution_count": null,
   "id": "43260db2-6482-493e-a1ae-66dccd37f9c8",
   "metadata": {},
   "outputs": [],
   "source": [
    "import sqlite3\n",
    "import pandas as pd\n",
    "conn = sqlite3.connect(\"sqlite-sakila.db\")"
   ]
  },
  {
   "cell_type": "code",
   "execution_count": null,
   "id": "4199b216-0aa2-49ef-bf07-7d8a07469e2c",
   "metadata": {},
   "outputs": [],
   "source": [
    "film_df = pd.read_sql_query(\"SELECT * FROM film\",conn)\n",
    "inventory_df = pd.read_sql_query(\"Select * FROM inventory\",conn)"
   ]
  },
  {
   "cell_type": "code",
   "execution_count": null,
   "id": "c26b09c5-fa52-492a-9dc1-7505edadad3a",
   "metadata": {},
   "outputs": [],
   "source": [
    "inventory_df_unique = inventory_df[\"film_id\"].unique()"
   ]
  },
  {
   "cell_type": "code",
   "execution_count": null,
   "id": "6c5c0544-98c4-4af2-a8f2-0da708930626",
   "metadata": {},
   "outputs": [],
   "source": [
    "not_in_inventory_df = film_df[~film_df[\"film_id\"].isin(inventory_df_unique)]"
   ]
  },
  {
   "cell_type": "code",
   "execution_count": null,
   "id": "203c8b0c-f536-489d-863b-a85c2e3f9072",
   "metadata": {
    "scrolled": true
   },
   "outputs": [],
   "source": [
    "not_in_inventory_df_count = not_in_inventory_df.shape[0]"
   ]
  },
  {
   "cell_type": "code",
   "execution_count": null,
   "id": "bd499934-1932-4711-a857-3a5403f6cba1",
   "metadata": {},
   "outputs": [],
   "source": [
    "not_in_inventory_df_count"
   ]
  },
  {
   "cell_type": "markdown",
   "id": "63a8358a-d0a9-44f2-88be-c254d417de41",
   "metadata": {},
   "source": [
    "# Soru 6: Kiralanabilir olan her filmin kaç kez kiralandığını ve toplam gelirlerini getirin"
   ]
  },
  {
   "cell_type": "code",
   "execution_count": null,
   "id": "e58be7af-be8e-4673-8526-327d83e4af8c",
   "metadata": {},
   "outputs": [],
   "source": [
    "import sqlite3\n",
    "import pandas as pd\n",
    "conn = sqlite3.connect(\"sqlite-sakila.db\")"
   ]
  },
  {
   "cell_type": "code",
   "execution_count": null,
   "id": "a4a5f365-cbfc-47cd-89cb-94562beceb28",
   "metadata": {},
   "outputs": [],
   "source": [
    "film_df = pd.read_sql_query(\"SELECT * FROM film\",conn)\n",
    "inventory_df = pd.read_sql_query(\"Select * FROM inventory\",conn)\n",
    "rental_df = pd.read_sql_query(\"SELECT * FROM rental\",conn)\n",
    "payment_df = pd.read_sql_query(\"SELECT * FROM payment\",conn)"
   ]
  },
  {
   "cell_type": "code",
   "execution_count": null,
   "id": "cfe3dc8d-c29f-4c7d-b6d7-16feb64e4969",
   "metadata": {},
   "outputs": [],
   "source": [
    "payment_df = payment_df.drop(columns=[\"last_update\"])"
   ]
  },
  {
   "cell_type": "code",
   "execution_count": null,
   "id": "cfad3256-6c40-4c1d-b4fe-5e59f94eedae",
   "metadata": {},
   "outputs": [],
   "source": [
    "film_inventory_df = pd.merge(film_df, inventory_df, on= \"film_id\")\n",
    "film_inventory_rental_df = pd.merge(film_inventory_df, rental_df, on= \"inventory_id\")\n",
    "full_df = pd.merge(film_inventory_rental_df, payment_df, on= \"rental_id\")"
   ]
  },
  {
   "cell_type": "code",
   "execution_count": null,
   "id": "bc75ff0c-d652-4ace-9179-8a62445ee9e3",
   "metadata": {},
   "outputs": [],
   "source": [
    "film_stats_df = full_df.groupby(\"title\").agg(rental_count =(\"rental_id\",\"count\"),total_amount = (\"amount\",\"sum\"))\n",
    "film_stats_df"
   ]
  },
  {
   "cell_type": "markdown",
   "id": "e2e420d8-49d6-4273-bbf5-aa5068e1d301",
   "metadata": {},
   "source": [
    "# Soru 7: Envanterde olmayan filmlerin kira oranlarını getirin"
   ]
  },
  {
   "cell_type": "code",
   "execution_count": null,
   "id": "1078bb65-7d43-4ea0-9e48-37ad2a1ffe87",
   "metadata": {},
   "outputs": [],
   "source": [
    "import sqlite3\n",
    "import pandas as pd\n",
    "conn = sqlite3.connect(\"sqlite-sakila.db\")"
   ]
  },
  {
   "cell_type": "code",
   "execution_count": null,
   "id": "d73c198a-dee4-499a-80a0-a0e57526e009",
   "metadata": {},
   "outputs": [],
   "source": [
    "film_df = pd.read_sql_query(\"SELECT * FROM film\",conn)\n",
    "inventory_df = pd.read_sql_query(\"Select * FROM inventory\",conn)"
   ]
  },
  {
   "cell_type": "code",
   "execution_count": null,
   "id": "4eb99b86-352d-45f3-a584-0bf8aa7195d5",
   "metadata": {},
   "outputs": [],
   "source": [
    "inventory_df_unique = inventory_df[\"film_id\"].unique()"
   ]
  },
  {
   "cell_type": "code",
   "execution_count": null,
   "id": "a8896b2c-b725-49e6-ae3b-4f1db9ef7984",
   "metadata": {},
   "outputs": [],
   "source": [
    "not_in_inventory_df = film_df[~film_df[\"film_id\"].isin(inventory_df_unique)]"
   ]
  },
  {
   "cell_type": "code",
   "execution_count": null,
   "id": "ffcecbc1-1f4b-408a-8afb-733cf42e771b",
   "metadata": {
    "scrolled": true
   },
   "outputs": [],
   "source": [
    "result_df = not_in_inventory_df[[\"title\",\"rental_rate\"]]\n",
    "result_df"
   ]
  },
  {
   "cell_type": "markdown",
   "id": "e7c28697-7685-488e-9c9d-b84e71028356",
   "metadata": {},
   "source": [
    "# Soru 8: Birden fazla DVD'yi iade etmeyen kaç müşteri var?"
   ]
  },
  {
   "cell_type": "code",
   "execution_count": null,
   "id": "85ba963e-b7b5-4f54-a034-143fa751c42d",
   "metadata": {},
   "outputs": [],
   "source": [
    "import sqlite3\n",
    "import pandas as pd\n",
    "conn = sqlite3.connect(\"sqlite-sakila.db\")"
   ]
  },
  {
   "cell_type": "code",
   "execution_count": null,
   "id": "d85b4794-ec39-456c-a25b-ddd7d8bd03eb",
   "metadata": {},
   "outputs": [],
   "source": [
    "rental_df = pd.read_sql_query(\"SELECT * FROM rental\",conn)"
   ]
  },
  {
   "cell_type": "code",
   "execution_count": null,
   "id": "b4b337ef-1386-46db-9c87-57ee7485f7c6",
   "metadata": {},
   "outputs": [],
   "source": [
    "not_returned = rental_df[rental_df[\"return_date\"].isna()]"
   ]
  },
  {
   "cell_type": "code",
   "execution_count": null,
   "id": "43ecee29-610b-4f56-9fc8-d218c82aadbb",
   "metadata": {},
   "outputs": [],
   "source": [
    "grouped = not_returned.groupby(\"customer_id\").agg(rental_count=(\"rental_id\", \"count\")).reset_index()\n",
    "multiple_unreturned = grouped[grouped[\"rental_count\"] > 1]"
   ]
  },
  {
   "cell_type": "code",
   "execution_count": null,
   "id": "25bbfbc2-0877-4405-a9c1-4344a262569c",
   "metadata": {},
   "outputs": [],
   "source": [
    "customer_count = multiple_unreturned[\"customer_id\"].nunique()\n",
    "print(f\"Birden fazla DVD'yi iade etmeyen müşteri sayısı: {customer_count}\")"
   ]
  },
  {
   "cell_type": "markdown",
   "id": "e676a698-b283-4b87-90c6-4b618e8abbae",
   "metadata": {},
   "source": [
    "# Soru 9: Her müşteri kaç film kiraladı?"
   ]
  },
  {
   "cell_type": "code",
   "execution_count": null,
   "id": "f36ff933-0098-41f2-9945-870260b5d402",
   "metadata": {},
   "outputs": [],
   "source": [
    "import sqlite3\n",
    "import pandas as pd\n",
    "conn = sqlite3.connect(\"sqlite-sakila.db\")"
   ]
  },
  {
   "cell_type": "code",
   "execution_count": null,
   "id": "6c99ff29-c0c3-4268-a750-86f67d63926f",
   "metadata": {},
   "outputs": [],
   "source": [
    "customer_df = pd.read_sql_query(\"SELECT * FROM customer\", conn)\n",
    "rental_df = pd.read_sql_query(\"SELECT * FROM rental\", conn)"
   ]
  },
  {
   "cell_type": "code",
   "execution_count": null,
   "id": "e0f76fc9-9c3f-4630-945b-8bfee5514266",
   "metadata": {},
   "outputs": [],
   "source": [
    "merge_df = pd.merge(customer_df, rental_df, on=\"customer_id\")"
   ]
  },
  {
   "cell_type": "code",
   "execution_count": null,
   "id": "3a9cece4-6cd0-46cf-aefc-0649e012608b",
   "metadata": {},
   "outputs": [],
   "source": [
    "rental_count_df = merge_df.groupby([\"first_name\", \"last_name\"]).agg(rental_count=(\"rental_id\", \"count\"))\n",
    "rental_count_df"
   ]
  },
  {
   "cell_type": "markdown",
   "id": "473f1fe1-a7c4-4092-8da8-f15098acf10b",
   "metadata": {},
   "source": [
    "# Soru 10: Türlerine göre en çok kiralanan filmler ve bunlara ne kadar ödendi?"
   ]
  },
  {
   "cell_type": "code",
   "execution_count": null,
   "id": "f3ddb0e8-b2bf-4453-a64a-0873c6a7fe5d",
   "metadata": {},
   "outputs": [],
   "source": [
    "import sqlite3\n",
    "import pandas as pd\n",
    "conn = sqlite3.connect(\"sqlite-sakila.db\")"
   ]
  },
  {
   "cell_type": "code",
   "execution_count": null,
   "id": "711e1a8f-6ea1-491b-a142-c9d7d34cb48f",
   "metadata": {},
   "outputs": [],
   "source": [
    "category_df = pd.read_sql_query(\"SELECT * FROM category\", conn)\n",
    "film_category_df = pd.read_sql_query(\"SELECT * FROM film_category\", conn)\n",
    "film_df = pd.read_sql_query(\"SELECT * FROM film\", conn)\n",
    "inventory_df = pd.read_sql_query(\"SELECT * FROM inventory\", conn)\n",
    "rental_df = pd.read_sql_query(\"SELECT * FROM rental\", conn)\n",
    "payment_df = pd.read_sql_query(\"SELECT * FROM payment\", conn)"
   ]
  },
  {
   "cell_type": "code",
   "execution_count": null,
   "id": "26b4612d-bf25-4c3c-973f-fae317d742cc",
   "metadata": {},
   "outputs": [],
   "source": [
    "film_df = film_df.drop(columns=[\"last_update\"])\n",
    "inventory_df = inventory_df.drop(columns=[\"last_update\"])\n",
    "rental_df = rental_df.drop(columns=[\"last_update\"])\n",
    "payment_df = payment_df.drop(columns=[\"last_update\"])"
   ]
  },
  {
   "cell_type": "code",
   "execution_count": null,
   "id": "37802cea-91bd-4d2e-8dda-a734c417173a",
   "metadata": {},
   "outputs": [],
   "source": [
    "cat_filmcat = pd.merge(category_df, film_category_df, on=\"category_id\")\n",
    "cat_film = pd.merge(cat_filmcat, film_df, on=\"film_id\")\n",
    "cat_film_inv = pd.merge(cat_film, inventory_df, on=\"film_id\")\n",
    "cat_film_inv_rental = pd.merge(cat_film_inv, rental_df, on=\"inventory_id\")\n",
    "full_df = pd.merge(cat_film_inv_rental, payment_df, on=\"rental_id\")"
   ]
  },
  {
   "cell_type": "code",
   "execution_count": null,
   "id": "b18d8652-f01b-44e0-bc4b-ebd3cb1e5663",
   "metadata": {},
   "outputs": [],
   "source": [
    "result_df = full_df.groupby([\"name\", \"title\"]).agg(rental_count=(\"rental_id\", \"count\"),total_revenue=(\"amount\", \"sum\"))\n",
    "result_df"
   ]
  },
  {
   "cell_type": "markdown",
   "id": "b1be0b46-cf00-4935-93aa-5b497ef04d76",
   "metadata": {},
   "source": [
    "# Soru 11: Tür ve Tarihe Göre Kiralama Sayısı ve Gelir"
   ]
  },
  {
   "cell_type": "code",
   "execution_count": null,
   "id": "1691a785-0e3b-476d-a3bb-e9b2e7aada93",
   "metadata": {},
   "outputs": [],
   "source": [
    "import sqlite3\n",
    "import pandas as pd\n",
    "conn = sqlite3.connect(\"sqlite-sakila.db\")"
   ]
  },
  {
   "cell_type": "code",
   "execution_count": null,
   "id": "ca4e24c8-9074-413c-8e95-26b79e75e281",
   "metadata": {},
   "outputs": [],
   "source": [
    "category_df = pd.read_sql_query(\"SELECT * FROM category\", conn)\n",
    "film_category_df = pd.read_sql_query(\"SELECT * FROM film_category\", conn)\n",
    "film_df = pd.read_sql_query(\"SELECT * FROM film\", conn)\n",
    "inventory_df = pd.read_sql_query(\"SELECT * FROM inventory\", conn)\n",
    "rental_df = pd.read_sql_query(\"SELECT * FROM rental\", conn)\n",
    "payment_df = pd.read_sql_query(\"SELECT * FROM payment\", conn)"
   ]
  },
  {
   "cell_type": "code",
   "execution_count": null,
   "id": "3f2fb7a5-9349-4fba-861d-e0b732cd860d",
   "metadata": {},
   "outputs": [],
   "source": [
    "film_df = film_df.drop(columns=[\"last_update\"])\n",
    "inventory_df = inventory_df.drop(columns=[\"last_update\"])\n",
    "rental_df = rental_df.drop(columns=[\"last_update\"])\n",
    "payment_df = payment_df.drop(columns=[\"last_update\"])"
   ]
  },
  {
   "cell_type": "code",
   "execution_count": null,
   "id": "1339337d-122b-437a-b00f-52b2ad5999c1",
   "metadata": {},
   "outputs": [],
   "source": [
    "cat_filmcat = pd.merge(category_df, film_category_df, on=\"category_id\")\n",
    "cat_film = pd.merge(cat_filmcat, film_df, on=\"film_id\")\n",
    "cat_film_inv = pd.merge(cat_film, inventory_df, on=\"film_id\")\n",
    "cat_film_inv_rental = pd.merge(cat_film_inv, rental_df, on=\"inventory_id\")\n",
    "full_df = pd.merge(cat_film_inv_rental, payment_df, on=\"rental_id\")"
   ]
  },
  {
   "cell_type": "code",
   "execution_count": null,
   "id": "06800afa-0782-4628-8797-c3699b7cf990",
   "metadata": {},
   "outputs": [],
   "source": [
    "full_df[\"rental_date\"] = pd.to_datetime(full_df[\"rental_date\"]).dt.date"
   ]
  },
  {
   "cell_type": "code",
   "execution_count": null,
   "id": "f28cdee9-7876-4de6-9b84-468602398aa4",
   "metadata": {},
   "outputs": [],
   "source": [
    "grouped_df = full_df.groupby([\"name\", \"rental_date\"]).agg(rental_count=(\"rental_id\", \"count\"),total_revenue=(\"amount\", \"sum\"))"
   ]
  },
  {
   "cell_type": "code",
   "execution_count": null,
   "id": "ef0b1c2a-24c0-46df-91d1-4188d07608c4",
   "metadata": {},
   "outputs": [],
   "source": [
    "grouped_df"
   ]
  },
  {
   "cell_type": "markdown",
   "id": "56be2514-f610-4e65-88a1-08e576e91613",
   "metadata": {},
   "source": [
    "# Soru 12: Kiralanabilir Filmler İçin Türlerine Göre Her Filmin Kaç Kez Kiralandığı"
   ]
  },
  {
   "cell_type": "code",
   "execution_count": null,
   "id": "543a5f35-f589-4bfe-966c-df4bd5c8b843",
   "metadata": {},
   "outputs": [],
   "source": [
    "import sqlite3\n",
    "import pandas as pd\n",
    "conn = sqlite3.connect(\"sqlite-sakila.db\")"
   ]
  },
  {
   "cell_type": "code",
   "execution_count": null,
   "id": "3314c107-4c78-422d-b7c4-1cdda61dfa79",
   "metadata": {},
   "outputs": [],
   "source": [
    "category_df = pd.read_sql_query(\"SELECT * FROM category\", conn)\n",
    "film_category_df = pd.read_sql_query(\"SELECT * FROM film_category\", conn)\n",
    "film_df = pd.read_sql_query(\"SELECT * FROM film\", conn)\n",
    "inventory_df = pd.read_sql_query(\"SELECT * FROM inventory\", conn)\n",
    "rental_df = pd.read_sql_query(\"SELECT * FROM rental\", conn)"
   ]
  },
  {
   "cell_type": "code",
   "execution_count": null,
   "id": "8b9a709d-4681-447c-9805-d42528ac605f",
   "metadata": {},
   "outputs": [],
   "source": [
    "category_df = category_df.drop(columns=[\"last_update\"])\n",
    "film_category_df = film_category_df.drop(columns=[\"last_update\"])\n",
    "film_df = film_df.drop(columns=[\"last_update\"])\n",
    "inventory_df = inventory_df.drop(columns=[\"last_update\"])\n",
    "rental_df = rental_df.drop(columns=[\"last_update\"])"
   ]
  },
  {
   "cell_type": "code",
   "execution_count": null,
   "id": "1478dfa8-64ea-47b1-ac70-13e52ecef18d",
   "metadata": {},
   "outputs": [],
   "source": [
    "cat_filmcat = pd.merge(category_df, film_category_df, on=\"category_id\")\n",
    "cat_film = pd.merge(cat_filmcat, film_df, on=\"film_id\")\n",
    "cat_film_inv = pd.merge(cat_film, inventory_df, on=\"film_id\")\n",
    "full_df = pd.merge(cat_film_inv, rental_df, on=\"inventory_id\")"
   ]
  },
  {
   "cell_type": "code",
   "execution_count": null,
   "id": "bc9ffb38-c3fd-430a-addb-983b7d67bab5",
   "metadata": {},
   "outputs": [],
   "source": [
    "rental_counts_df = full_df.groupby([\"name\", \"title\"]).agg(rental_count=(\"rental_id\", \"count\"))"
   ]
  },
  {
   "cell_type": "code",
   "execution_count": null,
   "id": "65d524b7-c849-4823-b4dd-a74057b51ad3",
   "metadata": {},
   "outputs": [],
   "source": [
    "rental_counts_df"
   ]
  },
  {
   "attachments": {},
   "cell_type": "markdown",
   "id": "0887d351-40b2-4adb-b2ff-48bd31fccc40",
   "metadata": {},
   "source": [
    "# Soru 13: En çok rafta bekleyen filmler"
   ]
  },
  {
   "cell_type": "code",
   "execution_count": null,
   "id": "f0c609dc-d11f-40bf-9aa7-e8cb00604bff",
   "metadata": {},
   "outputs": [],
   "source": [
    "import sqlite3\n",
    "import pandas as pd\n",
    "from datetime import datetime\n",
    "conn = sqlite3.connect(\"sqlite-sakila.db\")"
   ]
  },
  {
   "cell_type": "code",
   "execution_count": null,
   "id": "a709eb7d-5f5c-4ba9-8085-ebdb4c16982d",
   "metadata": {},
   "outputs": [],
   "source": [
    "film_df = pd.read_sql_query(\"SELECT * FROM film\", conn)\n",
    "inventory_df = pd.read_sql_query(\"SELECT * FROM inventory\", conn)\n",
    "rental_df = pd.read_sql_query(\"SELECT * FROM rental\", conn)"
   ]
  },
  {
   "cell_type": "code",
   "execution_count": null,
   "id": "ac654675-8758-49a5-8b3a-f82598dde8dd",
   "metadata": {},
   "outputs": [],
   "source": [
    "film_df = film_df.drop(columns=[\"last_update\"])\n",
    "inventory_df = inventory_df.drop(columns=[\"last_update\"])\n",
    "rental_df = rental_df.drop(columns=[\"last_update\"])"
   ]
  },
  {
   "cell_type": "code",
   "execution_count": null,
   "id": "8f863645-3fd9-4894-951e-7ad4a356c375",
   "metadata": {},
   "outputs": [],
   "source": [
    "film_inventory = pd.merge(film_df, inventory_df, on=\"film_id\")\n",
    "film_inventory_rental = pd.merge(film_inventory, rental_df, on=\"inventory_id\")"
   ]
  },
  {
   "cell_type": "code",
   "execution_count": null,
   "id": "c0225bff-8c8e-402c-80bf-a504843dc005",
   "metadata": {},
   "outputs": [],
   "source": [
    "not_returned = film_inventory_rental[film_inventory_rental[\"return_date\"].isna()].copy()"
   ]
  },
  {
   "cell_type": "code",
   "execution_count": null,
   "id": "cc14c759-a940-4c41-a791-bcf6835a5798",
   "metadata": {},
   "outputs": [],
   "source": [
    "not_returned[\"rental_date\"] = pd.to_datetime(not_returned[\"rental_date\"])\n",
    "today = pd.to_datetime(datetime.now().date())\n",
    "not_returned[\"days_on_shelf\"] = (today - not_returned[\"rental_date\"]).dt.days"
   ]
  },
  {
   "cell_type": "code",
   "execution_count": null,
   "id": "b3c11565-6be4-473a-87ab-47cd75340d52",
   "metadata": {},
   "outputs": [],
   "source": [
    "result_df = not_returned[[\"title\", \"days_on_shelf\"]].sort_values(\"days_on_shelf\", ascending=False)"
   ]
  },
  {
   "cell_type": "code",
   "execution_count": null,
   "id": "4502971c-a403-4a46-ab69-0bd85d8a6b86",
   "metadata": {},
   "outputs": [],
   "source": [
    "result_df"
   ]
  },
  {
   "cell_type": "markdown",
   "id": "e966204f-4af6-4871-933c-fa2a9beb0fd0",
   "metadata": {},
   "source": [
    "# Soru 14: Geç, Erken ve Zamanında İade Edilen Kiralanmış Filmler"
   ]
  },
  {
   "cell_type": "code",
   "execution_count": null,
   "id": "a874c3d8-e6f1-4932-aad0-e6acf24cece0",
   "metadata": {},
   "outputs": [],
   "source": [
    "import sqlite3\n",
    "import pandas as pd\n",
    "from datetime import datetime\n",
    "conn = sqlite3.connect(\"sqlite-sakila.db\")"
   ]
  },
  {
   "cell_type": "code",
   "execution_count": null,
   "id": "89e73b54-352b-4373-bf17-3a8126a59897",
   "metadata": {},
   "outputs": [],
   "source": [
    "rental_df = pd.read_sql_query(\"SELECT * FROM rental\", conn)\n",
    "inventory_df = pd.read_sql_query(\"SELECT * FROM inventory\", conn)\n",
    "film_df = pd.read_sql_query(\"SELECT * FROM film\", conn)"
   ]
  },
  {
   "cell_type": "code",
   "execution_count": null,
   "id": "c9a54d17-762c-41d4-9833-efe4b7c7f10d",
   "metadata": {},
   "outputs": [],
   "source": [
    "inv_film = pd.merge(inventory_df, film_df, on=\"film_id\")\n",
    "full_df = pd.merge(rental_df, inv_film, on=\"inventory_id\")"
   ]
  },
  {
   "cell_type": "code",
   "execution_count": null,
   "id": "c6137cbe-61f4-4964-b2cb-e7bd2d761a3e",
   "metadata": {},
   "outputs": [],
   "source": [
    "full_df[\"rental_date\"] = pd.to_datetime(full_df[\"rental_date\"])\n",
    "full_df[\"return_date\"] = pd.to_datetime(full_df[\"return_date\"])"
   ]
  },
  {
   "cell_type": "code",
   "execution_count": null,
   "id": "76b528d8-ff60-49f3-8762-ad5e1ac75ad7",
   "metadata": {},
   "outputs": [],
   "source": [
    "full_df[\"expected_return\"] = full_df[\"rental_date\"] + pd.to_timedelta(full_df[\"rental_duration\"], unit=\"D\")"
   ]
  },
  {
   "cell_type": "code",
   "execution_count": null,
   "id": "3644f8a1-6cfd-47c7-b2c8-a20b5ac8d08c",
   "metadata": {},
   "outputs": [],
   "source": [
    "return_date = full_df[\"return_date\"].dt.date\n",
    "expected_date = full_df[\"expected_return\"].dt.date"
   ]
  },
  {
   "cell_type": "code",
   "execution_count": null,
   "id": "07c4a576-7f5d-4a01-9f67-a88b5a3d6819",
   "metadata": {},
   "outputs": [],
   "source": [
    "late_returns = (return_date > expected_date).sum()\n",
    "early_returns = (return_date < expected_date).sum()\n",
    "on_time_returns = (return_date == expected_date).sum()"
   ]
  },
  {
   "cell_type": "code",
   "execution_count": null,
   "id": "14615d5d-1e5e-40e3-93dd-18526f029a07",
   "metadata": {},
   "outputs": [],
   "source": [
    "print(\"Geç iade edilenler:\", late_returns)\n",
    "print(\"Erken iade edilenler:\", early_returns)\n",
    "print(\"Tam zamanında iade edilenler:\", on_time_returns)"
   ]
  },
  {
   "cell_type": "markdown",
   "id": "c582e257-1a2e-4601-b524-c49aec72409f",
   "metadata": {},
   "source": [
    "# Soru 15: Hangi müşteri en çok DVD kiralamış?"
   ]
  },
  {
   "cell_type": "code",
   "execution_count": null,
   "id": "16929107-b068-4395-9fff-1f0f47eacc74",
   "metadata": {},
   "outputs": [],
   "source": [
    "import sqlite3\n",
    "import pandas as pd\n",
    "conn = sqlite3.connect(\"sqlite-sakila.db\")"
   ]
  },
  {
   "cell_type": "code",
   "execution_count": null,
   "id": "b4c5e39c-d46f-46d6-befd-a2cc5e70936c",
   "metadata": {},
   "outputs": [],
   "source": [
    "customer_df = pd.read_sql_query(\"SELECT * FROM customer\", conn)\n",
    "rental_df = pd.read_sql_query(\"SELECT * FROM rental\", conn)"
   ]
  },
  {
   "cell_type": "code",
   "execution_count": null,
   "id": "8c8e1cfd-2120-461f-a20e-93215bc211a4",
   "metadata": {},
   "outputs": [],
   "source": [
    "cust_rent = pd.merge(customer_df, rental_df, on=\"customer_id\")"
   ]
  },
  {
   "cell_type": "code",
   "execution_count": null,
   "id": "25ead12b-c243-4fd3-b6f6-c97dbc6a371f",
   "metadata": {},
   "outputs": [],
   "source": [
    "rental_counts = cust_rent.groupby([\"first_name\", \"last_name\"]).agg(rental_count=(\"rental_id\", \"count\"))"
   ]
  },
  {
   "cell_type": "code",
   "execution_count": null,
   "id": "1e077732-63eb-494d-b2e9-a7750cf45d6b",
   "metadata": {},
   "outputs": [],
   "source": [
    "rental_counts_sorted = rental_counts.sort_values(\"rental_count\", ascending=False)\n",
    "rental_counts_sorted"
   ]
  },
  {
   "cell_type": "markdown",
   "id": "742e5422-60d1-4597-9340-2279481d8a4d",
   "metadata": {},
   "source": [
    "# Soru 16: En popüler film kategorisi nedir?"
   ]
  },
  {
   "cell_type": "code",
   "execution_count": null,
   "id": "32e4fe6c-d7f2-4b44-be00-07c4dc75b1a2",
   "metadata": {},
   "outputs": [],
   "source": [
    "import sqlite3\n",
    "import pandas as pd\n",
    "conn = sqlite3.connect(\"sqlite-sakila.db\")"
   ]
  },
  {
   "cell_type": "code",
   "execution_count": null,
   "id": "0c042687-0b59-475c-b65e-c057bc5d63bd",
   "metadata": {},
   "outputs": [],
   "source": [
    "category_df = pd.read_sql_query(\"SELECT * FROM category\", conn)\n",
    "film_category_df = pd.read_sql_query(\"SELECT * FROM film_category\", conn)\n",
    "film_df = pd.read_sql_query(\"SELECT * FROM film\", conn)\n",
    "inventory_df = pd.read_sql_query(\"SELECT * FROM inventory\", conn)\n",
    "rental_df = pd.read_sql_query(\"SELECT * FROM rental\", conn)"
   ]
  },
  {
   "cell_type": "code",
   "execution_count": null,
   "id": "9fd9f022-dabd-4134-bf23-6fad617e05ec",
   "metadata": {},
   "outputs": [],
   "source": [
    "category_df = category_df.drop(columns=[\"last_update\"])\n",
    "film_category_df = film_category_df.drop(columns=[\"last_update\"])\n",
    "film_df = film_df.drop(columns=[\"last_update\"])\n",
    "inventory_df = inventory_df.drop(columns=[\"last_update\"])\n",
    "rental_df = rental_df.drop(columns=[\"last_update\"])"
   ]
  },
  {
   "cell_type": "code",
   "execution_count": null,
   "id": "638cceaf-14c3-4bbb-a67d-e41b89e73473",
   "metadata": {},
   "outputs": [],
   "source": [
    "cat_filmcat = pd.merge(category_df, film_category_df, on=\"category_id\")\n",
    "cat_film = pd.merge(cat_filmcat, film_df, on=\"film_id\")\n",
    "cat_film_inv = pd.merge(cat_film, inventory_df, on=\"film_id\")\n",
    "cat_film_inv_rental = pd.merge(cat_film_inv, rental_df, on=\"inventory_id\")"
   ]
  },
  {
   "cell_type": "code",
   "execution_count": null,
   "id": "343541c5-5cdd-452a-a532-1dfe014752b7",
   "metadata": {},
   "outputs": [],
   "source": [
    "rental_counts = cat_film_inv_rental.groupby(\"name\").agg(rental_count=(\"rental_id\", \"count\"))"
   ]
  },
  {
   "cell_type": "code",
   "execution_count": null,
   "id": "58d0dc32-ba2c-42cd-9785-eb26d1954613",
   "metadata": {},
   "outputs": [],
   "source": [
    "most_rented_category = rental_counts.sort_values(\"rental_count\", ascending=False).head(1)\n",
    "most_rented_category"
   ]
  },
  {
   "cell_type": "markdown",
   "id": "0325a405-d382-4822-a1ae-b152bf84af6e",
   "metadata": {},
   "source": [
    "# Soru 17: Hangi çalışan en çok kiralama işlemi gerçekleştirmiş?"
   ]
  },
  {
   "cell_type": "code",
   "execution_count": null,
   "id": "0aa3bb6e-9fee-4ad3-8340-970262ae0a64",
   "metadata": {},
   "outputs": [],
   "source": [
    "import sqlite3\n",
    "import pandas as pd\n",
    "conn = sqlite3.connect(\"sqlite-sakila.db\")"
   ]
  },
  {
   "cell_type": "code",
   "execution_count": null,
   "id": "5271f4c7-b1a5-4398-ab4b-36915eaae6bf",
   "metadata": {},
   "outputs": [],
   "source": [
    "staff_df = pd.read_sql_query(\"SELECT * FROM staff\", conn)\n",
    "rental_df = pd.read_sql_query(\"SELECT * FROM rental\", conn)"
   ]
  },
  {
   "cell_type": "code",
   "execution_count": null,
   "id": "628f4c9c-298d-4adf-bf9a-3eb895757077",
   "metadata": {},
   "outputs": [],
   "source": [
    "staff_rental = pd.merge(staff_df, rental_df, on=\"staff_id\")"
   ]
  },
  {
   "cell_type": "code",
   "execution_count": null,
   "id": "c5b9b765-dc5b-411b-9baa-58bb10ea1372",
   "metadata": {},
   "outputs": [],
   "source": [
    "rental_counts = staff_rental.groupby([\"first_name\", \"last_name\"]).agg(rental_count=(\"rental_id\", \"count\"))"
   ]
  },
  {
   "cell_type": "code",
   "execution_count": null,
   "id": "ece1df91-22cc-405f-93be-af561c3ef9ac",
   "metadata": {},
   "outputs": [],
   "source": [
    "most_active_staff = rental_counts.sort_values(\"rental_count\", ascending=False).head(1)\n",
    "most_active_staff "
   ]
  },
  {
   "cell_type": "markdown",
   "id": "c01bb88b-7c84-4719-946b-829c61cbc464",
   "metadata": {},
   "source": [
    "# Soru 18: En çok geliri hangi film getirmiş? "
   ]
  },
  {
   "cell_type": "code",
   "execution_count": null,
   "id": "318af291-f243-421f-9762-48798f13e7b8",
   "metadata": {},
   "outputs": [],
   "source": [
    "import sqlite3\n",
    "import pandas as pd\n",
    "conn = sqlite3.connect(\"sqlite-sakila.db\")"
   ]
  },
  {
   "cell_type": "code",
   "execution_count": null,
   "id": "649143fe-b918-4f2b-b9c4-4093c4329000",
   "metadata": {},
   "outputs": [],
   "source": [
    "film_df = pd.read_sql_query(\"SELECT * FROM film\", conn)\n",
    "inventory_df = pd.read_sql_query(\"SELECT * FROM inventory\", conn)\n",
    "rental_df = pd.read_sql_query(\"SELECT * FROM rental\", conn)\n",
    "payment_df = pd.read_sql_query(\"SELECT * FROM payment\", conn)"
   ]
  },
  {
   "cell_type": "code",
   "execution_count": null,
   "id": "bc35c8c1-90b2-4f9f-8977-0e0459c3056c",
   "metadata": {},
   "outputs": [],
   "source": [
    "film_df = film_df.drop(columns=[\"last_update\"])\n",
    "inventory_df = inventory_df.drop(columns=[\"last_update\"])\n",
    "rental_df = rental_df.drop(columns=[\"last_update\"])"
   ]
  },
  {
   "cell_type": "code",
   "execution_count": null,
   "id": "0cde1fb5-ad2e-4543-8837-3990e9591039",
   "metadata": {},
   "outputs": [],
   "source": [
    "film_inventory = pd.merge(film_df, inventory_df, on=\"film_id\")\n",
    "film_inventory_rental = pd.merge(film_inventory, rental_df, on=\"inventory_id\")\n",
    "full_df = pd.merge(film_inventory_rental, payment_df, on=\"rental_id\")"
   ]
  },
  {
   "cell_type": "code",
   "execution_count": null,
   "id": "3c5cb6c8-6651-429e-a6d7-0ab86b5782ca",
   "metadata": {},
   "outputs": [],
   "source": [
    "revenue_per_film = full_df.groupby(\"title\").agg(total_revenue=(\"amount\", \"sum\"))"
   ]
  },
  {
   "cell_type": "code",
   "execution_count": null,
   "id": "aa8bcb14-9f49-4978-b900-e1ecc909d371",
   "metadata": {},
   "outputs": [],
   "source": [
    "most_profitable_film = revenue_per_film.sort_values(\"total_revenue\", ascending=False).head(1)\n",
    "most_profitable_film"
   ]
  },
  {
   "cell_type": "markdown",
   "id": "7c070cd7-d827-4a72-abe3-a089e539698e",
   "metadata": {},
   "source": [
    "# Soru 19: Her müşteri için toplam harcama miktarını bulun "
   ]
  },
  {
   "cell_type": "code",
   "execution_count": null,
   "id": "3594801f-0481-4c4c-b438-f07a625a84ad",
   "metadata": {},
   "outputs": [],
   "source": [
    "import sqlite3\n",
    "import pandas as pd\n",
    "conn = sqlite3.connect(\"sqlite-sakila.db\")"
   ]
  },
  {
   "cell_type": "code",
   "execution_count": null,
   "id": "a193928a-dc71-45e0-9a9f-87677ca0e6e4",
   "metadata": {},
   "outputs": [],
   "source": [
    "customer_df = pd.read_sql_query(\"SELECT * FROM customer\", conn)\n",
    "rental_df = pd.read_sql_query(\"SELECT * FROM rental\", conn)\n",
    "payment_df = pd.read_sql_query(\"SELECT * FROM payment\", conn)"
   ]
  },
  {
   "cell_type": "code",
   "execution_count": null,
   "id": "96e8c267-c19f-40b9-afbf-8f97fe83e292",
   "metadata": {},
   "outputs": [],
   "source": [
    "cust_rental = pd.merge(customer_df, rental_df, on=\"customer_id\")\n",
    "cust_rental_payment = pd.merge(cust_rental, payment_df, on=\"rental_id\")"
   ]
  },
  {
   "cell_type": "code",
   "execution_count": null,
   "id": "8b4ba2a9-59e6-4965-9350-0bb17473f116",
   "metadata": {},
   "outputs": [],
   "source": [
    "total_spent_per_customer = cust_rental_payment.groupby([\"first_name\", \"last_name\"]).agg(total_spent=(\"amount\", \"sum\")).reset_index()"
   ]
  },
  {
   "cell_type": "code",
   "execution_count": null,
   "id": "250f3dad-c60b-4af9-b438-4594e26a7139",
   "metadata": {},
   "outputs": [],
   "source": [
    "total_spent_per_customer"
   ]
  },
  {
   "cell_type": "markdown",
   "id": "72ae1e5e-ffa4-4c90-8e5b-e67c60f40839",
   "metadata": {},
   "source": [
    "# Soru 20: Her kategorideki toplam kiralama sayısını ve gelirleri bulun "
   ]
  },
  {
   "cell_type": "code",
   "execution_count": null,
   "id": "0dcb714b-3d05-413a-86e9-c2f584c50586",
   "metadata": {},
   "outputs": [],
   "source": [
    "import sqlite3\n",
    "import pandas as pd\n",
    "conn = sqlite3.connect(\"sqlite-sakila.db\")"
   ]
  },
  {
   "cell_type": "code",
   "execution_count": null,
   "id": "60ad7a76-be89-4b65-a471-c6d733380fa6",
   "metadata": {},
   "outputs": [],
   "source": [
    "category_df = pd.read_sql_query(\"SELECT * FROM category\", conn)\n",
    "film_category_df = pd.read_sql_query(\"SELECT * FROM film_category\", conn)\n",
    "film_df = pd.read_sql_query(\"SELECT * FROM film\", conn)\n",
    "inventory_df = pd.read_sql_query(\"SELECT * FROM inventory\", conn)\n",
    "rental_df = pd.read_sql_query(\"SELECT * FROM rental\", conn)\n",
    "payment_df = pd.read_sql_query(\"SELECT * FROM payment\", conn)"
   ]
  },
  {
   "cell_type": "code",
   "execution_count": null,
   "id": "5d2f9767-a8b0-4c86-866e-00f8c386f8c3",
   "metadata": {},
   "outputs": [],
   "source": [
    "film_df = film_df.drop(columns=[\"last_update\"])\n",
    "inventory_df = inventory_df.drop(columns=[\"last_update\"])\n",
    "rental_df = rental_df.drop(columns=[\"last_update\"])"
   ]
  },
  {
   "cell_type": "code",
   "execution_count": null,
   "id": "b33a259f-26eb-4fb3-87ec-087c263e8545",
   "metadata": {},
   "outputs": [],
   "source": [
    "cat_filmcat = pd.merge(category_df, film_category_df, on=\"category_id\")\n",
    "cat_film = pd.merge(cat_filmcat, film_df, on=\"film_id\")\n",
    "cat_film_inv = pd.merge(cat_film, inventory_df, on=\"film_id\")\n",
    "cat_film_inv_rental = pd.merge(cat_film_inv, rental_df, on=\"inventory_id\")\n",
    "full_df = pd.merge(cat_film_inv_rental, payment_df, on=\"rental_id\")"
   ]
  },
  {
   "cell_type": "code",
   "execution_count": null,
   "id": "66062dba-416b-4a5e-a2d3-612addb09fb0",
   "metadata": {},
   "outputs": [],
   "source": [
    "result = full_df.groupby(\"name\").agg(rental_count=(\"rental_id\", \"count\"),total_revenue=(\"amount\", \"sum\"))"
   ]
  },
  {
   "cell_type": "code",
   "execution_count": null,
   "id": "e6341e20-3941-4888-ab42-7f1b56d66bb5",
   "metadata": {},
   "outputs": [],
   "source": [
    "result "
   ]
  },
  {
   "cell_type": "markdown",
   "id": "71a0cf69-2105-4119-b1cb-41fe4415f038",
   "metadata": {},
   "source": [
    "# Soru 21: En uzun süre kirada kalmış filmleri bulun "
   ]
  },
  {
   "cell_type": "code",
   "execution_count": null,
   "id": "3f4019f5-7858-4af5-8406-c0db788c232d",
   "metadata": {},
   "outputs": [],
   "source": [
    "import sqlite3\n",
    "import pandas as pd\n",
    "conn = sqlite3.connect(\"sqlite-sakila.db\")"
   ]
  },
  {
   "cell_type": "code",
   "execution_count": null,
   "id": "2a9d162c-5a3f-4071-bde4-040a64ef487a",
   "metadata": {},
   "outputs": [],
   "source": [
    "film_df = pd.read_sql_query(\"SELECT * FROM film\", conn)\n",
    "inventory_df = pd.read_sql_query(\"SELECT * FROM inventory\", conn)\n",
    "rental_df = pd.read_sql_query(\"SELECT * FROM rental\", conn)"
   ]
  },
  {
   "cell_type": "code",
   "execution_count": null,
   "id": "c2747a5b-ca57-4aeb-8dce-c1fcc5188ac9",
   "metadata": {},
   "outputs": [],
   "source": [
    "film_inv = pd.merge(film_df, inventory_df, on=\"film_id\")\n",
    "film_rental = pd.merge(film_inv, rental_df, on=\"inventory_id\")"
   ]
  },
  {
   "cell_type": "code",
   "execution_count": null,
   "id": "5f747935-4e01-45c5-814c-85d8f4b8e039",
   "metadata": {},
   "outputs": [],
   "source": [
    "film_rental[\"rental_date\"] = pd.to_datetime(film_rental[\"rental_date\"])\n",
    "film_rental[\"return_date\"] = pd.to_datetime(film_rental[\"return_date\"])"
   ]
  },
  {
   "cell_type": "code",
   "execution_count": null,
   "id": "0f22b6f7-82be-4db9-a858-5b40b731aac3",
   "metadata": {},
   "outputs": [],
   "source": [
    "returned = film_rental[film_rental[\"return_date\"].notna()]"
   ]
  },
  {
   "cell_type": "code",
   "execution_count": null,
   "id": "7a8c92fd-87fb-442e-9c73-d6e316a705c6",
   "metadata": {
    "scrolled": true
   },
   "outputs": [],
   "source": [
    "returned[\"rental_duration\"] = (returned[\"return_date\"] - returned[\"rental_date\"]).dt.days"
   ]
  },
  {
   "cell_type": "code",
   "execution_count": null,
   "id": "c517c0f3-d302-4899-8e27-cd887183cd25",
   "metadata": {},
   "outputs": [],
   "source": [
    "max_durations = returned.groupby(\"title\").agg(max_rental_duration=(\"rental_duration\", \"max\"))"
   ]
  },
  {
   "cell_type": "code",
   "execution_count": null,
   "id": "9140c1fc-2c6f-4062-a05f-1ece241800f0",
   "metadata": {},
   "outputs": [],
   "source": [
    "longest_rented = max_durations.sort_values(\"max_rental_duration\", ascending=False)\n",
    "longest_rented"
   ]
  },
  {
   "cell_type": "markdown",
   "id": "0de53c45-0816-4d87-ab46-e04fc568a1ab",
   "metadata": {},
   "source": [
    "# Soru 22: En az kiralanan 5 film hangileridir?  "
   ]
  },
  {
   "cell_type": "code",
   "execution_count": null,
   "id": "fe3ae5c7-d56f-4089-b721-deeb4db4c324",
   "metadata": {},
   "outputs": [],
   "source": [
    "import sqlite3\n",
    "import pandas as pd\n",
    "conn = sqlite3.connect(\"sqlite-sakila.db\")"
   ]
  },
  {
   "cell_type": "code",
   "execution_count": null,
   "id": "29103069-4385-441b-a243-310c001012f8",
   "metadata": {},
   "outputs": [],
   "source": [
    "film_df = pd.read_sql_query(\"SELECT * FROM film\", conn)\n",
    "inventory_df = pd.read_sql_query(\"SELECT * FROM inventory\", conn)\n",
    "rental_df = pd.read_sql_query(\"SELECT * FROM rental\", conn)"
   ]
  },
  {
   "cell_type": "code",
   "execution_count": null,
   "id": "cdfc3b13-192b-4f45-af7e-12d94d29e32a",
   "metadata": {},
   "outputs": [],
   "source": [
    "film_inv = pd.merge(film_df, inventory_df, on=\"film_id\")\n",
    "film_rental = pd.merge(film_inv, rental_df, on=\"inventory_id\")"
   ]
  },
  {
   "cell_type": "code",
   "execution_count": null,
   "id": "9a9371ac-2070-48c0-b5fa-720fb2c99ed6",
   "metadata": {},
   "outputs": [],
   "source": [
    "rental_counts = film_rental.groupby(\"title\").agg(rental_count=(\"rental_id\", \"count\"))"
   ]
  },
  {
   "cell_type": "code",
   "execution_count": null,
   "id": "00f654c2-3896-4bb1-99c1-ec484204e164",
   "metadata": {
    "scrolled": true
   },
   "outputs": [],
   "source": [
    "least_rented = rental_counts.sort_values(\"rental_count\", ascending=True).head(5)\n",
    "least_rented"
   ]
  },
  {
   "cell_type": "markdown",
   "id": "49d705eb-eede-40f7-94eb-64c425012908",
   "metadata": {},
   "source": [
    "# Soru 24: En fazla kazanç sağlayan 5 müşteriyi bulun  "
   ]
  },
  {
   "cell_type": "code",
   "execution_count": null,
   "id": "1140dfb5-a4bb-425c-a6f4-e65f23aa0f36",
   "metadata": {},
   "outputs": [],
   "source": [
    "import sqlite3\n",
    "import pandas as pd\n",
    "conn = sqlite3.connect(\"sqlite-sakila.db\")"
   ]
  },
  {
   "cell_type": "code",
   "execution_count": null,
   "id": "50a3c54e-571b-49e9-b18f-1370897ce2d2",
   "metadata": {},
   "outputs": [],
   "source": [
    "customer_df = pd.read_sql_query(\"SELECT * FROM customer\", conn)\n",
    "rental_df = pd.read_sql_query(\"SELECT * FROM rental\", conn)\n",
    "payment_df = pd.read_sql_query(\"SELECT * FROM payment\", conn)"
   ]
  },
  {
   "cell_type": "code",
   "execution_count": null,
   "id": "22b93f09-3547-4463-aa5f-a442b0f73052",
   "metadata": {},
   "outputs": [],
   "source": [
    "cust_rental = pd.merge(customer_df, rental_df, on=\"customer_id\")\n",
    "cust_rental_payment = pd.merge(cust_rental, payment_df, on=\"rental_id\")"
   ]
  },
  {
   "cell_type": "code",
   "execution_count": null,
   "id": "7166d451-03a4-43ac-9981-7599294fea96",
   "metadata": {},
   "outputs": [],
   "source": [
    "top_customers = cust_rental_payment.groupby([\"first_name\", \"last_name\"]).agg(total_spent=(\"amount\", \"sum\"))"
   ]
  },
  {
   "cell_type": "code",
   "execution_count": null,
   "id": "61013f23-8462-4e97-97da-bfe7e91aa97f",
   "metadata": {},
   "outputs": [],
   "source": [
    "top_5 = top_customers.sort_values(\"total_spent\", ascending=False).head(5)\n",
    "top_5"
   ]
  },
  {
   "cell_type": "markdown",
   "id": "3e911445-843f-448f-b145-2a07e497e5cc",
   "metadata": {},
   "source": [
    "# Soru 25: Her filmin ortalama kiralanma süresini bulun  "
   ]
  },
  {
   "cell_type": "code",
   "execution_count": null,
   "id": "2164cabc-714f-4f62-8862-60fbb08e71eb",
   "metadata": {},
   "outputs": [],
   "source": [
    "import sqlite3\n",
    "import pandas as pd\n",
    "conn = sqlite3.connect(\"sqlite-sakila.db\")"
   ]
  },
  {
   "cell_type": "code",
   "execution_count": null,
   "id": "cfeb8237-3478-4b2a-890d-b7af6e76e009",
   "metadata": {},
   "outputs": [],
   "source": [
    "film_df = pd.read_sql_query(\"SELECT * FROM film\", conn)\n",
    "inventory_df = pd.read_sql_query(\"SELECT * FROM inventory\", conn)\n",
    "rental_df = pd.read_sql_query(\"SELECT * FROM rental\", conn)"
   ]
  },
  {
   "cell_type": "code",
   "execution_count": null,
   "id": "d108e51e-bd40-4d29-aba5-2fa911ca7e5f",
   "metadata": {},
   "outputs": [],
   "source": [
    "film_inv = pd.merge(film_df, inventory_df, on=\"film_id\")\n",
    "film_rental = pd.merge(film_inv, rental_df, on=\"inventory_id\")"
   ]
  },
  {
   "cell_type": "code",
   "execution_count": null,
   "id": "5df1ce99-0a40-4685-b52b-58e599ee4211",
   "metadata": {},
   "outputs": [],
   "source": [
    "returned[\"rental_date\"] = pd.to_datetime(returned[\"rental_date\"])\n",
    "returned[\"return_date\"] = pd.to_datetime(returned[\"return_date\"])"
   ]
  },
  {
   "cell_type": "code",
   "execution_count": null,
   "id": "5192431c-bcf4-4a28-bb10-3c0747896d6d",
   "metadata": {},
   "outputs": [],
   "source": [
    "returned[\"rental_duration\"] = (returned[\"return_date\"] - returned[\"rental_date\"]).dt.days"
   ]
  },
  {
   "cell_type": "code",
   "execution_count": null,
   "id": "e5a6c945-7d0f-4f4a-a6b6-f483aa02ec4a",
   "metadata": {},
   "outputs": [],
   "source": [
    "avg_duration = returned.groupby(\"title\").agg(avg_rental_duration=(\"rental_duration\", \"mean\"))\n",
    "avg_duration"
   ]
  },
  {
   "cell_type": "markdown",
   "id": "029f000d-41fb-4c04-9ceb-c22d8486f9bd",
   "metadata": {},
   "source": [
    "# Soru 26: Her türde en popüler filmi bulun "
   ]
  },
  {
   "cell_type": "code",
   "execution_count": null,
   "id": "c604997f-1287-4a36-8cb8-49a3c25b4005",
   "metadata": {},
   "outputs": [],
   "source": [
    "import sqlite3\n",
    "import pandas as pd\n",
    "conn = sqlite3.connect(\"sqlite-sakila.db\")"
   ]
  },
  {
   "cell_type": "code",
   "execution_count": null,
   "id": "ea8a9168-4c0c-4b12-9835-57488b76573e",
   "metadata": {},
   "outputs": [],
   "source": [
    "category_df = pd.read_sql_query(\"SELECT * FROM category\", conn)\n",
    "film_category_df = pd.read_sql_query(\"SELECT * FROM film_category\", conn)\n",
    "film_df = pd.read_sql_query(\"SELECT * FROM film\", conn)\n",
    "inventory_df = pd.read_sql_query(\"SELECT * FROM inventory\", conn)\n",
    "rental_df = pd.read_sql_query(\"SELECT * FROM rental\", conn)"
   ]
  },
  {
   "cell_type": "code",
   "execution_count": null,
   "id": "33d2270c-4118-40ab-a9fd-82938c9604d9",
   "metadata": {},
   "outputs": [],
   "source": [
    "film_df = film_df.drop(columns=[\"last_update\"])\n",
    "inventory_df = inventory_df.drop(columns=[\"last_update\"])\n",
    "rental_df = rental_df.drop(columns=[\"last_update\"])"
   ]
  },
  {
   "cell_type": "code",
   "execution_count": null,
   "id": "b8676657-0ffa-4752-bfe5-4b3a4a495daf",
   "metadata": {},
   "outputs": [],
   "source": [
    "cat_filmcats = pd.merge(category_df, film_category_df, on=\"category_id\")\n",
    "cat_film = pd.merge(cat_filmcats, film_df, on=\"film_id\")\n",
    "cat_inv = pd.merge(cat_film, inventory_df, on=\"film_id\")\n",
    "cat_film_rental = pd.merge(cat_inv, rental_df, on=\"inventory_id\")"
   ]
  },
  {
   "cell_type": "code",
   "execution_count": null,
   "id": "31123ea0-ccf6-4b79-9ddb-376e327ef56c",
   "metadata": {},
   "outputs": [],
   "source": [
    "print(cat_film_rental.columns)"
   ]
  },
  {
   "cell_type": "code",
   "execution_count": null,
   "id": "ec05427d-a6b4-40a0-8933-1ba2dda5b179",
   "metadata": {},
   "outputs": [],
   "source": [
    "grouped = cat_film_rental.groupby([\"name\", \"title\"]).agg(rental_count=(\"rental_id\", \"count\")).reset_index()"
   ]
  },
  {
   "cell_type": "code",
   "execution_count": null,
   "id": "49674b82-58b0-48df-8748-2881ccbd3149",
   "metadata": {},
   "outputs": [],
   "source": [
    "print(grouped.columns)"
   ]
  },
  {
   "cell_type": "code",
   "execution_count": null,
   "id": "eafeab27-4541-4961-8984-6176ee7bb624",
   "metadata": {
    "scrolled": true
   },
   "outputs": [],
   "source": [
    "top_film_per_genre = grouped.sort_values([\"name\", \"rental_count\"], ascending=[True, False]) \\\n",
    ".drop_duplicates(subset=\"name\", keep=\"first\") \\\n",
    ".rename(columns={\"name\": \"genre\"})\n",
    "top_film_per_genre"
   ]
  },
  {
   "cell_type": "markdown",
   "id": "418d3837-04dd-4013-af2f-a3c3761966f6",
   "metadata": {},
   "source": [
    "# Soru 27: Her türde en fazla gelir sağlayan filmi bulun "
   ]
  },
  {
   "cell_type": "code",
   "execution_count": null,
   "id": "a03cbadc-7da1-4b57-a22c-8c3323b6839a",
   "metadata": {},
   "outputs": [],
   "source": [
    "import sqlite3\n",
    "import pandas as pd\n",
    "conn = sqlite3.connect(\"sqlite-sakila.db\")"
   ]
  },
  {
   "cell_type": "code",
   "execution_count": null,
   "id": "9728d7b3-3724-4596-bdc7-d5882b854666",
   "metadata": {},
   "outputs": [],
   "source": [
    "category_df = pd.read_sql_query(\"SELECT * FROM category\", conn)\n",
    "film_category_df = pd.read_sql_query(\"SELECT * FROM film_category\", conn)\n",
    "film_df = pd.read_sql_query(\"SELECT * FROM film\", conn)\n",
    "inventory_df = pd.read_sql_query(\"SELECT * FROM inventory\", conn)\n",
    "rental_df = pd.read_sql_query(\"SELECT * FROM rental\", conn)\n",
    "payment_df = pd.read_sql_query(\"SELECT * FROM payment\", conn)"
   ]
  },
  {
   "cell_type": "code",
   "execution_count": null,
   "id": "5e67afa4-4816-4cbd-a668-3bbc782ceb91",
   "metadata": {},
   "outputs": [],
   "source": [
    "film_df = film_df.drop(columns=[\"last_update\"])\n",
    "inventory_df = inventory_df.drop(columns=[\"last_update\"])\n",
    "rental_df = rental_df.drop(columns=[\"last_update\"])"
   ]
  },
  {
   "cell_type": "code",
   "execution_count": null,
   "id": "e0dfb587-ce2f-4fd4-8d16-d457da4ff681",
   "metadata": {},
   "outputs": [],
   "source": [
    "step1 = pd.merge(category_df, film_category_df, on=\"category_id\")\n",
    "step2 = pd.merge(step1, film_df, on=\"film_id\")\n",
    "step3 = pd.merge(step2, inventory_df, on=\"film_id\")\n",
    "step4 = pd.merge(step3, rental_df, on=\"inventory_id\")\n",
    "full_df = pd.merge(step4, payment_df, on=\"rental_id\")"
   ]
  },
  {
   "cell_type": "code",
   "execution_count": null,
   "id": "bcaa6fc0-1672-47fe-825b-9eebd0cf4bca",
   "metadata": {},
   "outputs": [],
   "source": [
    "grouped = full_df.groupby([\"name\", \"title\"]).agg(total_revenue=(\"amount\", \"sum\")).reset_index()"
   ]
  },
  {
   "cell_type": "code",
   "execution_count": null,
   "id": "b6512686-425b-4d6d-bf19-0c0cb1f34b51",
   "metadata": {},
   "outputs": [],
   "source": [
    "top_revenue_per_genre = grouped.sort_values([\"name\", \"total_revenue\"], ascending=[True, False]) \\\n",
    ".drop_duplicates(subset=\"name\", keep=\"first\") \\\n",
    ".rename(columns={\"name\": \"genre\"})\n",
    "top_revenue_per_genre"
   ]
  },
  {
   "cell_type": "markdown",
   "id": "e15be8e5-5e46-4145-bb4e-cc32e603ac9a",
   "metadata": {},
   "source": [
    "# Soru 28: En çok DVD iade etmeyen müşteriyi bulun "
   ]
  },
  {
   "cell_type": "code",
   "execution_count": null,
   "id": "03432abc-f19b-4d5b-8ac2-53762aefb0b1",
   "metadata": {},
   "outputs": [],
   "source": [
    "import sqlite3\n",
    "import pandas as pd\n",
    "conn = sqlite3.connect(\"sqlite-sakila.db\")"
   ]
  },
  {
   "cell_type": "code",
   "execution_count": null,
   "id": "5a7f545f-18fe-4179-a37f-4e1f59c0e2b7",
   "metadata": {},
   "outputs": [],
   "source": [
    "customer_df = pd.read_sql_query(\"SELECT * FROM customer\", conn)\n",
    "rental_df = pd.read_sql_query(\"SELECT * FROM rental\", conn)"
   ]
  },
  {
   "cell_type": "code",
   "execution_count": null,
   "id": "cff5e4df-2b90-4de8-bcc1-9fcbdfc976fe",
   "metadata": {},
   "outputs": [],
   "source": [
    "merged = pd.merge(customer_df, rental_df, on=\"customer_id\")"
   ]
  },
  {
   "cell_type": "code",
   "execution_count": null,
   "id": "fd514914-fc75-40e7-8463-6302e3be6e0d",
   "metadata": {},
   "outputs": [],
   "source": [
    "not_returned = merged[merged[\"return_date\"].isna()]"
   ]
  },
  {
   "cell_type": "code",
   "execution_count": null,
   "id": "5443b5ae-1ad5-4668-a2cf-b2c75dddff05",
   "metadata": {},
   "outputs": [],
   "source": [
    "unreturned_counts = not_returned.groupby([\"first_name\", \"last_name\"]).agg(unreturned_count=(\"rental_id\", \"count\"))"
   ]
  },
  {
   "cell_type": "code",
   "execution_count": null,
   "id": "f59fa572-7975-4b4e-a357-2c9c73906186",
   "metadata": {},
   "outputs": [],
   "source": [
    "top_customer = unreturned_counts.sort_values(\"unreturned_count\", ascending=False).head(1)\n",
    "top_customer"
   ]
  },
  {
   "cell_type": "markdown",
   "id": "e74b9219-5ec8-4110-8f46-ecc3a76b852e",
   "metadata": {},
   "source": [
    "# Soru 29: En fazla kiralama yapan 5 çalışanı bulun  "
   ]
  },
  {
   "cell_type": "code",
   "execution_count": null,
   "id": "b79eb595-96f4-4a47-9c2b-cc43b7feb816",
   "metadata": {},
   "outputs": [],
   "source": [
    "import sqlite3\n",
    "import pandas as pd\n",
    "conn = sqlite3.connect(\"sqlite-sakila.db\")"
   ]
  },
  {
   "cell_type": "code",
   "execution_count": null,
   "id": "b51af4a7-1663-427c-9f5a-3368dfb3d3c8",
   "metadata": {},
   "outputs": [],
   "source": [
    "rental_df = pd.read_sql_query(\"SELECT * FROM rental\", conn)\n",
    "staff_df = pd.read_sql_query(\"SELECT * FROM staff\", conn)"
   ]
  },
  {
   "cell_type": "code",
   "execution_count": null,
   "id": "4e16c7f7-b968-4df6-978f-a4c4007b05eb",
   "metadata": {},
   "outputs": [],
   "source": [
    "merged = pd.merge(staff_df, rental_df, on=\"staff_id\")"
   ]
  },
  {
   "cell_type": "code",
   "execution_count": null,
   "id": "bff1fa8a-0243-4a1c-b4b1-ff894fbbc214",
   "metadata": {},
   "outputs": [],
   "source": [
    "rental_counts = merged.groupby([\"first_name\", \"last_name\"]).agg(rental_count=(\"rental_id\", \"count\"))"
   ]
  },
  {
   "cell_type": "code",
   "execution_count": null,
   "id": "6bf25455-f092-4b3b-967c-9f78f1505816",
   "metadata": {},
   "outputs": [],
   "source": [
    "top_staff = rental_counts.sort_values(\"rental_count\", ascending=False).head(5)\n",
    "top_staff"
   ]
  },
  {
   "cell_type": "markdown",
   "id": "97de4dee-45bb-4a3f-baa6-963a64db729b",
   "metadata": {},
   "source": [
    "# Soru 30: En fazla kiralama yapan 5 müşteri hangi şubeden kiralama yapmış?"
   ]
  },
  {
   "cell_type": "code",
   "execution_count": null,
   "id": "a46e15ef-6705-4e96-b83e-95926a825709",
   "metadata": {},
   "outputs": [],
   "source": [
    "import sqlite3\n",
    "import pandas as pd\n",
    "conn = sqlite3.connect(\"sqlite-sakila.db\")"
   ]
  },
  {
   "cell_type": "code",
   "execution_count": null,
   "id": "57d4f069-166e-4c49-9dc7-85ad54756754",
   "metadata": {},
   "outputs": [],
   "source": [
    "customer_df = pd.read_sql_query(\"SELECT * FROM customer\", conn)\n",
    "rental_df = pd.read_sql_query(\"SELECT * FROM rental\", conn)\n",
    "inventory_df = pd.read_sql_query(\"SELECT inventory_id, store_id FROM inventory\", conn)\n",
    "store_df = pd.read_sql_query(\"SELECT * FROM store\", conn)"
   ]
  },
  {
   "cell_type": "code",
   "execution_count": null,
   "id": "dfe160a9-031b-49b8-8c18-49b4ce1bca07",
   "metadata": {},
   "outputs": [],
   "source": [
    "customer_df = customer_df.drop(columns=[\"store_id\"])"
   ]
  },
  {
   "cell_type": "code",
   "execution_count": null,
   "id": "0c836912-3a3b-4485-9c8e-c2e7f10f8e86",
   "metadata": {
    "scrolled": true
   },
   "outputs": [],
   "source": [
    "merged1 = pd.merge(customer_df, rental_df, on=\"customer_id\")\n",
    "merged2 = pd.merge(merged1, inventory_df, on=\"inventory_id\")\n",
    "merged3 = pd.merge(merged2, store_df, on=\"store_id\")"
   ]
  },
  {
   "cell_type": "code",
   "execution_count": null,
   "id": "5c96c301-2417-4e93-8d89-6d80a771fd1c",
   "metadata": {},
   "outputs": [],
   "source": [
    "top_customers = (merged3.groupby([\"first_name\", \"last_name\", \"store_id\"]).agg(rental_count=(\"rental_id\", \"count\"))\n",
    ".reset_index().sort_values(\"rental_count\", ascending=False).head(5))\n",
    "top_customers"
   ]
  },
  {
   "cell_type": "markdown",
   "id": "34f1be6e-f63f-479c-986f-7c213c96e9cd",
   "metadata": {},
   "source": [
    "# Soru 31: Her türde en az kiralanan filmi bulun"
   ]
  },
  {
   "cell_type": "code",
   "execution_count": null,
   "id": "027e95c6-78e5-4173-aadf-aa15ec80a84c",
   "metadata": {},
   "outputs": [],
   "source": [
    "import sqlite3\n",
    "import pandas as pd\n",
    "conn = sqlite3.connect(\"sqlite-sakila.db\")"
   ]
  },
  {
   "cell_type": "code",
   "execution_count": null,
   "id": "245b4257-a3f1-4a7c-a564-570327894973",
   "metadata": {},
   "outputs": [],
   "source": [
    "category_df = pd.read_sql_query(\"SELECT * FROM category\", conn)\n",
    "film_category_df = pd.read_sql_query(\"SELECT * FROM film_category\", conn)\n",
    "film_df = pd.read_sql_query(\"SELECT * FROM film\", conn)\n",
    "inventory_df = pd.read_sql_query(\"SELECT * FROM inventory\", conn)\n",
    "rental_df = pd.read_sql_query(\"SELECT * FROM rental\", conn)"
   ]
  },
  {
   "cell_type": "code",
   "execution_count": null,
   "id": "e0b70a04-979c-421a-8aea-0b91045d31d0",
   "metadata": {},
   "outputs": [],
   "source": [
    "film_df = film_df.drop(columns=[\"last_update\"])\n",
    "inventory_df = inventory_df.drop(columns=[\"last_update\"])\n",
    "rental_df = rental_df.drop(columns=[\"last_update\"])"
   ]
  },
  {
   "cell_type": "code",
   "execution_count": null,
   "id": "29aece56-781f-4acd-ba60-90d92535e0a8",
   "metadata": {},
   "outputs": [],
   "source": [
    "cat_filmcat = pd.merge(category_df, film_category_df, on=\"category_id\")\n",
    "cat_film = pd.merge(cat_filmcat, film_df, on=\"film_id\")\n",
    "cat_film_inv = pd.merge(cat_film, inventory_df, on=\"film_id\")\n",
    "cat_film_rental = pd.merge(cat_film_inv, rental_df, on=\"inventory_id\")"
   ]
  },
  {
   "cell_type": "code",
   "execution_count": null,
   "id": "94a3cc43-a2af-4c4c-a0e6-44cd14402a7d",
   "metadata": {},
   "outputs": [],
   "source": [
    "grouped = cat_film_rental.groupby([\"name\", \"title\"]).agg(rental_count=(\"rental_id\", \"count\")).reset_index()"
   ]
  },
  {
   "cell_type": "code",
   "execution_count": null,
   "id": "83123362-3224-4eac-bebe-db57d3fb0c88",
   "metadata": {},
   "outputs": [],
   "source": [
    "least_rented = grouped.sort_values([\"name\", \"rental_count\"], ascending=[True, True]) \\\n",
    ".drop_duplicates(subset=\"name\", keep=\"first\") \\\n",
    ".rename(columns={\"name\": \"genre\"})"
   ]
  },
  {
   "cell_type": "code",
   "execution_count": null,
   "id": "d8ce5f9b-be7a-4dfa-a9e5-c6e325e29149",
   "metadata": {},
   "outputs": [],
   "source": [
    "print(least_rented[[\"genre\", \"title\", \"rental_count\"]])"
   ]
  },
  {
   "cell_type": "markdown",
   "id": "254facfa-1719-4acc-b7e7-41e0c6bdd479",
   "metadata": {},
   "source": [
    "# Soru 32: En çok kiralama yapan 5 müşteri hangi şehirde?  "
   ]
  },
  {
   "cell_type": "code",
   "execution_count": null,
   "id": "606166e6-2973-4132-8771-0503544befea",
   "metadata": {},
   "outputs": [],
   "source": [
    "import sqlite3\n",
    "import pandas as pd\n",
    "conn = sqlite3.connect(\"sqlite-sakila.db\")"
   ]
  },
  {
   "cell_type": "code",
   "execution_count": null,
   "id": "5fcb69f5-60e7-4c8a-941d-107c6dc81cf3",
   "metadata": {},
   "outputs": [],
   "source": [
    "customer_df = pd.read_sql_query(\"SELECT * FROM customer\", conn)\n",
    "address_df = pd.read_sql_query(\"SELECT * FROM address\", conn)\n",
    "city_df = pd.read_sql_query(\"SELECT * FROM city\", conn)\n",
    "rental_df = pd.read_sql_query(\"SELECT * FROM rental\", conn)"
   ]
  },
  {
   "cell_type": "code",
   "execution_count": null,
   "id": "3b064507-5027-4e66-8eec-12dda1877fb7",
   "metadata": {},
   "outputs": [],
   "source": [
    "customer_df = customer_df.drop(columns=[\"last_update\"])\n",
    "address_df = address_df.drop(columns=[\"last_update\"])\n",
    "city_df = city_df.drop(columns=[\"last_update\"])\n",
    "rental_df = rental_df.drop(columns=[\"last_update\"])"
   ]
  },
  {
   "cell_type": "code",
   "execution_count": null,
   "id": "b6d8f9c2-7c13-47da-ba5b-6ec1ac1bdf10",
   "metadata": {},
   "outputs": [],
   "source": [
    "cust_addr = pd.merge(customer_df, address_df, on=\"address_id\")\n",
    "cust_addr_city = pd.merge(cust_addr, city_df, on=\"city_id\")\n",
    "cust_addr_city_rental = pd.merge(cust_addr_city, rental_df, on=\"customer_id\")"
   ]
  },
  {
   "cell_type": "code",
   "execution_count": null,
   "id": "de4043b2-2450-4be1-92a6-e1aa3c6c3123",
   "metadata": {},
   "outputs": [],
   "source": [
    "grouped = cust_addr_city_rental.groupby([\"first_name\", \"last_name\", \"city\"]).agg(rental_count=(\"rental_id\", \"count\"))\n",
    "top_customers = grouped.sort_values(\"rental_count\", ascending=False).head(5)\n",
    "top_customers"
   ]
  },
  {
   "cell_type": "markdown",
   "id": "9524ac4d-a8ae-450a-94dd-8c13c8533271",
   "metadata": {},
   "source": [
    "# Soru 33: En çok kazanç sağlayan 5 müşteriyi hangi şehirde bulun?  "
   ]
  },
  {
   "cell_type": "code",
   "execution_count": null,
   "id": "546f8dcf-f5e4-4e12-92eb-e395c220060a",
   "metadata": {},
   "outputs": [],
   "source": [
    "import sqlite3\n",
    "import pandas as pd\n",
    "conn = sqlite3.connect(\"sqlite-sakila.db\")"
   ]
  },
  {
   "cell_type": "code",
   "execution_count": null,
   "id": "b3addab1-6d09-40b0-80f7-5b4a32c434e7",
   "metadata": {},
   "outputs": [],
   "source": [
    "customer_df = pd.read_sql_query(\"SELECT * FROM customer\", conn)\n",
    "address_df = pd.read_sql_query(\"SELECT * FROM address\", conn)\n",
    "city_df = pd.read_sql_query(\"SELECT * FROM city\", conn)\n",
    "rental_df = pd.read_sql_query(\"SELECT * FROM rental\", conn)\n",
    "payment_df = pd.read_sql_query(\"SELECT * FROM payment\", conn)"
   ]
  },
  {
   "cell_type": "code",
   "execution_count": null,
   "id": "799b3a0e-07a0-4a77-b465-cf2cfa38a14b",
   "metadata": {},
   "outputs": [],
   "source": [
    "customer_df = customer_df.drop(columns=[\"last_update\"])\n",
    "address_df = address_df.drop(columns=[\"last_update\"])\n",
    "city_df = city_df.drop(columns=[\"last_update\"])\n",
    "rental_df = rental_df.drop(columns=[\"last_update\"])\n",
    "payment_df = payment_df.drop(columns=[\"last_update\"])"
   ]
  },
  {
   "cell_type": "code",
   "execution_count": null,
   "id": "47993682-65e5-4b13-a4c3-e23a19a5293a",
   "metadata": {},
   "outputs": [],
   "source": [
    "cust_addr = pd.merge(customer_df, address_df, on=\"address_id\")\n",
    "cust_addr_city = pd.merge(cust_addr, city_df, on=\"city_id\")\n",
    "cust_rental = pd.merge(cust_addr_city, rental_df, on=\"customer_id\")\n",
    "full_df = pd.merge(cust_rental, payment_df, on=\"rental_id\")"
   ]
  },
  {
   "cell_type": "code",
   "execution_count": null,
   "id": "ffa895e9-9ef6-4fa0-8aff-50906eeefbf3",
   "metadata": {},
   "outputs": [],
   "source": [
    "grouped = full_df.groupby([\"first_name\", \"last_name\", \"city\"]).agg(total_spent=(\"amount\", \"sum\"))\n",
    "top_spenders = grouped.sort_values(\"total_spent\", ascending=False).head(5)"
   ]
  },
  {
   "cell_type": "code",
   "execution_count": null,
   "id": "86fd4445-4df9-4a0c-b133-77534db24726",
   "metadata": {},
   "outputs": [],
   "source": [
    "top_spenders"
   ]
  },
  {
   "cell_type": "markdown",
   "id": "d76c09c5-e8b5-4c3d-a13e-7d7edb89e6e9",
   "metadata": {},
   "source": [
    "# Soru 34: En çok kiralanan 5 filmi hangi şehirde bulun? "
   ]
  },
  {
   "cell_type": "code",
   "execution_count": null,
   "id": "33b4a9ad-7bf7-43e6-8e71-cfb23d09909b",
   "metadata": {},
   "outputs": [],
   "source": [
    "import sqlite3\n",
    "import pandas as pd\n",
    "conn = sqlite3.connect(\"sqlite-sakila.db\")"
   ]
  },
  {
   "cell_type": "code",
   "execution_count": null,
   "id": "f0db98a2-2277-4b77-bf0d-243ed2d1f5fa",
   "metadata": {},
   "outputs": [],
   "source": [
    "city_df = pd.read_sql_query(\"SELECT * FROM city\", conn)\n",
    "address_df = pd.read_sql_query(\"SELECT * FROM address\", conn)\n",
    "customer_df = pd.read_sql_query(\"SELECT * FROM customer\", conn)\n",
    "rental_df = pd.read_sql_query(\"SELECT * FROM rental\", conn)\n",
    "inventory_df = pd.read_sql_query(\"SELECT * FROM inventory\", conn)\n",
    "film_df = pd.read_sql_query(\"SELECT * FROM film\", conn)"
   ]
  },
  {
   "cell_type": "code",
   "execution_count": null,
   "id": "9ba80354-a22b-4990-afac-be2f40521430",
   "metadata": {},
   "outputs": [],
   "source": [
    "customer_df = customer_df.drop(columns=[\"last_update\"])\n",
    "address_df = address_df.drop(columns=[\"last_update\"])\n",
    "city_df = city_df.drop(columns=[\"last_update\"])\n",
    "rental_df = rental_df.drop(columns=[\"last_update\"])\n",
    "film_df = film_df.drop(columns=[\"last_update\"])\n",
    "inventory_df = inventory_df.drop(columns=[\"last_update\"])"
   ]
  },
  {
   "cell_type": "code",
   "execution_count": null,
   "id": "f76f1b35-d4da-4e4d-9b17-76ffcc7b328c",
   "metadata": {},
   "outputs": [],
   "source": [
    "step1 = pd.merge(city_df, address_df, on=\"city_id\")\n",
    "step2 = pd.merge(step1, customer_df, on=\"address_id\")\n",
    "step3 = pd.merge(step2, rental_df, on=\"customer_id\")\n",
    "step4 = pd.merge(step3, inventory_df, on=\"inventory_id\")\n",
    "full_df = pd.merge(step4, film_df, on=\"film_id\")"
   ]
  },
  {
   "cell_type": "code",
   "execution_count": null,
   "id": "dd16814f-5045-498d-bea8-b874637ee891",
   "metadata": {},
   "outputs": [],
   "source": [
    "grouped = full_df.groupby([\"city\", \"title\"]).agg(rental_count=(\"rental_id\", \"count\"))\n",
    "top5 = grouped.sort_values(\"rental_count\", ascending=False).head(5)"
   ]
  },
  {
   "cell_type": "code",
   "execution_count": null,
   "id": "24027aab-e827-420d-a5b6-9a8f34b60d7d",
   "metadata": {},
   "outputs": [],
   "source": [
    "top5"
   ]
  },
  {
   "cell_type": "markdown",
   "id": "6734c497-c383-4da8-93ea-e59b57d21076",
   "metadata": {},
   "source": [
    "# Soru 35: En az kiralanan 5 filmi hangi şehirde bulun?  "
   ]
  },
  {
   "cell_type": "code",
   "execution_count": null,
   "id": "50d0c8f3-194d-4160-8259-b9dce4312181",
   "metadata": {},
   "outputs": [],
   "source": [
    "import sqlite3\n",
    "import pandas as pd\n",
    "conn = sqlite3.connect(\"sqlite-sakila.db\")"
   ]
  },
  {
   "cell_type": "code",
   "execution_count": null,
   "id": "538ab996-6353-4cbb-bf82-887399407001",
   "metadata": {},
   "outputs": [],
   "source": [
    "city_df = pd.read_sql_query(\"SELECT * FROM city\", conn)\n",
    "address_df = pd.read_sql_query(\"SELECT * FROM address\", conn)\n",
    "customer_df = pd.read_sql_query(\"SELECT * FROM customer\", conn)\n",
    "rental_df = pd.read_sql_query(\"SELECT * FROM rental\", conn)\n",
    "inventory_df = pd.read_sql_query(\"SELECT * FROM inventory\", conn)\n",
    "film_df = pd.read_sql_query(\"SELECT * FROM film\", conn)"
   ]
  },
  {
   "cell_type": "code",
   "execution_count": null,
   "id": "232bd09b-c9c0-487d-a94f-56f8ca94c78f",
   "metadata": {},
   "outputs": [],
   "source": [
    "customer_df = customer_df.drop(columns=[\"last_update\"])\n",
    "address_df = address_df.drop(columns=[\"last_update\"])\n",
    "city_df = city_df.drop(columns=[\"last_update\"])\n",
    "rental_df = rental_df.drop(columns=[\"last_update\"])\n",
    "film_df = film_df.drop(columns=[\"last_update\"])\n",
    "inventory_df = inventory_df.drop(columns=[\"last_update\"])"
   ]
  },
  {
   "cell_type": "code",
   "execution_count": null,
   "id": "0f9bcd23-f06f-4630-98e8-bb6dabfad37c",
   "metadata": {},
   "outputs": [],
   "source": [
    "step1 = pd.merge(city_df, address_df, on=\"city_id\")\n",
    "step2 = pd.merge(step1, customer_df, on=\"address_id\")\n",
    "step3 = pd.merge(step2, rental_df, on=\"customer_id\")\n",
    "step4 = pd.merge(step3, inventory_df, on=\"inventory_id\")\n",
    "full_df = pd.merge(step4, film_df, on=\"film_id\")"
   ]
  },
  {
   "cell_type": "code",
   "execution_count": null,
   "id": "bc7b890b-21e1-4209-9e2f-bf363b51d2dd",
   "metadata": {},
   "outputs": [],
   "source": [
    "grouped = full_df.groupby([\"city\", \"title\"]).agg(rental_count=(\"rental_id\", \"count\"))\n",
    "least5 = grouped.sort_values(\"rental_count\", ascending=True).head(5)"
   ]
  },
  {
   "cell_type": "code",
   "execution_count": null,
   "id": "e95ed0aa-3cfa-4353-9720-ad2808651cdb",
   "metadata": {},
   "outputs": [],
   "source": [
    "least5"
   ]
  },
  {
   "cell_type": "markdown",
   "id": "bf1edb9d-83de-4edc-8c16-1f9d23446074",
   "metadata": {},
   "source": [
    "# Soru 36: En çok kazanç sağlayan 5 filmi hangi şehirde bulun?  "
   ]
  },
  {
   "cell_type": "code",
   "execution_count": null,
   "id": "f37c4105-be04-4000-b50c-700351d3885a",
   "metadata": {},
   "outputs": [],
   "source": [
    "import sqlite3\n",
    "import pandas as pd\n",
    "conn = sqlite3.connect(\"sqlite-sakila.db\")"
   ]
  },
  {
   "cell_type": "code",
   "execution_count": null,
   "id": "1ad93c99-4da9-4e10-a4ed-7f805964530c",
   "metadata": {},
   "outputs": [],
   "source": [
    "city_df = pd.read_sql_query(\"SELECT * FROM city\", conn)\n",
    "address_df = pd.read_sql_query(\"SELECT * FROM address\", conn)\n",
    "customer_df = pd.read_sql_query(\"SELECT * FROM customer\", conn)\n",
    "rental_df = pd.read_sql_query(\"SELECT * FROM rental\", conn)\n",
    "inventory_df = pd.read_sql_query(\"SELECT * FROM inventory\", conn)\n",
    "film_df = pd.read_sql_query(\"SELECT * FROM film\", conn)\n",
    "payment_df = pd.read_sql_query(\"SELECT * FROM payment\", conn)"
   ]
  },
  {
   "cell_type": "code",
   "execution_count": null,
   "id": "6db88e2c-6027-4dad-b6d3-ba683a9ba5a7",
   "metadata": {},
   "outputs": [],
   "source": [
    "customer_df = customer_df.drop(columns=[\"last_update\"])\n",
    "address_df = address_df.drop(columns=[\"last_update\"])\n",
    "city_df = city_df.drop(columns=[\"last_update\"])\n",
    "rental_df = rental_df.drop(columns=[\"last_update\"])\n",
    "film_df = film_df.drop(columns=[\"last_update\"])\n",
    "inventory_df = inventory_df.drop(columns=[\"last_update\"])"
   ]
  },
  {
   "cell_type": "code",
   "execution_count": null,
   "id": "875a0228-961c-4272-b62d-8d873937691c",
   "metadata": {},
   "outputs": [],
   "source": [
    "step1 = pd.merge(city_df, address_df, on=\"city_id\")\n",
    "step2 = pd.merge(step1, customer_df, on=\"address_id\")\n",
    "step3 = pd.merge(step2, rental_df, on=\"customer_id\")\n",
    "step4 = pd.merge(step3, inventory_df, on=\"inventory_id\")\n",
    "step5 = pd.merge(step4, film_df, on=\"film_id\")\n",
    "full_df = pd.merge(step5, payment_df, on=\"rental_id\")"
   ]
  },
  {
   "cell_type": "code",
   "execution_count": null,
   "id": "5fd7439b-519d-40d8-92fc-c7e99c3667a2",
   "metadata": {},
   "outputs": [],
   "source": [
    "grouped = full_df.groupby([\"city\", \"title\"]).agg(total_revenue=(\"amount\", \"sum\"))"
   ]
  },
  {
   "cell_type": "code",
   "execution_count": null,
   "id": "9cab0a79-ca17-4935-a000-2e080f1b0a47",
   "metadata": {},
   "outputs": [],
   "source": [
    "top5_revenue = grouped.sort_values(\"total_revenue\", ascending=False).head(5)\n",
    "top5_revenue"
   ]
  },
  {
   "cell_type": "markdown",
   "id": "c91e45c1-fbca-4926-98a2-639bec56d86a",
   "metadata": {},
   "source": [
    "# Soru 37: En az kazanç sağlayan 5 filmi hangi şehirde bulun?  "
   ]
  },
  {
   "cell_type": "code",
   "execution_count": null,
   "id": "fa32f3bb-8919-4283-a01c-437c48375cf6",
   "metadata": {},
   "outputs": [],
   "source": [
    "import sqlite3\n",
    "import pandas as pd\n",
    "conn = sqlite3.connect(\"sqlite-sakila.db\")"
   ]
  },
  {
   "cell_type": "code",
   "execution_count": null,
   "id": "b3de88bc-136a-47c5-ad51-d1cb5bd891fc",
   "metadata": {},
   "outputs": [],
   "source": [
    "city_df = pd.read_sql_query(\"SELECT * FROM city\", conn)\n",
    "address_df = pd.read_sql_query(\"SELECT * FROM address\", conn)\n",
    "customer_df = pd.read_sql_query(\"SELECT * FROM customer\", conn)\n",
    "rental_df = pd.read_sql_query(\"SELECT * FROM rental\", conn)\n",
    "inventory_df = pd.read_sql_query(\"SELECT * FROM inventory\", conn)\n",
    "film_df = pd.read_sql_query(\"SELECT * FROM film\", conn)\n",
    "payment_df = pd.read_sql_query(\"SELECT * FROM payment\", conn)"
   ]
  },
  {
   "cell_type": "code",
   "execution_count": null,
   "id": "daef398e-ba5c-4168-bd5e-27a232841262",
   "metadata": {},
   "outputs": [],
   "source": [
    "customer_df = customer_df.drop(columns=[\"last_update\"])\n",
    "address_df = address_df.drop(columns=[\"last_update\"])\n",
    "city_df = city_df.drop(columns=[\"last_update\"])\n",
    "rental_df = rental_df.drop(columns=[\"last_update\"])\n",
    "film_df = film_df.drop(columns=[\"last_update\"])\n",
    "inventory_df = inventory_df.drop(columns=[\"last_update\"])"
   ]
  },
  {
   "cell_type": "code",
   "execution_count": null,
   "id": "86a2db09-a5eb-45ce-9671-df1b80b70a7a",
   "metadata": {},
   "outputs": [],
   "source": [
    "step1 = pd.merge(city_df, address_df, on=\"city_id\")\n",
    "step2 = pd.merge(step1, customer_df, on=\"address_id\")\n",
    "step3 = pd.merge(step2, rental_df, on=\"customer_id\")\n",
    "step4 = pd.merge(step3, inventory_df, on=\"inventory_id\")\n",
    "step5 = pd.merge(step4, film_df, on=\"film_id\")\n",
    "full_df = pd.merge(step5, payment_df, on=\"rental_id\")"
   ]
  },
  {
   "cell_type": "code",
   "execution_count": null,
   "id": "7c12f690-f6ae-41a0-948d-19e657f6eaa9",
   "metadata": {},
   "outputs": [],
   "source": [
    "grouped = full_df.groupby([\"city\", \"title\"]).agg(total_revenue=(\"amount\", \"sum\"))"
   ]
  },
  {
   "cell_type": "code",
   "execution_count": null,
   "id": "a4f8b7c0-c1f9-4a60-ba14-faa58234a7c5",
   "metadata": {},
   "outputs": [],
   "source": [
    "top5_revenue = grouped.sort_values(\"total_revenue\", ascending=True).head(5)\n",
    "top5_revenue"
   ]
  },
  {
   "cell_type": "markdown",
   "id": "a5254f40-6ba3-4885-be8e-04b0434c9a4c",
   "metadata": {},
   "source": [
    "# Soru 38: En fazla kiralama yapan müşteri hangi filmleri kiralamış? "
   ]
  },
  {
   "cell_type": "code",
   "execution_count": null,
   "id": "7a1db094-0514-4f6e-a56b-98d98a4e5030",
   "metadata": {},
   "outputs": [],
   "source": [
    "import sqlite3\n",
    "import pandas as pd\n",
    "conn = sqlite3.connect(\"sqlite-sakila.db\")"
   ]
  },
  {
   "cell_type": "code",
   "execution_count": null,
   "id": "da891c3d-20dc-48e5-bf86-5c081b3f3839",
   "metadata": {},
   "outputs": [],
   "source": [
    "customer_df = pd.read_sql_query(\"SELECT * FROM customer\", conn)\n",
    "rental_df = pd.read_sql_query(\"SELECT * FROM rental\", conn)\n",
    "inventory_df = pd.read_sql_query(\"SELECT * FROM inventory\", conn)\n",
    "film_df = pd.read_sql_query(\"SELECT * FROM film\", conn)\n",
    "film_category_df = pd.read_sql_query(\"SELECT * FROM film_category\", conn)\n",
    "category_df = pd.read_sql_query(\"SELECT * FROM category\", conn)"
   ]
  },
  {
   "cell_type": "code",
   "execution_count": null,
   "id": "70ca8a49-9fe6-478f-914e-2968ea27b7b9",
   "metadata": {},
   "outputs": [],
   "source": [
    "customer_df = customer_df.drop(columns=[\"last_update\"])\n",
    "rental_df = rental_df.drop(columns=[\"last_update\"])\n",
    "film_df = film_df.drop(columns=[\"last_update\"])\n",
    "inventory_df = inventory_df.drop(columns=[\"last_update\"])\n",
    "film_category_df = film_category_df.drop(columns=[\"last_update\"])\n",
    "category_df = category_df.drop(columns=[\"last_update\"])"
   ]
  },
  {
   "cell_type": "code",
   "execution_count": null,
   "id": "9aa033a9-e6dc-4321-8456-0dbbb8a701f9",
   "metadata": {},
   "outputs": [],
   "source": [
    "top_customer_id = rental_df[\"customer_id\"].value_counts().idxmax()"
   ]
  },
  {
   "cell_type": "code",
   "execution_count": null,
   "id": "49051dfa-0ae8-458e-b0cd-32b46917330d",
   "metadata": {},
   "outputs": [],
   "source": [
    "step1 = pd.merge(rental_df, customer_df, on=\"customer_id\")\n",
    "step2 = pd.merge(step1, inventory_df, on=\"inventory_id\")\n",
    "step3 = pd.merge(step2, film_df, on=\"film_id\")\n",
    "step4 = pd.merge(step3, film_category_df, on=\"film_id\")\n",
    "full_df = pd.merge(step4, category_df, on=\"category_id\")"
   ]
  },
  {
   "cell_type": "code",
   "execution_count": null,
   "id": "4f552425-22d7-40f6-b968-430fe9150552",
   "metadata": {},
   "outputs": [],
   "source": [
    "top_customer_df = full_df[full_df[\"customer_id\"] == top_customer_id]"
   ]
  },
  {
   "cell_type": "code",
   "execution_count": null,
   "id": "99e7c5ff-19e7-4874-b4ab-a147a4296b88",
   "metadata": {},
   "outputs": [],
   "source": [
    "result = top_customer_df.groupby([\"first_name\", \"last_name\", \"name\"]).agg(    rental_count=(\"rental_id\", \"count\")\n",
    ").reset_index().rename(columns={\"name\": \"genre\"})\n",
    "result"
   ]
  },
  {
   "cell_type": "markdown",
   "id": "556dc87a-3113-4c8c-bc05-8ce87b3f0451",
   "metadata": {},
   "source": [
    "# Soru 40: En çok kazanç sağlayan müşteri hangi filmleri kiralamış? "
   ]
  },
  {
   "cell_type": "code",
   "execution_count": null,
   "id": "5b69a317-9cc6-440a-b437-f96635be919c",
   "metadata": {},
   "outputs": [],
   "source": [
    "import sqlite3\n",
    "import pandas as pd\n",
    "conn = sqlite3.connect(\"sqlite-sakila.db\")"
   ]
  },
  {
   "cell_type": "code",
   "execution_count": null,
   "id": "c2e0ce1b-4dd6-4dab-80a2-f956be353917",
   "metadata": {},
   "outputs": [],
   "source": [
    "customer_df = pd.read_sql_query(\"SELECT * FROM customer\", conn)\n",
    "rental_df = pd.read_sql_query(\"SELECT * FROM rental\", conn)\n",
    "inventory_df = pd.read_sql_query(\"SELECT * FROM inventory\", conn)\n",
    "film_df = pd.read_sql_query(\"SELECT * FROM film\", conn)\n",
    "payment_df = pd.read_sql_query(\"SELECT * FROM payment\", conn)"
   ]
  },
  {
   "cell_type": "code",
   "execution_count": null,
   "id": "2b6fc162-0497-4125-b6d3-9c59c152f666",
   "metadata": {},
   "outputs": [],
   "source": [
    "step1 = pd.merge(customer_df[[\"customer_id\", \"first_name\", \"last_name\"]], rental_df, on=\"customer_id\")\n",
    "step2 = pd.merge(step1, inventory_df, on=\"inventory_id\")\n",
    "step3 = pd.merge(step2, film_df, on=\"film_id\")\n",
    "full_df = pd.merge(step3, payment_df[[\"rental_id\", \"amount\"]], on=\"rental_id\")"
   ]
  },
  {
   "cell_type": "code",
   "execution_count": null,
   "id": "321ceeff-6d83-4913-bafb-e80d0fa6ec7c",
   "metadata": {},
   "outputs": [],
   "source": [
    "print(full_df.columns)"
   ]
  },
  {
   "cell_type": "code",
   "execution_count": null,
   "id": "20d550b9-dd62-4d78-ae8c-5d94e8ea1521",
   "metadata": {},
   "outputs": [],
   "source": [
    "top_customer_id = full_df.groupby(\"customer_id\")[\"amount\"].sum().idxmax()"
   ]
  },
  {
   "cell_type": "code",
   "execution_count": null,
   "id": "4ac4cb1c-dbee-4940-bd1f-4637454e965b",
   "metadata": {},
   "outputs": [],
   "source": [
    "top_customer_df = full_df[full_df[\"customer_id\"] == top_customer_id]"
   ]
  },
  {
   "cell_type": "code",
   "execution_count": null,
   "id": "8e7f091e-12ef-44a5-a212-697edae5e7a9",
   "metadata": {},
   "outputs": [],
   "source": [
    "print(top_customer_df.columns.tolist())"
   ]
  },
  {
   "cell_type": "code",
   "execution_count": null,
   "id": "50e8fc08-f68c-4dbf-9cb5-ed0552ebd9e7",
   "metadata": {
    "scrolled": true
   },
   "outputs": [],
   "source": [
    "result = top_customer_df.groupby([\"first_name\", \"last_name\", \"title\"]).agg(total_spent=(\"amount\", \"sum\")).reset_index().sort_values(\"total_spent\", ascending=False)\n",
    "result"
   ]
  },
  {
   "cell_type": "markdown",
   "id": "a78463d6-2865-42f0-871d-c13170ebfa7f",
   "metadata": {},
   "source": [
    "# Soru 41: En az kazanç sağlayan müşteri hangi filmleri kiralamış?  "
   ]
  },
  {
   "cell_type": "code",
   "execution_count": null,
   "id": "6d8c280d-c270-4aba-bf1a-1c7016147305",
   "metadata": {},
   "outputs": [],
   "source": [
    "import sqlite3\n",
    "import pandas as pd\n",
    "conn = sqlite3.connect(\"sqlite-sakila.db\")"
   ]
  },
  {
   "cell_type": "code",
   "execution_count": null,
   "id": "13734fc9-e1df-40b6-9c5a-cb87b3ef0e81",
   "metadata": {},
   "outputs": [],
   "source": [
    "customer_df = pd.read_sql_query(\"SELECT * FROM customer\", conn)\n",
    "rental_df = pd.read_sql_query(\"SELECT * FROM rental\", conn)\n",
    "inventory_df = pd.read_sql_query(\"SELECT * FROM inventory\", conn)\n",
    "film_df = pd.read_sql_query(\"SELECT * FROM film\", conn)\n",
    "payment_df = pd.read_sql_query(\"SELECT * FROM payment\", conn)"
   ]
  },
  {
   "cell_type": "code",
   "execution_count": null,
   "id": "8db3d26e-3059-4ff6-a9ed-e81fd5623bc9",
   "metadata": {},
   "outputs": [],
   "source": [
    "step1 = pd.merge(customer_df[[\"customer_id\", \"first_name\", \"last_name\"]], rental_df, on=\"customer_id\")\n",
    "step2 = pd.merge(step1, inventory_df, on=\"inventory_id\")\n",
    "step3 = pd.merge(step2, film_df, on=\"film_id\")\n",
    "full_df = pd.merge(step3, payment_df[[\"rental_id\", \"amount\"]], on=\"rental_id\")"
   ]
  },
  {
   "cell_type": "code",
   "execution_count": null,
   "id": "fa7ba881-d54e-4b5a-93f1-8020d93a12b1",
   "metadata": {},
   "outputs": [],
   "source": [
    "top_customer_id = full_df.groupby(\"customer_id\")[\"amount\"].sum().idxmin()"
   ]
  },
  {
   "cell_type": "code",
   "execution_count": null,
   "id": "15d5c55b-cbe8-404d-82d4-0c180a1e9454",
   "metadata": {},
   "outputs": [],
   "source": [
    "top_customer_df = full_df[full_df[\"customer_id\"] == top_customer_id]"
   ]
  },
  {
   "cell_type": "code",
   "execution_count": null,
   "id": "c7853675-3b28-4c05-8a1b-f39bbff48132",
   "metadata": {},
   "outputs": [],
   "source": [
    "result = top_customer_df.groupby([\"first_name\", \"last_name\", \"title\"]).agg(total_spent=(\"amount\", \"sum\")).reset_index().sort_values(\"total_spent\", ascending=False)\n",
    "result"
   ]
  },
  {
   "cell_type": "markdown",
   "id": "b7a385f8-e884-4361-ad29-782848b70bf3",
   "metadata": {},
   "source": [
    "# Soru 42: En az kazanç sağlayan müşteri hangi türde en fazla film kiralamış?  "
   ]
  },
  {
   "cell_type": "code",
   "execution_count": 154,
   "id": "1bfe8afb-0266-41fc-8456-5ff22ff55979",
   "metadata": {},
   "outputs": [],
   "source": [
    "import sqlite3\n",
    "import pandas as pd\n",
    "conn = sqlite3.connect(\"sqlite-sakila.db\")"
   ]
  },
  {
   "cell_type": "code",
   "execution_count": 155,
   "id": "11a15085-52fa-448d-bdf8-eca0e343e847",
   "metadata": {},
   "outputs": [],
   "source": [
    "customer_df = pd.read_sql_query(\"SELECT * FROM customer\", conn)\n",
    "rental_df = pd.read_sql_query(\"SELECT * FROM rental\", conn)\n",
    "inventory_df = pd.read_sql_query(\"SELECT * FROM inventory\", conn)\n",
    "film_df = pd.read_sql_query(\"SELECT * FROM film\", conn)\n",
    "film_category_df = pd.read_sql_query(\"SELECT * FROM film_category\", conn)\n",
    "category_df = pd.read_sql_query(\"Select * FROM category\",conn)\n",
    "payment_df = pd.read_sql_query(\"SELECT * FROM payment\", conn)"
   ]
  },
  {
   "cell_type": "code",
   "execution_count": 156,
   "id": "7d9202f6-0cf2-420c-8b6f-fdee6059535c",
   "metadata": {},
   "outputs": [],
   "source": [
    "customer_df = customer_df.drop(columns=[\"last_update\"])\n",
    "rental_df = rental_df.drop(columns=[\"last_update\"])\n",
    "film_df = film_df.drop(columns=[\"last_update\"])\n",
    "inventory_df = inventory_df.drop(columns=[\"last_update\"])\n",
    "film_category_df = film_category_df.drop(columns=[\"last_update\"])\n",
    "category_df = category_df.drop(columns=[\"last_update\"])\n",
    "payment_df = payment_df.drop(columns=[\"last_update\"])"
   ]
  },
  {
   "cell_type": "code",
   "execution_count": 157,
   "id": "e3a2d599-82d1-4ded-a39f-3e78d596fad1",
   "metadata": {},
   "outputs": [],
   "source": [
    "step1 = pd.merge(customer_df, rental_df, on=\"customer_id\")\n",
    "step2 = pd.merge(step1, payment_df, on=\"rental_id\")\n",
    "step3 = pd.merge(step2, inventory_df, on=\"inventory_id\")\n",
    "step4 = pd.merge(step3, film_df, on=\"film_id\")\n",
    "step5 = pd.merge(step4, film_category_df, on=\"film_id\")\n",
    "full_df = pd.merge(step5, category_df, on=\"category_id\")"
   ]
  },
  {
   "cell_type": "code",
   "execution_count": 158,
   "id": "b400ccf5-afb7-413a-92f7-412b9f78c09c",
   "metadata": {},
   "outputs": [],
   "source": [
    "full_df = full_df.rename(columns={\"customer_id_x\": \"customer_id\", \"name\": \"genre\"})\n",
    "rental_payment = rental_payment.rename(columns={\"customer_id_x\": \"customer_id\"})"
   ]
  },
  {
   "cell_type": "code",
   "execution_count": 159,
   "id": "3e185469-b34b-4c66-8aff-c17faf707793",
   "metadata": {},
   "outputs": [],
   "source": [
    "customer_total = rental_payment.groupby(\"customer_id\")[\"amount\"].sum().reset_index()\n",
    "least_customer_id = customer_total.sort_values(\"amount\").iloc[0][\"customer_id\"]"
   ]
  },
  {
   "cell_type": "code",
   "execution_count": 160,
   "id": "b199e05f-0960-44b0-8009-839433d78c00",
   "metadata": {},
   "outputs": [],
   "source": [
    "full_df = full_df.loc[:, ~full_df.columns.duplicated()]"
   ]
  },
  {
   "cell_type": "code",
   "execution_count": 161,
   "id": "49108a7d-d93f-49ee-b32e-dec3ae820a2a",
   "metadata": {},
   "outputs": [],
   "source": [
    "filtered = full_df[full_df[\"customer_id\"] == least_customer_id]"
   ]
  },
  {
   "cell_type": "code",
   "execution_count": 163,
   "id": "deda1b75-7c6c-4377-b41e-0ad5b9e641c9",
   "metadata": {},
   "outputs": [],
   "source": [
    "result_df = (filtered.groupby([\"first_name\", \"last_name\", \"genre\"])  \n",
    ".size().reset_index(name=\"rental_count\").rename(columns={\"name\": \"genre\"}))"
   ]
  },
  {
   "cell_type": "code",
   "execution_count": null,
   "id": "3cebef7a-e451-4e21-a319-388cb2a03593",
   "metadata": {},
   "outputs": [],
   "source": [
    "result_df"
   ]
  },
  {
   "cell_type": "markdown",
   "id": "8fcd022f-575d-4434-ad6a-baa599a69d83",
   "metadata": {},
   "source": [
    "# Soru 43: En çok kiralanan film hangi çalışan tarafından kiralanmış?  "
   ]
  },
  {
   "cell_type": "code",
   "execution_count": 72,
   "id": "db67d1a7-77f7-466f-a8b8-fa49b49a460a",
   "metadata": {},
   "outputs": [],
   "source": [
    "import sqlite3\n",
    "import pandas as pd\n",
    "conn = sqlite3.connect(\"sqlite-sakila.db\")"
   ]
  },
  {
   "cell_type": "code",
   "execution_count": 73,
   "id": "e5ecb76c-4615-46be-8a28-5de4d7fa93e3",
   "metadata": {},
   "outputs": [],
   "source": [
    "staff_df = pd.read_sql_query(\"SELECT * FROM staff\", conn)\n",
    "rental_df = pd.read_sql_query(\"SELECT * FROM rental\", conn)\n",
    "inventory_df = pd.read_sql_query(\"SELECT * FROM inventory\", conn)\n",
    "film_df = pd.read_sql_query(\"SELECT * FROM film\", conn)"
   ]
  },
  {
   "cell_type": "code",
   "execution_count": 74,
   "id": "ae5b4d63-b9bb-45bf-a5ce-a33d88b92fe3",
   "metadata": {},
   "outputs": [],
   "source": [
    "rental_inventory = pd.merge(rental_df, inventory_df, on=\"inventory_id\")\n",
    "rental_film = pd.merge(rental_inventory, film_df[[\"film_id\", \"title\"]], on=\"film_id\")"
   ]
  },
  {
   "cell_type": "code",
   "execution_count": 75,
   "id": "dc623531-04f7-432b-be55-e8c69b79eeca",
   "metadata": {},
   "outputs": [],
   "source": [
    "top_film = (rental_film.groupby([\"film_id\", \"title\"]).agg(rental_count=('rental_id', 'count')).reset_index()\n",
    ".sort_values(\"rental_count\", ascending=False))"
   ]
  },
  {
   "cell_type": "code",
   "execution_count": 76,
   "id": "f66cf44b-4dd4-4d07-830e-235ad5ce4967",
   "metadata": {},
   "outputs": [],
   "source": [
    "top_film_id = top_film.iloc[0][\"film_id\"]\n",
    "top_film_title = top_film.iloc[0][\"title\"]"
   ]
  },
  {
   "cell_type": "code",
   "execution_count": 77,
   "id": "e88de98f-145a-4132-a56e-69802042e39a",
   "metadata": {},
   "outputs": [],
   "source": [
    "top_film_rentals = rental_film[rental_film[\"film_id\"] == top_film_id]\n",
    "rental_with_staff = pd.merge(top_film_rentals, staff_df, on=\"staff_id\")"
   ]
  },
  {
   "cell_type": "code",
   "execution_count": 78,
   "id": "9627f926-7817-4a53-a9cd-c33ff3eabdbe",
   "metadata": {},
   "outputs": [],
   "source": [
    "result_df = (rental_with_staff.groupby([\"first_name\", \"last_name\", \"title\"]).agg(rental_count=('rental_id', 'count'))\n",
    ".reset_index())"
   ]
  },
  {
   "cell_type": "code",
   "execution_count": null,
   "id": "6db402f6-d4cb-4a8f-8ed3-c5b713811d77",
   "metadata": {},
   "outputs": [],
   "source": [
    "result_df"
   ]
  },
  {
   "cell_type": "markdown",
   "id": "bb05fbfb-edd7-4842-a27d-0ed22e39da9d",
   "metadata": {},
   "source": [
    "# Soru 44: En az kiralanan film hangi çalışan tarafından kiralanmış?  "
   ]
  },
  {
   "cell_type": "code",
   "execution_count": 80,
   "id": "ef4bc4c1-e1c9-4157-aaed-8d129397d036",
   "metadata": {},
   "outputs": [],
   "source": [
    "import sqlite3\n",
    "import pandas as pd\n",
    "conn = sqlite3.connect(\"sqlite-sakila.db\")"
   ]
  },
  {
   "cell_type": "code",
   "execution_count": 81,
   "id": "652b6394-405d-4e93-9abc-6a889526316d",
   "metadata": {},
   "outputs": [],
   "source": [
    "staff_df = pd.read_sql_query(\"SELECT * FROM staff\", conn)\n",
    "rental_df = pd.read_sql_query(\"SELECT * FROM rental\", conn)\n",
    "inventory_df = pd.read_sql_query(\"SELECT * FROM inventory\", conn)\n",
    "film_df = pd.read_sql_query(\"SELECT * FROM film\", conn)"
   ]
  },
  {
   "cell_type": "code",
   "execution_count": 82,
   "id": "556943f2-7e71-4f82-8923-45b76a6bec0d",
   "metadata": {},
   "outputs": [],
   "source": [
    "rental_inventory = pd.merge(rental_df, inventory_df, on=\"inventory_id\")\n",
    "rental_film = pd.merge(rental_inventory, film_df[[\"film_id\", \"title\"]], on=\"film_id\")"
   ]
  },
  {
   "cell_type": "code",
   "execution_count": 83,
   "id": "607fc7dc-a432-4f90-a6cf-c3bf4e3cf586",
   "metadata": {},
   "outputs": [],
   "source": [
    "top_film = (rental_film.groupby([\"film_id\", \"title\"]).agg(rental_count=('rental_id', 'count')).reset_index()\n",
    ".sort_values(\"rental_count\", ascending=True))"
   ]
  },
  {
   "cell_type": "code",
   "execution_count": 84,
   "id": "31f9fa63-46bb-452b-a15f-8436ba72ef03",
   "metadata": {},
   "outputs": [],
   "source": [
    "top_film_id = top_film.iloc[0][\"film_id\"]\n",
    "top_film_title = top_film.iloc[0][\"title\"]"
   ]
  },
  {
   "cell_type": "code",
   "execution_count": 85,
   "id": "7956bc4b-17af-4ea9-8598-56120021f1de",
   "metadata": {},
   "outputs": [],
   "source": [
    "top_film_rentals = rental_film[rental_film[\"film_id\"] == top_film_id]\n",
    "rental_with_staff = pd.merge(top_film_rentals, staff_df, on=\"staff_id\")"
   ]
  },
  {
   "cell_type": "code",
   "execution_count": null,
   "id": "0fbfde2b-1e08-4b21-963c-1c00c83bde41",
   "metadata": {},
   "outputs": [],
   "source": [
    "result_df = (rental_with_staff.groupby([\"first_name\", \"last_name\", \"title\"]).agg(rental_count=('rental_id', 'count')).reset_index())\n",
    "result_df"
   ]
  },
  {
   "cell_type": "markdown",
   "id": "584373a1-aba1-4315-8649-d2cf74d4cfe9",
   "metadata": {},
   "source": [
    "# Soru 45: En çok kazanç sağlayan film hangi çalışan tarafından kiralanmış?  "
   ]
  },
  {
   "cell_type": "code",
   "execution_count": 182,
   "id": "c6276eaf-f506-4ac5-b089-725da40e53d4",
   "metadata": {},
   "outputs": [],
   "source": [
    "import sqlite3\n",
    "import pandas as pd\n",
    "conn = sqlite3.connect(\"sqlite-sakila.db\")"
   ]
  },
  {
   "cell_type": "code",
   "execution_count": 183,
   "id": "9ed27b89-a9e4-4161-8825-5ac1ed9f696f",
   "metadata": {},
   "outputs": [],
   "source": [
    "staff_df = pd.read_sql_query(\"SELECT * FROM staff\", conn)\n",
    "rental_df = pd.read_sql_query(\"SELECT * FROM rental\", conn)\n",
    "inventory_df = pd.read_sql_query(\"SELECT * FROM inventory\", conn)\n",
    "film_df = pd.read_sql_query(\"SELECT * FROM film\", conn)"
   ]
  },
  {
   "cell_type": "code",
   "execution_count": 184,
   "id": "77521ed8-2380-4310-b670-84244f900877",
   "metadata": {},
   "outputs": [],
   "source": [
    "staff_df = staff_df.drop(columns=[\"last_update\"])\n",
    "rental_df = rental_df.drop(columns=[\"last_update\"])\n",
    "film_df = film_df.drop(columns=[\"last_update\"])\n",
    "inventory_df = inventory_df.drop(columns=[\"last_update\"])"
   ]
  },
  {
   "cell_type": "code",
   "execution_count": 185,
   "id": "d5ae42d1-06f6-4a3a-9d49-ab49f7e00abf",
   "metadata": {},
   "outputs": [],
   "source": [
    "rental_inventory = pd.merge(rental_df, inventory_df, on=\"inventory_id\")\n",
    "rental_film = pd.merge(rental_inventory, film_df[[\"film_id\", \"title\"]], on=\"film_id\")\n",
    "rental_payment = pd.merge(rental_film, payment_df, on=\"rental_id\")"
   ]
  },
  {
   "cell_type": "code",
   "execution_count": 186,
   "id": "7ae27636-8449-4722-9d24-ead1a9227fac",
   "metadata": {},
   "outputs": [],
   "source": [
    "film_revenue = (rental_payment.groupby([\"film_id\", \"title\"]).agg(total_revenue=('amount', 'sum')).reset_index()\n",
    ".sort_values(\"total_revenue\", ascending=False))"
   ]
  },
  {
   "cell_type": "code",
   "execution_count": 187,
   "id": "a279d5cc-b161-4abc-b07b-7c7ca11bb8dc",
   "metadata": {},
   "outputs": [],
   "source": [
    "top_film_id = film_revenue.iloc[0][\"film_id\"]"
   ]
  },
  {
   "cell_type": "code",
   "execution_count": 188,
   "id": "1f95af21-ef5c-4fc7-834b-a9a4a54300be",
   "metadata": {},
   "outputs": [],
   "source": [
    "top_film_rentals = rental_payment[rental_payment[\"film_id\"] == top_film_id]"
   ]
  },
  {
   "cell_type": "code",
   "execution_count": 189,
   "id": "e347017c-5037-488e-a544-b3fc4f6d08f7",
   "metadata": {},
   "outputs": [],
   "source": [
    "top_film_rentals = top_film_rentals.rename(columns={\"staff_id_x\": \"staff_id\"})"
   ]
  },
  {
   "cell_type": "code",
   "execution_count": null,
   "id": "5c865474-af07-4be9-b804-96172712597d",
   "metadata": {},
   "outputs": [],
   "source": [
    "print(top_film_rentals.columns)"
   ]
  },
  {
   "cell_type": "code",
   "execution_count": 191,
   "id": "6476596d-3390-41b1-9b92-09f5d67191a2",
   "metadata": {},
   "outputs": [],
   "source": [
    "rental_with_staff = pd.merge(top_film_rentals, staff_df, on=\"staff_id\")"
   ]
  },
  {
   "cell_type": "code",
   "execution_count": 192,
   "id": "0bd57ad9-6a8e-458a-b987-3df97bda5bfc",
   "metadata": {},
   "outputs": [],
   "source": [
    "result_df = (rental_with_staff.groupby([\"first_name\", \"last_name\", \"title\"]).agg(total_revenue=('amount', 'sum'))\n",
    ".reset_index())"
   ]
  },
  {
   "cell_type": "code",
   "execution_count": null,
   "id": "e9eb7849-ebcb-4bb5-95f3-6728d07f62a9",
   "metadata": {},
   "outputs": [],
   "source": [
    "result_df"
   ]
  },
  {
   "cell_type": "markdown",
   "id": "864f0cc3-b744-45da-bab2-93b49b0ee433",
   "metadata": {},
   "source": [
    "# Soru 46: En az kazanç sağlayan film hangi çalışan tarafından kiralanmış? "
   ]
  },
  {
   "cell_type": "code",
   "execution_count": 237,
   "id": "63cfd97f-f0b2-4513-a8d8-e71be580d162",
   "metadata": {},
   "outputs": [],
   "source": [
    "import sqlite3\n",
    "import pandas as pd\n",
    "conn = sqlite3.connect(\"sqlite-sakila.db\")"
   ]
  },
  {
   "cell_type": "code",
   "execution_count": 238,
   "id": "56fd22e0-bf02-48c2-8724-ec64da36699a",
   "metadata": {},
   "outputs": [],
   "source": [
    "staff_df = pd.read_sql_query(\"SELECT * FROM staff\", conn)\n",
    "rental_df = pd.read_sql_query(\"SELECT * FROM rental\", conn)\n",
    "inventory_df = pd.read_sql_query(\"SELECT * FROM inventory\", conn)\n",
    "film_df = pd.read_sql_query(\"SELECT * FROM film\", conn)"
   ]
  },
  {
   "cell_type": "code",
   "execution_count": 239,
   "id": "0b8d7071-0d08-4e4e-84ea-f502e751b551",
   "metadata": {},
   "outputs": [],
   "source": [
    "staff_df = staff_df.drop(columns=[\"last_update\"])\n",
    "rental_df = rental_df.drop(columns=[\"last_update\"])"
   ]
  },
  {
   "cell_type": "code",
   "execution_count": 240,
   "id": "8c0676fb-f4b9-4c89-8b84-91c468c60b1a",
   "metadata": {},
   "outputs": [],
   "source": [
    "rental_inventory = pd.merge(rental_df, inventory_df, on=\"inventory_id\")\n",
    "rental_film = pd.merge(rental_inventory, film_df[[\"film_id\", \"title\"]], on=\"film_id\")\n",
    "rental_payment = pd.merge(rental_film, payment_df, on=\"rental_id\")"
   ]
  },
  {
   "cell_type": "code",
   "execution_count": 241,
   "id": "de22ec79-6f98-48be-be5f-e5f2e2c26303",
   "metadata": {},
   "outputs": [],
   "source": [
    "film_revenue = (rental_payment.groupby([\"film_id\", \"title\"]).agg(total_revenue=('amount', 'sum')).reset_index()\n",
    ".sort_values(\"total_revenue\", ascending=True))"
   ]
  },
  {
   "cell_type": "code",
   "execution_count": 242,
   "id": "e230b3f9-21e7-4bb1-bcb9-3cd0dd40508e",
   "metadata": {},
   "outputs": [],
   "source": [
    "top_film_id = film_revenue.iloc[0][\"film_id\"]"
   ]
  },
  {
   "cell_type": "code",
   "execution_count": 243,
   "id": "d050c34a-a6e7-432d-9ce8-22ea2203afba",
   "metadata": {},
   "outputs": [],
   "source": [
    "top_film_rentals = rental_payment[rental_payment[\"film_id\"] == top_film_id]\n",
    "top_film_rentals = top_film_rentals.rename(columns={\"staff_id_x\": \"staff_id\"})"
   ]
  },
  {
   "cell_type": "code",
   "execution_count": 244,
   "id": "80a43b3e-b663-4648-b0dc-ac8bc38f5ab9",
   "metadata": {},
   "outputs": [],
   "source": [
    "rental_with_staff = pd.merge(top_film_rentals, staff_df, on=\"staff_id\")"
   ]
  },
  {
   "cell_type": "code",
   "execution_count": 245,
   "id": "46ed88d3-2bde-4e7d-b6fc-a4a7655ea029",
   "metadata": {},
   "outputs": [],
   "source": [
    "result_df = (rental_with_staff.groupby([\"first_name\", \"last_name\", \"title\"]).agg(total_revenue=('amount', 'sum')).reset_index())"
   ]
  },
  {
   "cell_type": "code",
   "execution_count": null,
   "id": "84d0de8d-a5fb-4b01-990b-f5449d237ec9",
   "metadata": {},
   "outputs": [],
   "source": [
    "result_df"
   ]
  },
  {
   "cell_type": "markdown",
   "id": "bb1dc3b8-cba4-475f-8cf6-e022aba0072d",
   "metadata": {},
   "source": [
    "# Soru 47: En çok kiralanan film hangi mağazada kiralanmış? "
   ]
  },
  {
   "cell_type": "code",
   "execution_count": 221,
   "id": "89357d5b-80fc-458c-9ad5-21d9d00113c4",
   "metadata": {},
   "outputs": [],
   "source": [
    "import sqlite3\n",
    "import pandas as pd\n",
    "conn = sqlite3.connect(\"sqlite-sakila.db\")"
   ]
  },
  {
   "cell_type": "code",
   "execution_count": 222,
   "id": "8ffa773b-bffe-4b1a-8b97-5dbdb4a5f317",
   "metadata": {},
   "outputs": [],
   "source": [
    "store_df = pd.read_sql_query(\"Select * FROM store\",conn)\n",
    "staff_df = pd.read_sql_query(\"SELECT * FROM staff\", conn)\n",
    "rental_df = pd.read_sql_query(\"SELECT * FROM rental\", conn)\n",
    "inventory_df = pd.read_sql_query(\"SELECT * FROM inventory\", conn)\n",
    "film_df = pd.read_sql_query(\"SELECT * FROM film\", conn)"
   ]
  },
  {
   "cell_type": "code",
   "execution_count": 223,
   "id": "aca4d584-9715-40e5-9933-3cf1678b558f",
   "metadata": {},
   "outputs": [],
   "source": [
    "rental_inventory = pd.merge(rental_df, inventory_df, on=\"inventory_id\")\n",
    "rental_film = pd.merge(rental_inventory, film_df[[\"film_id\", \"title\"]], on=\"film_id\")"
   ]
  },
  {
   "cell_type": "code",
   "execution_count": 224,
   "id": "abd71997-318f-4a8f-a606-9e0351e5296e",
   "metadata": {},
   "outputs": [],
   "source": [
    "top_film = (rental_film.groupby([\"film_id\", \"title\"]).agg(rental_count=('rental_id', 'count'))\n",
    ".reset_index().sort_values(\"rental_count\", ascending=False))"
   ]
  },
  {
   "cell_type": "code",
   "execution_count": 231,
   "id": "f03a837e-449b-4665-a09d-0c8a82e8d5aa",
   "metadata": {},
   "outputs": [],
   "source": [
    "top_film_id = top_film.iloc[0][\"film_id\"]"
   ]
  },
  {
   "cell_type": "code",
   "execution_count": 226,
   "id": "09b44c5e-7278-496b-ab27-f68745938eb1",
   "metadata": {},
   "outputs": [],
   "source": [
    "rental_staff = pd.merge(rental_df, staff_df[[\"staff_id\", \"store_id\"]], on=\"staff_id\")"
   ]
  },
  {
   "cell_type": "code",
   "execution_count": 232,
   "id": "2be07bff-5b61-4663-9e02-5949cdca18f1",
   "metadata": {},
   "outputs": [],
   "source": [
    "rental_inv = pd.merge(rental_staff, inventory_df, on=\"inventory_id\")\n",
    "rental_film_full = pd.merge(rental_inv, film_df[[\"film_id\", \"title\"]], on=\"film_id\")"
   ]
  },
  {
   "cell_type": "code",
   "execution_count": 233,
   "id": "39e5975d-88a1-4ae8-ade3-8be805e93815",
   "metadata": {},
   "outputs": [],
   "source": [
    "if \"store_id_x\" in rental_film_full.columns:\n",
    "    rental_film_full = rental_film_full.rename(columns={\"store_id_x\": \"store_id\"})"
   ]
  },
  {
   "cell_type": "code",
   "execution_count": 234,
   "id": "b61d3d7c-acc4-4186-9e0e-f30ca95cf29c",
   "metadata": {},
   "outputs": [],
   "source": [
    "filtered_df = rental_film_full[rental_film_full[\"film_id\"] == top_film_id]"
   ]
  },
  {
   "cell_type": "code",
   "execution_count": 235,
   "id": "a5616562-b219-4ae1-a1da-e0230505a6fe",
   "metadata": {},
   "outputs": [
    {
     "name": "stdout",
     "output_type": "stream",
     "text": [
      "Index(['first_name', 'last_name', 'title', 'total_revenue'], dtype='object')\n"
     ]
    }
   ],
   "source": [
    "print(result_df.columns)"
   ]
  },
  {
   "cell_type": "code",
   "execution_count": null,
   "id": "5739f383-e42b-4d86-8a98-cef1aefbeca3",
   "metadata": {},
   "outputs": [],
   "source": [
    "result_df = (filtered_df.groupby([\"store_id\", \"title\"])\n",
    ".agg(rental_count=('rental_id', 'count')).reset_index())\n",
    "result_df"
   ]
  },
  {
   "cell_type": "markdown",
   "id": "3a91a61c-309a-41d1-907a-57116d9ba746",
   "metadata": {},
   "source": [
    "# Soru 48: En az kiralanan film hangi mağazada kiralanmış?  "
   ]
  },
  {
   "cell_type": "code",
   "execution_count": 251,
   "id": "aebc1537-3d5f-4711-abb3-9495a62b2bd2",
   "metadata": {},
   "outputs": [],
   "source": [
    "import sqlite3\n",
    "import pandas as pd\n",
    "conn = sqlite3.connect(\"sqlite-sakila.db\")"
   ]
  },
  {
   "cell_type": "code",
   "execution_count": 252,
   "id": "deb9319a-3f9b-498a-b544-b98fa22d1fb8",
   "metadata": {},
   "outputs": [],
   "source": [
    "store_df = pd.read_sql_query(\"Select * FROM store\",conn)\n",
    "staff_df = pd.read_sql_query(\"SELECT * FROM staff\", conn)\n",
    "rental_df = pd.read_sql_query(\"SELECT * FROM rental\", conn)\n",
    "inventory_df = pd.read_sql_query(\"SELECT * FROM inventory\", conn)\n",
    "film_df = pd.read_sql_query(\"SELECT * FROM film\", conn)"
   ]
  },
  {
   "cell_type": "code",
   "execution_count": 253,
   "id": "4dd8216f-0022-4623-864e-d0ddccaf523e",
   "metadata": {},
   "outputs": [],
   "source": [
    "rental_inventory = pd.merge(rental_df, inventory_df, on=\"inventory_id\")\n",
    "rental_film = pd.merge(rental_inventory, film_df[[\"film_id\", \"title\"]], on=\"film_id\")"
   ]
  },
  {
   "cell_type": "code",
   "execution_count": 254,
   "id": "9c41f6c0-0a83-4136-ace3-cce28cdb6041",
   "metadata": {},
   "outputs": [],
   "source": [
    "top_film = (rental_film.groupby([\"film_id\", \"title\"]).agg(rental_count=('rental_id', 'count'))\n",
    ".reset_index().sort_values(\"rental_count\", ascending=True))"
   ]
  },
  {
   "cell_type": "code",
   "execution_count": 255,
   "id": "92d5238a-eddc-49a9-8770-2a1d8d51bf1e",
   "metadata": {},
   "outputs": [],
   "source": [
    "top_film_id = top_film.iloc[0][\"film_id\"]"
   ]
  },
  {
   "cell_type": "code",
   "execution_count": 256,
   "id": "9dd3773f-73d6-4453-8801-d217633114da",
   "metadata": {},
   "outputs": [],
   "source": [
    "rental_staff = pd.merge(rental_df, staff_df[[\"staff_id\", \"store_id\"]], on=\"staff_id\")"
   ]
  },
  {
   "cell_type": "code",
   "execution_count": 257,
   "id": "ca982ed4-80a7-4f3b-bd5f-03ae9306a41f",
   "metadata": {},
   "outputs": [],
   "source": [
    "rental_inv = pd.merge(rental_staff, inventory_df, on=\"inventory_id\")\n",
    "rental_film_full = pd.merge(rental_inv, film_df[[\"film_id\", \"title\"]], on=\"film_id\")"
   ]
  },
  {
   "cell_type": "code",
   "execution_count": 258,
   "id": "2dae0d88-5114-420f-99b7-e0c8b9bc1a00",
   "metadata": {},
   "outputs": [],
   "source": [
    "if \"store_id_x\" in rental_film_full.columns:\n",
    "    rental_film_full = rental_film_full.rename(columns={\"store_id_x\": \"store_id\"})"
   ]
  },
  {
   "cell_type": "code",
   "execution_count": 259,
   "id": "8850b239-2614-44d4-aed8-0a0d1d911cac",
   "metadata": {},
   "outputs": [],
   "source": [
    "filtered_df = rental_film_full[rental_film_full[\"film_id\"] == top_film_id]"
   ]
  },
  {
   "cell_type": "code",
   "execution_count": null,
   "id": "272e0150-5adb-449b-a412-558a6d21e3a4",
   "metadata": {},
   "outputs": [],
   "source": [
    "result_df = (filtered_df.groupby([\"store_id\", \"title\"])\n",
    ".agg(rental_count=('rental_id', 'count')).reset_index())\n",
    "result_df"
   ]
  },
  {
   "cell_type": "markdown",
   "id": "319c3c31-a9f5-4e73-8564-0d17b22aa071",
   "metadata": {},
   "source": [
    "# Soru 49: En çok kazanç sağlayan film hangi mağazada kiralanmış? "
   ]
  },
  {
   "cell_type": "code",
   "execution_count": 261,
   "id": "e981aa81-2d6e-4222-a331-c0dab86b15a2",
   "metadata": {},
   "outputs": [],
   "source": [
    "import sqlite3\n",
    "import pandas as pd\n",
    "conn = sqlite3.connect(\"sqlite-sakila.db\")"
   ]
  },
  {
   "cell_type": "code",
   "execution_count": 267,
   "id": "94b8b4e5-cbc5-4949-a610-a57ceccb5d20",
   "metadata": {},
   "outputs": [],
   "source": [
    "store_df = pd.read_sql_query(\"SELECT * FROM store\", conn)\n",
    "staff_df = pd.read_sql_query(\"SELECT * FROM staff\", conn)\n",
    "rental_df = pd.read_sql_query(\"SELECT * FROM rental\", conn)\n",
    "inventory_df = pd.read_sql_query(\"SELECT * FROM inventory\", conn)\n",
    "film_df = pd.read_sql_query(\"SELECT * FROM film\", conn)\n",
    "payment_df = pd.read_sql_query(\"SELECT * FROM payment\", conn)"
   ]
  },
  {
   "cell_type": "code",
   "execution_count": 268,
   "id": "0dbdaa9c-9719-40a8-9831-77ad5a2bfcee",
   "metadata": {},
   "outputs": [],
   "source": [
    "rental_inventory = pd.merge(rental_df, inventory_df, on=\"inventory_id\")\n",
    "rental_film = pd.merge(rental_inventory, film_df[[\"film_id\", \"title\"]], on=\"film_id\")\n",
    "rental_payment = pd.merge(rental_film, payment_df, on=\"rental_id\")"
   ]
  },
  {
   "cell_type": "code",
   "execution_count": 269,
   "id": "8c210c2c-1bec-435f-bf87-f03a846c06f9",
   "metadata": {},
   "outputs": [],
   "source": [
    "film_revenue = (rental_payment.groupby([\"film_id\", \"title\"]).agg(total_revenue=('amount', 'sum')).reset_index()\n",
    ".sort_values(\"total_revenue\", ascending=False))"
   ]
  },
  {
   "cell_type": "code",
   "execution_count": 270,
   "id": "40b35d16-e40d-4419-ad36-89d2a2935c87",
   "metadata": {},
   "outputs": [],
   "source": [
    "top_film_id = film_revenue.iloc[0][\"film_id\"]"
   ]
  },
  {
   "cell_type": "code",
   "execution_count": 271,
   "id": "07604a61-ad13-4421-a559-2987d6234fc6",
   "metadata": {},
   "outputs": [],
   "source": [
    "rental_staff = pd.merge(rental_df, staff_df[[\"staff_id\", \"store_id\"]], on=\"staff_id\")"
   ]
  },
  {
   "cell_type": "code",
   "execution_count": 272,
   "id": "ad0424ae-277b-4d75-b306-7125f2bf70f6",
   "metadata": {},
   "outputs": [],
   "source": [
    "rental_inv = pd.merge(rental_staff, inventory_df, on=\"inventory_id\")\n",
    "rental_film_full = pd.merge(rental_inv, film_df[[\"film_id\", \"title\"]], on=\"film_id\")\n",
    "rental_with_payment = pd.merge(rental_film_full, payment_df, on=\"rental_id\")"
   ]
  },
  {
   "cell_type": "code",
   "execution_count": 273,
   "id": "be7de014-4dc6-4108-848a-d70638be6fc1",
   "metadata": {},
   "outputs": [],
   "source": [
    "if \"store_id_x\" in rental_with_payment.columns:\n",
    "    rental_with_payment = rental_with_payment.rename(columns={\"store_id_x\": \"store_id\"})"
   ]
  },
  {
   "cell_type": "code",
   "execution_count": 274,
   "id": "14e9dff9-fc5b-40e2-bfc2-93f1cd06034b",
   "metadata": {},
   "outputs": [],
   "source": [
    "filtered_df = rental_with_payment[rental_with_payment[\"film_id\"] == top_film_id]"
   ]
  },
  {
   "cell_type": "code",
   "execution_count": null,
   "id": "1b97a164-dd15-404d-ab87-8909cd32d6cf",
   "metadata": {},
   "outputs": [],
   "source": [
    "result_df = (filtered_df.groupby([\"store_id\", \"title\"]).agg(total_revenue=('amount', 'sum')).reset_index())\n",
    "result_df"
   ]
  },
  {
   "cell_type": "markdown",
   "id": "8116d2d4-aaaf-4505-a2d6-42ed8b641ac8",
   "metadata": {},
   "source": [
    "# Soru 50: En az kazanç sağlayan film hangi mağazada kiralanmış?  "
   ]
  },
  {
   "cell_type": "code",
   "execution_count": 277,
   "id": "4e07b047-05b6-4fd4-bc51-42155a4ea858",
   "metadata": {},
   "outputs": [],
   "source": [
    "import sqlite3\n",
    "import pandas as pd\n",
    "conn = sqlite3.connect(\"sqlite-sakila.db\")"
   ]
  },
  {
   "cell_type": "code",
   "execution_count": 278,
   "id": "625bfea5-e1d7-49da-8a2d-bb888fd746cd",
   "metadata": {},
   "outputs": [],
   "source": [
    "store_df = pd.read_sql_query(\"SELECT * FROM store\", conn)\n",
    "staff_df = pd.read_sql_query(\"SELECT * FROM staff\", conn)\n",
    "rental_df = pd.read_sql_query(\"SELECT * FROM rental\", conn)\n",
    "inventory_df = pd.read_sql_query(\"SELECT * FROM inventory\", conn)\n",
    "film_df = pd.read_sql_query(\"SELECT * FROM film\", conn)\n",
    "payment_df = pd.read_sql_query(\"SELECT * FROM payment\", conn)"
   ]
  },
  {
   "cell_type": "code",
   "execution_count": 279,
   "id": "2dd7cc78-f68f-4dc6-b085-7a0cf789072a",
   "metadata": {},
   "outputs": [],
   "source": [
    "rental_inventory = pd.merge(rental_df, inventory_df, on=\"inventory_id\")\n",
    "rental_film = pd.merge(rental_inventory, film_df[[\"film_id\", \"title\"]], on=\"film_id\")\n",
    "rental_payment = pd.merge(rental_film, payment_df, on=\"rental_id\")"
   ]
  },
  {
   "cell_type": "code",
   "execution_count": 280,
   "id": "408f1413-a08f-4f8b-9fab-dc0a0888a54d",
   "metadata": {},
   "outputs": [],
   "source": [
    "film_revenue = (rental_payment.groupby([\"film_id\", \"title\"]).agg(total_revenue=('amount', 'sum')).reset_index()\n",
    ".sort_values(\"total_revenue\", ascending=True))"
   ]
  },
  {
   "cell_type": "code",
   "execution_count": 281,
   "id": "d89fa17c-6495-4234-aa8f-bed92d13f75d",
   "metadata": {},
   "outputs": [],
   "source": [
    "top_film_id = film_revenue.iloc[0][\"film_id\"]"
   ]
  },
  {
   "cell_type": "code",
   "execution_count": 282,
   "id": "24e35b4b-da56-415e-8407-38bec14e87a4",
   "metadata": {},
   "outputs": [],
   "source": [
    "rental_staff = pd.merge(rental_df, staff_df[[\"staff_id\", \"store_id\"]], on=\"staff_id\")"
   ]
  },
  {
   "cell_type": "code",
   "execution_count": 283,
   "id": "f79dde1d-2ee5-42b5-bff8-463566e1e271",
   "metadata": {},
   "outputs": [],
   "source": [
    "rental_inv = pd.merge(rental_staff, inventory_df, on=\"inventory_id\")\n",
    "rental_film_full = pd.merge(rental_inv, film_df[[\"film_id\", \"title\"]], on=\"film_id\")\n",
    "rental_with_payment = pd.merge(rental_film_full, payment_df, on=\"rental_id\")"
   ]
  },
  {
   "cell_type": "code",
   "execution_count": 284,
   "id": "6cafc91d-5100-45d2-87be-5dff76e4920c",
   "metadata": {},
   "outputs": [],
   "source": [
    "if \"store_id_x\" in rental_with_payment.columns:\n",
    "    rental_with_payment = rental_with_payment.rename(columns={\"store_id_x\": \"store_id\"})"
   ]
  },
  {
   "cell_type": "code",
   "execution_count": 285,
   "id": "113e0009-2ef1-4e4e-847f-c26411a43c63",
   "metadata": {},
   "outputs": [],
   "source": [
    "filtered_df = rental_with_payment[rental_with_payment[\"film_id\"] == top_film_id]"
   ]
  },
  {
   "cell_type": "code",
   "execution_count": null,
   "id": "c9c096ad-4db4-461f-a803-25426408ec4f",
   "metadata": {},
   "outputs": [],
   "source": [
    "result_df = (filtered_df.groupby([\"store_id\", \"title\"]).agg(total_revenue=('amount', 'sum')).reset_index())\n",
    "result_df"
   ]
  },
  {
   "cell_type": "markdown",
   "id": "f2e2001c-4751-4cca-ada6-2c3a824bced9",
   "metadata": {},
   "source": [
    "# Soru 51: Müşterilerin kiraladıkları filmlerin toplam kiralama süresi ne kadar? "
   ]
  },
  {
   "cell_type": "code",
   "execution_count": 287,
   "id": "d8f050e0-22b0-4354-b9f6-6368c4db81cc",
   "metadata": {},
   "outputs": [],
   "source": [
    "import sqlite3\n",
    "import pandas as pd\n",
    "conn = sqlite3.connect(\"sqlite-sakila.db\")"
   ]
  },
  {
   "cell_type": "code",
   "execution_count": 288,
   "id": "d2675bdd-45ba-47fe-a870-6ab985d937c0",
   "metadata": {},
   "outputs": [],
   "source": [
    "customer_df = pd.read_sql_query(\"SELECT * FROM customer\", conn)\n",
    "rental_df = pd.read_sql_query(\"SELECT * FROM rental\", conn)"
   ]
  },
  {
   "cell_type": "code",
   "execution_count": 289,
   "id": "3815cd0a-4471-4ffc-b91a-106385a9e9d4",
   "metadata": {},
   "outputs": [],
   "source": [
    "rental_df[\"rental_date\"] = pd.to_datetime(rental_df[\"rental_date\"])\n",
    "rental_df[\"return_date\"] = pd.to_datetime(rental_df[\"return_date\"])"
   ]
  },
  {
   "cell_type": "code",
   "execution_count": 290,
   "id": "66c0044f-0a79-4dfb-a53c-593d22c7bcc6",
   "metadata": {},
   "outputs": [],
   "source": [
    "rental_customer = pd.merge(rental_df, customer_df[[\"customer_id\", \"first_name\", \"last_name\"]], on=\"customer_id\")"
   ]
  },
  {
   "cell_type": "code",
   "execution_count": 291,
   "id": "d5290e1c-40ff-4b9c-b175-3c32086bc687",
   "metadata": {},
   "outputs": [],
   "source": [
    "rental_customer[\"rental_duration\"] = (rental_customer[\"return_date\"] - rental_customer[\"rental_date\"]).dt.days"
   ]
  },
  {
   "cell_type": "code",
   "execution_count": 292,
   "id": "cd7bb996-554f-4427-a5cd-3c597f641d59",
   "metadata": {},
   "outputs": [],
   "source": [
    "result_df = (rental_customer.groupby([\"first_name\", \"last_name\"])\n",
    ".agg(total_rental_duration=(\"rental_duration\", \"sum\")).reset_index())"
   ]
  },
  {
   "cell_type": "code",
   "execution_count": null,
   "id": "42421139-dca1-4e93-8fa6-03ea849e6ffa",
   "metadata": {},
   "outputs": [],
   "source": [
    "result_df[\"total_rental_duration\"] = result_df[\"total_rental_duration\"].round()\n",
    "result_df"
   ]
  },
  {
   "cell_type": "markdown",
   "id": "7b37ca69-16d8-4e96-9b83-32a8cd6b53b4",
   "metadata": {},
   "source": [
    "# Soru 52: En çok kiralanan türdeki filmler hangileri?  "
   ]
  },
  {
   "cell_type": "code",
   "execution_count": 305,
   "id": "d1b6fb34-147b-45d3-81eb-37dc77fa2a49",
   "metadata": {},
   "outputs": [],
   "source": [
    "import sqlite3\n",
    "import pandas as pd\n",
    "conn = sqlite3.connect(\"sqlite-sakila.db\")"
   ]
  },
  {
   "cell_type": "code",
   "execution_count": 306,
   "id": "02c85c6f-aaf7-46aa-9073-c63fb483599e",
   "metadata": {},
   "outputs": [],
   "source": [
    "film_df = pd.read_sql_query(\"SELECT * FROM film\", conn)\n",
    "film_category_df = pd.read_sql_query(\"SELECT * FROM film_category\", conn)\n",
    "category_df = pd.read_sql_query(\"SELECT * FROM category\", conn)\n",
    "inventory_df = pd.read_sql_query(\"SELECT * FROM inventory\", conn)\n",
    "rental_df = pd.read_sql_query(\"SELECT * FROM rental\", conn)"
   ]
  },
  {
   "cell_type": "code",
   "execution_count": 307,
   "id": "f7c2c6ea-0c84-4a54-9ba0-bfde43a2b93c",
   "metadata": {},
   "outputs": [],
   "source": [
    "film_cat = pd.merge(film_df[[\"film_id\", \"title\"]], film_category_df, on=\"film_id\")\n",
    "film_cat_genre = pd.merge(film_cat, category_df[[\"category_id\", \"name\"]], on=\"category_id\")\n",
    "film_inventory = pd.merge(film_cat_genre, inventory_df, on=\"film_id\")\n",
    "film_rental = pd.merge(film_inventory, rental_df, on=\"inventory_id\")"
   ]
  },
  {
   "cell_type": "code",
   "execution_count": 308,
   "id": "665409c9-a2c4-4411-94b7-151ad0398def",
   "metadata": {},
   "outputs": [],
   "source": [
    "result_df = (film_rental.groupby([\"name\", \"title\"]).agg(rental_count=(\"rental_id\", \"count\"))\n",
    ".reset_index().rename(columns={\"name\": \"genre\"})\n",
    ".sort_values(\"rental_count\", ascending=False).head(1))"
   ]
  },
  {
   "cell_type": "code",
   "execution_count": null,
   "id": "96f230f4-7e7e-4cd0-ba89-24b8b7861190",
   "metadata": {},
   "outputs": [],
   "source": [
    "result_df"
   ]
  },
  {
   "cell_type": "markdown",
   "id": "e10baa0d-5eba-4147-83ae-6390b17dc383",
   "metadata": {},
   "source": [
    "# Soru 53: En az kiralanan türdeki filmler hangileri? "
   ]
  },
  {
   "cell_type": "code",
   "execution_count": 310,
   "id": "0c663ba0-eb2e-42af-bfc4-3298ea1dc176",
   "metadata": {},
   "outputs": [],
   "source": [
    "import sqlite3\n",
    "import pandas as pd\n",
    "conn = sqlite3.connect(\"sqlite-sakila.db\")"
   ]
  },
  {
   "cell_type": "code",
   "execution_count": 311,
   "id": "6f285b45-a707-4a40-aae3-b53c2df0688a",
   "metadata": {},
   "outputs": [],
   "source": [
    "film_df = pd.read_sql_query(\"SELECT * FROM film\", conn)\n",
    "film_category_df = pd.read_sql_query(\"SELECT * FROM film_category\", conn)\n",
    "category_df = pd.read_sql_query(\"SELECT * FROM category\", conn)\n",
    "inventory_df = pd.read_sql_query(\"SELECT * FROM inventory\", conn)\n",
    "rental_df = pd.read_sql_query(\"SELECT * FROM rental\", conn)"
   ]
  },
  {
   "cell_type": "code",
   "execution_count": 312,
   "id": "3f529d02-9d95-44a3-bafb-5546fbff081f",
   "metadata": {},
   "outputs": [],
   "source": [
    "film_cat = pd.merge(film_df[[\"film_id\", \"title\"]], film_category_df, on=\"film_id\")\n",
    "film_cat_genre = pd.merge(film_cat, category_df[[\"category_id\", \"name\"]], on=\"category_id\")\n",
    "film_inventory = pd.merge(film_cat_genre, inventory_df, on=\"film_id\")\n",
    "film_rental = pd.merge(film_inventory, rental_df, on=\"inventory_id\")"
   ]
  },
  {
   "cell_type": "code",
   "execution_count": 313,
   "id": "c0e45701-6ed8-48a7-884d-232d578a2a00",
   "metadata": {},
   "outputs": [],
   "source": [
    "result_df = (film_rental.groupby([\"name\", \"title\"]).agg(rental_count=(\"rental_id\", \"count\"))\n",
    ".reset_index().rename(columns={\"name\": \"genre\"}).sort_values(\"rental_count\", ascending=True).head(1))"
   ]
  },
  {
   "cell_type": "code",
   "execution_count": null,
   "id": "fbdd0fd8-cb58-477c-a9bc-7939743f3da2",
   "metadata": {},
   "outputs": [],
   "source": [
    "result_df"
   ]
  },
  {
   "cell_type": "markdown",
   "id": "4345cdb4-b3ec-4d6a-b3ca-8b3ed5beecdb",
   "metadata": {},
   "source": [
    "# Soru 54: Her müşteri için toplam ödeme miktarını bulun. "
   ]
  },
  {
   "cell_type": "code",
   "execution_count": 315,
   "id": "991ee5b4-dd5c-434d-8d65-533210750f93",
   "metadata": {},
   "outputs": [],
   "source": [
    "import sqlite3\n",
    "import pandas as pd\n",
    "conn = sqlite3.connect(\"sqlite-sakila.db\")"
   ]
  },
  {
   "cell_type": "code",
   "execution_count": 316,
   "id": "8124c387-1ac8-4a6b-85c6-34fa2ce7cafc",
   "metadata": {},
   "outputs": [],
   "source": [
    "customer_df = pd.read_sql_query(\"SELECT * FROM customer\", conn)\n",
    "rental_df = pd.read_sql_query(\"SELECT * FROM rental\", conn)\n",
    "payment_df = pd.read_sql_query(\"SELECT * FROM payment\", conn)"
   ]
  },
  {
   "cell_type": "code",
   "execution_count": 317,
   "id": "bb3731ac-9e31-44d3-888c-4838f593926d",
   "metadata": {},
   "outputs": [],
   "source": [
    "rental_payment = pd.merge(rental_df, payment_df, on=\"rental_id\")"
   ]
  },
  {
   "cell_type": "code",
   "execution_count": 320,
   "id": "37c39864-0898-41cb-8f47-c0de0526762f",
   "metadata": {},
   "outputs": [],
   "source": [
    "rental_payment = rental_payment.rename(columns={\"customer_id_x\": \"customer_id\"})"
   ]
  },
  {
   "cell_type": "code",
   "execution_count": null,
   "id": "b53239dc-00ea-4aae-93fd-6a160ebacadb",
   "metadata": {},
   "outputs": [],
   "source": [
    "print(rental_payment.columns)"
   ]
  },
  {
   "cell_type": "code",
   "execution_count": 322,
   "id": "4138c915-ecfe-4177-a267-4c3d7502f926",
   "metadata": {},
   "outputs": [],
   "source": [
    "full_df = pd.merge(rental_payment, customer_df[[\"customer_id\", \"first_name\", \"last_name\"]], on=\"customer_id\")"
   ]
  },
  {
   "cell_type": "code",
   "execution_count": 323,
   "id": "fb3466e6-cc81-439f-8e51-2722342e0fb6",
   "metadata": {},
   "outputs": [],
   "source": [
    "result_df = (full_df.groupby([\"first_name\", \"last_name\"])\n",
    ".agg(total_payment=(\"amount\", \"sum\")).reset_index())"
   ]
  },
  {
   "cell_type": "code",
   "execution_count": null,
   "id": "654b0bb8-77e7-470e-b404-6d7365c376dd",
   "metadata": {},
   "outputs": [],
   "source": [
    "result_df"
   ]
  },
  {
   "cell_type": "markdown",
   "id": "178f13e5-f125-4ca7-ac78-326461e21ead",
   "metadata": {},
   "source": [
    "# Soru 55: Hangi filmler en uzun süre kiralanmış? "
   ]
  },
  {
   "cell_type": "code",
   "execution_count": 333,
   "id": "e2c3eae0-6a07-4c5e-a494-572dedbdb7ba",
   "metadata": {},
   "outputs": [],
   "source": [
    "import sqlite3\n",
    "import pandas as pd\n",
    "conn = sqlite3.connect(\"sqlite-sakila.db\")"
   ]
  },
  {
   "cell_type": "code",
   "execution_count": 334,
   "id": "f35504a6-a643-40b6-a772-2908b17b1217",
   "metadata": {},
   "outputs": [],
   "source": [
    "film_df = pd.read_sql_query(\"SELECT * FROM film\", conn)\n",
    "inventory_df = pd.read_sql_query(\"SELECT * FROM inventory\", conn)\n",
    "rental_df = pd.read_sql_query(\"SELECT * FROM rental\", conn)"
   ]
  },
  {
   "cell_type": "code",
   "execution_count": 335,
   "id": "51b983b0-5537-4dc2-8d68-75d20c9583be",
   "metadata": {},
   "outputs": [],
   "source": [
    "film_inv = pd.merge(film_df[[\"film_id\", \"title\"]], inventory_df, on=\"film_id\")"
   ]
  },
  {
   "cell_type": "code",
   "execution_count": 336,
   "id": "3b254b31-adda-43fd-a594-05bcdec66455",
   "metadata": {},
   "outputs": [],
   "source": [
    "film_rental = pd.merge(film_inv, rental_df, on=\"inventory_id\")"
   ]
  },
  {
   "cell_type": "code",
   "execution_count": 337,
   "id": "7659f92c-f31a-42e9-b570-04ad39175e06",
   "metadata": {},
   "outputs": [],
   "source": [
    "film_rental[\"rental_date\"] = pd.to_datetime(film_rental[\"rental_date\"])\n",
    "film_rental[\"return_date\"] = pd.to_datetime(film_rental[\"return_date\"])"
   ]
  },
  {
   "cell_type": "code",
   "execution_count": 338,
   "id": "4b04dfa6-8ded-4db5-a5b9-e88f0086784b",
   "metadata": {},
   "outputs": [],
   "source": [
    "film_rental[\"rental_days\"] = (film_rental[\"return_date\"] - film_rental[\"rental_date\"]).dt.days"
   ]
  },
  {
   "cell_type": "code",
   "execution_count": 339,
   "id": "ed029deb-07d7-4f6e-82fc-c0d50f8edcae",
   "metadata": {},
   "outputs": [],
   "source": [
    "result_df = (film_rental.groupby(\"title\").agg(max_rental_days=(\"rental_days\", \"max\")).reset_index()\n",
    ".sort_values(\"max_rental_days\", ascending=False))"
   ]
  },
  {
   "cell_type": "code",
   "execution_count": null,
   "id": "93236a58-50bc-4377-a7db-293bc2573b60",
   "metadata": {},
   "outputs": [],
   "source": [
    "result_df"
   ]
  },
  {
   "cell_type": "markdown",
   "id": "1fa9b778-dfdd-4bfb-9c43-7abc245aa3b9",
   "metadata": {},
   "source": [
    "# Soru 56: Hangi filmler en kısa süre kiralanmış? "
   ]
  },
  {
   "cell_type": "code",
   "execution_count": 341,
   "id": "8b56a778-f2b3-4bbe-ad77-237af9e5b3c9",
   "metadata": {},
   "outputs": [],
   "source": [
    "import sqlite3\n",
    "import pandas as pd\n",
    "conn = sqlite3.connect(\"sqlite-sakila.db\")"
   ]
  },
  {
   "cell_type": "code",
   "execution_count": 342,
   "id": "df0fc022-cd9f-4153-b1e8-690d6f9008d9",
   "metadata": {},
   "outputs": [],
   "source": [
    "film_df = pd.read_sql_query(\"SELECT * FROM film\", conn)\n",
    "inventory_df = pd.read_sql_query(\"SELECT * FROM inventory\", conn)\n",
    "rental_df = pd.read_sql_query(\"SELECT * FROM rental\", conn)"
   ]
  },
  {
   "cell_type": "code",
   "execution_count": 343,
   "id": "d0a5ea27-79ab-4685-922b-6c3193ac4c5a",
   "metadata": {},
   "outputs": [],
   "source": [
    "film_inv = pd.merge(film_df[[\"film_id\", \"title\"]], inventory_df, on=\"film_id\")"
   ]
  },
  {
   "cell_type": "code",
   "execution_count": 344,
   "id": "ed651f11-cf3e-4d64-8556-9de80ea0769c",
   "metadata": {},
   "outputs": [],
   "source": [
    "film_rental = pd.merge(film_inv, rental_df, on=\"inventory_id\")"
   ]
  },
  {
   "cell_type": "code",
   "execution_count": 345,
   "id": "90211db9-e4cc-44f1-a7a2-29eb44db19f1",
   "metadata": {},
   "outputs": [],
   "source": [
    "film_rental[\"rental_date\"] = pd.to_datetime(film_rental[\"rental_date\"])\n",
    "film_rental[\"return_date\"] = pd.to_datetime(film_rental[\"return_date\"])"
   ]
  },
  {
   "cell_type": "code",
   "execution_count": 346,
   "id": "c7095152-dcf2-4188-b0e4-7050b7b625ee",
   "metadata": {},
   "outputs": [],
   "source": [
    "film_rental[\"rental_days\"] = (film_rental[\"return_date\"] - film_rental[\"rental_date\"]).dt.days"
   ]
  },
  {
   "cell_type": "code",
   "execution_count": 347,
   "id": "2c52742e-95b5-49f6-b3bb-8c0f43d0a45e",
   "metadata": {},
   "outputs": [],
   "source": [
    "result_df = (film_rental.groupby(\"title\").agg(max_rental_days=(\"rental_days\", \"max\")).reset_index()\n",
    ".sort_values(\"max_rental_days\", ascending=True))"
   ]
  },
  {
   "cell_type": "code",
   "execution_count": null,
   "id": "16bf4180-5198-4b74-be9e-c742312af531",
   "metadata": {},
   "outputs": [],
   "source": [
    "result_df"
   ]
  },
  {
   "cell_type": "markdown",
   "id": "808e96e7-5ad9-4e13-9591-00074b53c3d4",
   "metadata": {},
   "source": [
    "# Soru 57: Müşterilerin kiraladığı filmler için ortalama ödeme miktarını bulun.  "
   ]
  },
  {
   "cell_type": "code",
   "execution_count": 349,
   "id": "27becdb2-5701-44c3-8f4b-58a6a5b0bb2b",
   "metadata": {},
   "outputs": [],
   "source": [
    "import sqlite3\n",
    "import pandas as pd\n",
    "conn = sqlite3.connect(\"sqlite-sakila.db\")"
   ]
  },
  {
   "cell_type": "code",
   "execution_count": 350,
   "id": "78e2e4f7-74a5-4282-b0ce-4f89570a805c",
   "metadata": {},
   "outputs": [],
   "source": [
    "customer_df = pd.read_sql_query(\"SELECT * FROM customer\", conn)\n",
    "rental_df = pd.read_sql_query(\"SELECT * FROM rental\", conn)\n",
    "payment_df = pd.read_sql_query(\"SELECT * FROM payment\", conn)"
   ]
  },
  {
   "cell_type": "code",
   "execution_count": 351,
   "id": "b01272e1-eca8-48ff-92e9-93af22f16465",
   "metadata": {},
   "outputs": [],
   "source": [
    "rental_payment = pd.merge(rental_df, payment_df, on=\"rental_id\")"
   ]
  },
  {
   "cell_type": "code",
   "execution_count": 352,
   "id": "be572b64-ddd9-4a86-9457-550c85588e0d",
   "metadata": {},
   "outputs": [],
   "source": [
    "if \"customer_id_x\" in rental_payment.columns and \"customer_id_y\" in rental_payment.columns:\n",
    "    rental_payment = rental_payment.rename(columns={\"customer_id_x\": \"customer_id\"})\n",
    "    rental_payment = rental_payment.drop(columns=[\"customer_id_y\"])"
   ]
  },
  {
   "cell_type": "code",
   "execution_count": 353,
   "id": "7f4205e5-f15e-4bc7-833a-016c223a08b1",
   "metadata": {},
   "outputs": [],
   "source": [
    "full_df = pd.merge(rental_payment, customer_df[[\"customer_id\", \"first_name\", \"last_name\"]], on=\"customer_id\")"
   ]
  },
  {
   "cell_type": "code",
   "execution_count": 354,
   "id": "bd01a8a7-54e2-4a58-a36e-5f2fdd3f8340",
   "metadata": {},
   "outputs": [],
   "source": [
    "result_df = (full_df.groupby([\"first_name\", \"last_name\"])\n",
    ".agg(avg_payment=(\"amount\", \"mean\")).reset_index())"
   ]
  },
  {
   "cell_type": "code",
   "execution_count": null,
   "id": "d7b01dd8-963a-4018-967e-cd56589b156c",
   "metadata": {},
   "outputs": [],
   "source": [
    "result_df[\"avg_payment\"] = result_df[\"avg_payment\"].round(2)\n",
    "result_df"
   ]
  },
  {
   "cell_type": "markdown",
   "id": "a9716f27-d95d-4d57-a95a-c43bbbf015bb",
   "metadata": {},
   "source": [
    "# Soru 58: En çok kiralanan filmlerin ortalama kiralama süresi nedir?  "
   ]
  },
  {
   "cell_type": "code",
   "execution_count": 356,
   "id": "03d29d6b-adaf-49ea-9af4-ee56e7bcc60b",
   "metadata": {},
   "outputs": [],
   "source": [
    "import sqlite3\n",
    "import pandas as pd\n",
    "conn = sqlite3.connect(\"sqlite-sakila.db\")"
   ]
  },
  {
   "cell_type": "code",
   "execution_count": 383,
   "id": "b3ff6237-4a24-4e45-9eb0-14739abb9b96",
   "metadata": {},
   "outputs": [],
   "source": [
    "film_df = pd.read_sql_query(\"SELECT * FROM film\", conn)\n",
    "inventory_df = pd.read_sql_query(\"SELECT * FROM inventory\", conn)\n",
    "rental_df = pd.read_sql_query(\"SELECT * FROM rental\", conn)"
   ]
  },
  {
   "cell_type": "code",
   "execution_count": 384,
   "id": "d5e2ab7f-1231-4382-b7a4-97203774b2e6",
   "metadata": {},
   "outputs": [],
   "source": [
    "film_inv = pd.merge(film_df[[\"film_id\", \"title\"]], inventory_df, on=\"film_id\")"
   ]
  },
  {
   "cell_type": "code",
   "execution_count": 385,
   "id": "e35cead5-8bda-4078-adcf-54b177669598",
   "metadata": {},
   "outputs": [],
   "source": [
    "film_rental = pd.merge(film_inv, rental_df, on=\"inventory_id\")"
   ]
  },
  {
   "cell_type": "code",
   "execution_count": 360,
   "id": "02263d66-687b-4bef-b26b-83cabff94fdb",
   "metadata": {},
   "outputs": [],
   "source": [
    "film_rental[\"rental_date\"] = pd.to_datetime(film_rental[\"rental_date\"])\n",
    "film_rental[\"return_date\"] = pd.to_datetime(film_rental[\"return_date\"])"
   ]
  },
  {
   "cell_type": "code",
   "execution_count": 361,
   "id": "28cc1b9d-77c8-44e0-89ca-c9a06337a4b8",
   "metadata": {},
   "outputs": [],
   "source": [
    "film_rental[\"rental_days\"] = (film_rental[\"return_date\"] - film_rental[\"rental_date\"]).dt.days"
   ]
  },
  {
   "cell_type": "code",
   "execution_count": 368,
   "id": "466c8890-8bbc-485c-8dd7-38725806460d",
   "metadata": {},
   "outputs": [],
   "source": [
    "result_df = (film_rental.groupby(\"title\").agg(avg_rental_days=(\"rental_days\", \"mean\"),rental_count=(\"rental_id\", \"count\"))\n",
    ".reset_index().sort_values(\"rental_count\", ascending=False))"
   ]
  },
  {
   "cell_type": "code",
   "execution_count": 369,
   "id": "330870a9-b187-4334-9fb4-4cf3e9df0628",
   "metadata": {},
   "outputs": [],
   "source": [
    "result_df[\"avg_rental_days\"] = result_df[\"avg_rental_days\"].round(2)"
   ]
  },
  {
   "cell_type": "code",
   "execution_count": null,
   "id": "0449fcb3-7fbc-4658-b23e-a993003969ef",
   "metadata": {},
   "outputs": [],
   "source": [
    "result_df"
   ]
  },
  {
   "cell_type": "markdown",
   "id": "d64e547e-ea3c-4ec7-91c3-c71c2aeb9e13",
   "metadata": {},
   "source": [
    "# Soru 59: En az kiralanan filmlerin ortalama kiralama süresi nedir? "
   ]
  },
  {
   "cell_type": "code",
   "execution_count": 371,
   "id": "a1cca41f-a350-48d2-99b4-5da15cf6ce04",
   "metadata": {},
   "outputs": [],
   "source": [
    "import sqlite3\n",
    "import pandas as pd\n",
    "conn = sqlite3.connect(\"sqlite-sakila.db\")"
   ]
  },
  {
   "cell_type": "code",
   "execution_count": 372,
   "id": "cb277257-a7f3-47b0-a608-61eb2365bb28",
   "metadata": {},
   "outputs": [],
   "source": [
    "film_df = pd.read_sql_query(\"SELECT * FROM film\", conn)\n",
    "inventory_df = pd.read_sql_query(\"SELECT * FROM inventory\", conn)\n",
    "rental_df = pd.read_sql_query(\"SELECT * FROM rental\", conn)"
   ]
  },
  {
   "cell_type": "code",
   "execution_count": 373,
   "id": "bf49ef64-43e1-4ac1-9b16-78b26fd7f52c",
   "metadata": {},
   "outputs": [],
   "source": [
    "film_inv = pd.merge(film_df[[\"film_id\", \"title\"]], inventory_df, on=\"film_id\")"
   ]
  },
  {
   "cell_type": "code",
   "execution_count": 374,
   "id": "513f0177-1f8d-44fa-944a-2cadcc559dc8",
   "metadata": {},
   "outputs": [],
   "source": [
    "film_rental = pd.merge(film_inv, rental_df, on=\"inventory_id\")"
   ]
  },
  {
   "cell_type": "code",
   "execution_count": 375,
   "id": "13110caf-8b11-42d3-b380-bb632f755c32",
   "metadata": {},
   "outputs": [],
   "source": [
    "film_rental[\"rental_date\"] = pd.to_datetime(film_rental[\"rental_date\"])\n",
    "film_rental[\"return_date\"] = pd.to_datetime(film_rental[\"return_date\"])"
   ]
  },
  {
   "cell_type": "code",
   "execution_count": 376,
   "id": "826120a8-5b98-43b2-b5fd-46e0a3107df9",
   "metadata": {},
   "outputs": [],
   "source": [
    "film_rental[\"rental_days\"] = (film_rental[\"return_date\"] - film_rental[\"rental_date\"]).dt.days"
   ]
  },
  {
   "cell_type": "code",
   "execution_count": 377,
   "id": "387c3971-7dde-44c2-9733-cfa55364ba1e",
   "metadata": {},
   "outputs": [],
   "source": [
    "result_df = (film_rental.groupby(\"title\").agg(avg_rental_days=(\"rental_days\", \"mean\"),rental_count=(\"rental_id\", \"count\"))\n",
    ".reset_index().sort_values(\"rental_count\", ascending=True))"
   ]
  },
  {
   "cell_type": "code",
   "execution_count": 378,
   "id": "4c9314b7-eb44-4acb-9c81-2c37011dc038",
   "metadata": {},
   "outputs": [],
   "source": [
    "result_df[\"avg_rental_days\"] = result_df[\"avg_rental_days\"].round(2)"
   ]
  },
  {
   "cell_type": "code",
   "execution_count": null,
   "id": "f0d1d9fd-5928-4c9d-ae99-f8b6cde6116b",
   "metadata": {},
   "outputs": [],
   "source": [
    "result_df"
   ]
  },
  {
   "cell_type": "markdown",
   "id": "a5d9f9ae-f187-46dc-8fbb-f94b867cd434",
   "metadata": {},
   "source": [
    "# Soru 60: En çok kazanç sağlayan müşterilerin ortalama ödeme miktarı nedir? "
   ]
  },
  {
   "cell_type": "code",
   "execution_count": 386,
   "id": "bed3464c-ea6a-419e-b745-dedf713862ba",
   "metadata": {},
   "outputs": [],
   "source": [
    "import sqlite3\n",
    "import pandas as pd\n",
    "conn = sqlite3.connect(\"sqlite-sakila.db\")"
   ]
  },
  {
   "cell_type": "code",
   "execution_count": 387,
   "id": "88e290c1-fa61-46f5-82fc-6d9262569ed5",
   "metadata": {},
   "outputs": [],
   "source": [
    "customer_df = pd.read_sql_query(\"SELECT * FROM customer\", conn)\n",
    "rental_df = pd.read_sql_query(\"SELECT * FROM rental\", conn)\n",
    "payment_df = pd.read_sql_query(\"SELECT * FROM payment\", conn)"
   ]
  },
  {
   "cell_type": "code",
   "execution_count": 388,
   "id": "8089ae9c-ba98-4e0b-8d3b-a755d1ebcc09",
   "metadata": {},
   "outputs": [],
   "source": [
    "rental_payment = pd.merge(rental_df, payment_df, on=\"rental_id\")"
   ]
  },
  {
   "cell_type": "code",
   "execution_count": 389,
   "id": "5c3d8e3a-f628-41ae-bc84-22da18b9d821",
   "metadata": {},
   "outputs": [],
   "source": [
    "if \"customer_id_x\" in rental_payment.columns and \"customer_id_y\" in rental_payment.columns:\n",
    "    rental_payment = rental_payment.rename(columns={\"customer_id_x\": \"customer_id\"})\n",
    "    rental_payment = rental_payment.drop(columns=[\"customer_id_y\"])"
   ]
  },
  {
   "cell_type": "code",
   "execution_count": 390,
   "id": "17285b20-f8ed-411d-9b83-c3c5e95dccb7",
   "metadata": {},
   "outputs": [],
   "source": [
    "full_df = pd.merge(rental_payment, customer_df[[\"customer_id\", \"first_name\", \"last_name\"]], on=\"customer_id\")"
   ]
  },
  {
   "cell_type": "code",
   "execution_count": 394,
   "id": "90072abd-cec0-487b-b5be-747f3dfcef6e",
   "metadata": {},
   "outputs": [],
   "source": [
    "grouped_df = (full_df.groupby([\"first_name\", \"last_name\"]).agg(\n",
    "total_payment=(\"amount\", \"sum\"),avg_payment=(\"amount\", \"mean\"))\n",
    ".reset_index().sort_values(\"total_payment\", ascending=False).head(10))"
   ]
  },
  {
   "cell_type": "code",
   "execution_count": 395,
   "id": "d4b3ec39-6080-4169-8303-71c0b1818239",
   "metadata": {},
   "outputs": [],
   "source": [
    "grouped_df[\"avg_payment\"] = grouped_df[\"avg_payment\"].round(2)"
   ]
  },
  {
   "cell_type": "code",
   "execution_count": null,
   "id": "d3f520fa-9b27-4bc4-9e5d-46572439a8ad",
   "metadata": {},
   "outputs": [],
   "source": [
    "result_df = grouped_df[[\"first_name\", \"last_name\", \"avg_payment\"]]\n",
    "result_df"
   ]
  },
  {
   "cell_type": "markdown",
   "id": "758dc041-75cd-42b3-b6f9-62a1b205aff0",
   "metadata": {},
   "source": [
    "# Soru 61: En az kazanç sağlayan müşterilerin ortalama ödeme miktarı nedir?  "
   ]
  },
  {
   "cell_type": "code",
   "execution_count": 397,
   "id": "b51a0666-2169-4e5f-b60a-8df514035420",
   "metadata": {},
   "outputs": [],
   "source": [
    "import sqlite3\n",
    "import pandas as pd\n",
    "conn = sqlite3.connect(\"sqlite-sakila.db\")"
   ]
  },
  {
   "cell_type": "code",
   "execution_count": 398,
   "id": "de9a0f7c-e8f1-41d2-8f13-818aa21da9e1",
   "metadata": {},
   "outputs": [],
   "source": [
    "customer_df = pd.read_sql_query(\"SELECT * FROM customer\", conn)\n",
    "rental_df = pd.read_sql_query(\"SELECT * FROM rental\", conn)\n",
    "payment_df = pd.read_sql_query(\"SELECT * FROM payment\", conn)"
   ]
  },
  {
   "cell_type": "code",
   "execution_count": 399,
   "id": "5620be98-0e42-4df8-ab10-641a33fe528b",
   "metadata": {},
   "outputs": [],
   "source": [
    "rental_payment = pd.merge(rental_df, payment_df, on=\"rental_id\")"
   ]
  },
  {
   "cell_type": "code",
   "execution_count": 400,
   "id": "02867d81-bf83-4dea-a659-816edacf26dc",
   "metadata": {},
   "outputs": [],
   "source": [
    "if \"customer_id_x\" in rental_payment.columns and \"customer_id_y\" in rental_payment.columns:\n",
    "    rental_payment = rental_payment.rename(columns={\"customer_id_x\": \"customer_id\"})\n",
    "    rental_payment = rental_payment.drop(columns=[\"customer_id_y\"])"
   ]
  },
  {
   "cell_type": "code",
   "execution_count": 401,
   "id": "70c0f9d1-0829-4243-8036-493a78ca61bb",
   "metadata": {},
   "outputs": [],
   "source": [
    "full_df = pd.merge(rental_payment, customer_df[[\"customer_id\", \"first_name\", \"last_name\"]], on=\"customer_id\")"
   ]
  },
  {
   "cell_type": "code",
   "execution_count": 402,
   "id": "868a7a27-ac97-4e0f-a959-1a12a29fed04",
   "metadata": {},
   "outputs": [],
   "source": [
    "grouped_df = (full_df.groupby([\"first_name\", \"last_name\"]).agg(\n",
    "total_payment=(\"amount\", \"sum\"),avg_payment=(\"amount\", \"mean\"))\n",
    ".reset_index().sort_values(\"total_payment\", ascending=True).head(10))"
   ]
  },
  {
   "cell_type": "code",
   "execution_count": 403,
   "id": "5a15218c-68fd-4b6c-a079-4c3f58684783",
   "metadata": {},
   "outputs": [],
   "source": [
    "grouped_df[\"avg_payment\"] = grouped_df[\"avg_payment\"].round(2)"
   ]
  },
  {
   "cell_type": "code",
   "execution_count": null,
   "id": "b45f3e9f-9975-4244-b19b-6fc9f22e8b8b",
   "metadata": {},
   "outputs": [],
   "source": [
    "result_df = grouped_df[[\"first_name\", \"last_name\", \"avg_payment\"]]\n",
    "result_df"
   ]
  },
  {
   "cell_type": "markdown",
   "id": "ea5e4c08-30c9-4cad-ad64-4432ed36e419",
   "metadata": {},
   "source": [
    "# Soru 62: Mağazalardaki toplam kiralama süresini bulun.  "
   ]
  },
  {
   "cell_type": "code",
   "execution_count": 413,
   "id": "889fac4e-667b-4e90-a283-e752af0f025a",
   "metadata": {},
   "outputs": [],
   "source": [
    "import sqlite3\n",
    "import pandas as pd\n",
    "conn = sqlite3.connect(\"sqlite-sakila.db\")"
   ]
  },
  {
   "cell_type": "code",
   "execution_count": 445,
   "id": "db0c9dbd-c8a0-47e7-8e7e-279cb19c8b73",
   "metadata": {},
   "outputs": [],
   "source": [
    "store_df = pd.read_sql_query(\"SELECT * FROM store\", conn)\n",
    "staff_df = pd.read_sql_query(\"SELECT * FROM staff\", conn)\n",
    "rental_df = pd.read_sql_query(\"SELECT * FROM rental\", conn)"
   ]
  },
  {
   "cell_type": "code",
   "execution_count": 446,
   "id": "22d7002d-9638-4776-9e9d-cc6684e556f8",
   "metadata": {},
   "outputs": [],
   "source": [
    "store_staff_df = pd.merge(store_df[[\"store_id\"]], staff_df[[\"staff_id\", \"store_id\"]], on=\"store_id\")"
   ]
  },
  {
   "cell_type": "code",
   "execution_count": 447,
   "id": "c0561d84-d20c-4501-a581-2a19d9f69fc0",
   "metadata": {},
   "outputs": [],
   "source": [
    "staff_rental_df = pd.merge(store_staff_df, rental_df, on=\"staff_id\")"
   ]
  },
  {
   "cell_type": "code",
   "execution_count": 448,
   "id": "9bf98998-04db-42d9-8b7a-2c0ba456f37f",
   "metadata": {},
   "outputs": [],
   "source": [
    "staff_rental_df[\"rental_date\"] = pd.to_datetime(staff_rental_df[\"rental_date\"])\n",
    "staff_rental_df[\"return_date\"] = pd.to_datetime(staff_rental_df[\"return_date\"])"
   ]
  },
  {
   "cell_type": "code",
   "execution_count": 449,
   "id": "08fc3307-bd90-4017-b7a8-1a4849abc7da",
   "metadata": {},
   "outputs": [],
   "source": [
    "staff_rental_df[\"rental_days\"] = (staff_rental_df[\"return_date\"] - staff_rental_df[\"rental_date\"]).dt.days"
   ]
  },
  {
   "cell_type": "code",
   "execution_count": 450,
   "id": "da4c9347-ebd8-422f-9292-8d8a8499e810",
   "metadata": {},
   "outputs": [],
   "source": [
    "valid_rentals = staff_rental_df.dropna(subset=[\"rental_days\"])"
   ]
  },
  {
   "cell_type": "code",
   "execution_count": 451,
   "id": "9679e7ea-5df0-4dc1-8b44-5db30dc3e701",
   "metadata": {},
   "outputs": [],
   "source": [
    "result_df = (valid_rentals.groupby(\"store_id\")\n",
    ".agg(total_rental_days=(\"rental_days\", \"sum\")).reset_index())"
   ]
  },
  {
   "cell_type": "code",
   "execution_count": null,
   "id": "5f833ec0-d314-44c8-acbf-c6e9228e5e29",
   "metadata": {},
   "outputs": [],
   "source": [
    "result_df"
   ]
  },
  {
   "cell_type": "markdown",
   "id": "c33ea805-89c4-424c-bf61-2bb1c56f2264",
   "metadata": {},
   "source": [
    "# Soru 63: En uzun süre kiralanan film hangi mağazada kiralanmış?  "
   ]
  },
  {
   "cell_type": "code",
   "execution_count": 454,
   "id": "55c07a24-6b51-413b-ad03-53bd67c3b6e5",
   "metadata": {},
   "outputs": [],
   "source": [
    "import sqlite3\n",
    "import pandas as pd\n",
    "conn = sqlite3.connect(\"sqlite-sakila.db\")"
   ]
  },
  {
   "cell_type": "code",
   "execution_count": 455,
   "id": "c15f89b9-d133-47f1-ae34-b85dddcf5a8c",
   "metadata": {},
   "outputs": [],
   "source": [
    "store_df = pd.read_sql_query(\"SELECT * FROM store\", conn)\n",
    "staff_df = pd.read_sql_query(\"SELECT * FROM staff\", conn)\n",
    "rental_df = pd.read_sql_query(\"SELECT * FROM rental\", conn)\n",
    "inventory_df = pd.read_sql_query(\"SELECT * FROM inventory\", conn)\n",
    "film_df = pd.read_sql_query(\"SELECT film_id, title FROM film\", conn)"
   ]
  },
  {
   "cell_type": "code",
   "execution_count": 456,
   "id": "ac920d6d-5f2f-4901-ba7c-81fd6b0990d9",
   "metadata": {},
   "outputs": [],
   "source": [
    "step1 = pd.merge(staff_df, store_df, on=\"store_id\")\n",
    "step2 = pd.merge(rental_df, step1, on=\"staff_id\")\n",
    "step3 = pd.merge(step2, inventory_df[[\"inventory_id\", \"film_id\"]], on=\"inventory_id\")\n",
    "full_df = pd.merge(step3, film_df, on=\"film_id\")"
   ]
  },
  {
   "cell_type": "code",
   "execution_count": 457,
   "id": "22a1f076-d2eb-4d0a-93c7-ac39c68e4f06",
   "metadata": {},
   "outputs": [],
   "source": [
    "full_df[\"rental_date\"] = pd.to_datetime(full_df[\"rental_date\"])\n",
    "full_df[\"return_date\"] = pd.to_datetime(full_df[\"return_date\"])\n",
    "full_df = full_df[full_df[\"return_date\"].notna()]"
   ]
  },
  {
   "cell_type": "code",
   "execution_count": 458,
   "id": "b38b20c9-f255-4fec-bd68-137ba501aada",
   "metadata": {},
   "outputs": [],
   "source": [
    "full_df[\"rental_days\"] = (full_df[\"return_date\"] - full_df[\"rental_date\"]).dt.days"
   ]
  },
  {
   "cell_type": "code",
   "execution_count": 460,
   "id": "5c1c967d-e70f-4dd6-8fbd-0d0da7193b69",
   "metadata": {},
   "outputs": [],
   "source": [
    "grouped = (full_df.groupby([\"store_id\", \"title\"]).agg(max_rental_days=(\"rental_days\", \"max\"))\n",
    ".reset_index().sort_values(\"max_rental_days\", ascending=False))"
   ]
  },
  {
   "cell_type": "code",
   "execution_count": null,
   "id": "9929e002-8c15-4004-8f62-711846dee8fe",
   "metadata": {},
   "outputs": [],
   "source": [
    "top_result = grouped.head(1)\n",
    "top_result"
   ]
  },
  {
   "cell_type": "markdown",
   "id": "b7253a0a-952a-45c9-a612-409e7fb1a8fb",
   "metadata": {},
   "source": [
    "# Soru 64: En kısa süre kiralanan film hangi mağazada kiralanmış? "
   ]
  },
  {
   "cell_type": "code",
   "execution_count": 462,
   "id": "119c794d-d2df-44f9-b0fe-3f5d40d4f6d1",
   "metadata": {},
   "outputs": [],
   "source": [
    "import sqlite3\n",
    "import pandas as pd\n",
    "conn = sqlite3.connect(\"sqlite-sakila.db\")"
   ]
  },
  {
   "cell_type": "code",
   "execution_count": 463,
   "id": "e996d911-13c8-4ff4-8ec7-eb0a83063b5e",
   "metadata": {},
   "outputs": [],
   "source": [
    "store_df = pd.read_sql_query(\"SELECT * FROM store\", conn)\n",
    "staff_df = pd.read_sql_query(\"SELECT * FROM staff\", conn)\n",
    "rental_df = pd.read_sql_query(\"SELECT * FROM rental\", conn)\n",
    "inventory_df = pd.read_sql_query(\"SELECT * FROM inventory\", conn)\n",
    "film_df = pd.read_sql_query(\"SELECT film_id, title FROM film\", conn)"
   ]
  },
  {
   "cell_type": "code",
   "execution_count": 464,
   "id": "15df0113-bff4-4cca-a2b0-63fc51c238f9",
   "metadata": {},
   "outputs": [],
   "source": [
    "step1 = pd.merge(staff_df, store_df, on=\"store_id\")\n",
    "step2 = pd.merge(rental_df, step1, on=\"staff_id\")\n",
    "step3 = pd.merge(step2, inventory_df[[\"inventory_id\", \"film_id\"]], on=\"inventory_id\")\n",
    "full_df = pd.merge(step3, film_df, on=\"film_id\")"
   ]
  },
  {
   "cell_type": "code",
   "execution_count": 465,
   "id": "1b185fe3-e952-4472-8ae9-a904c71e3d35",
   "metadata": {},
   "outputs": [],
   "source": [
    "full_df[\"rental_date\"] = pd.to_datetime(full_df[\"rental_date\"])\n",
    "full_df[\"return_date\"] = pd.to_datetime(full_df[\"return_date\"])\n",
    "full_df = full_df[full_df[\"return_date\"].notna()]"
   ]
  },
  {
   "cell_type": "code",
   "execution_count": 466,
   "id": "7103673a-5c49-4ca3-975e-92c9c9782afd",
   "metadata": {},
   "outputs": [],
   "source": [
    "full_df[\"rental_days\"] = (full_df[\"return_date\"] - full_df[\"rental_date\"]).dt.days"
   ]
  },
  {
   "cell_type": "code",
   "execution_count": 467,
   "id": "62dec35d-1ad4-4766-9265-49f3778119ab",
   "metadata": {},
   "outputs": [],
   "source": [
    "grouped = (full_df.groupby([\"store_id\", \"title\"]).agg(max_rental_days=(\"rental_days\", \"max\"))\n",
    ".reset_index().sort_values(\"max_rental_days\", ascending=True))"
   ]
  },
  {
   "cell_type": "code",
   "execution_count": null,
   "id": "f7d0fde4-8277-48c8-9b39-84849a3d195e",
   "metadata": {},
   "outputs": [],
   "source": [
    "top_result = grouped.head(1)\n",
    "top_result"
   ]
  },
  {
   "cell_type": "markdown",
   "id": "3d488842-ebe3-4216-8e02-69420e4743a2",
   "metadata": {},
   "source": [
    "# Soru 65: Her filmin ortalama kiralama süresi nedir? "
   ]
  },
  {
   "cell_type": "code",
   "execution_count": 469,
   "id": "e6b3c778-64f7-4642-b8f9-f270133ac36e",
   "metadata": {},
   "outputs": [],
   "source": [
    "import sqlite3\n",
    "import pandas as pd\n",
    "conn = sqlite3.connect(\"sqlite-sakila.db\")"
   ]
  },
  {
   "cell_type": "code",
   "execution_count": 470,
   "id": "180e27b6-6058-4d3f-a31e-9663a718be47",
   "metadata": {},
   "outputs": [],
   "source": [
    "film_df = pd.read_sql_query(\"SELECT film_id, title FROM film\", conn)\n",
    "inventory_df = pd.read_sql_query(\"SELECT inventory_id, film_id FROM inventory\", conn)\n",
    "rental_df = pd.read_sql_query(\"SELECT inventory_id, rental_date, return_date FROM rental\", conn)"
   ]
  },
  {
   "cell_type": "code",
   "execution_count": 471,
   "id": "012bafac-1117-4568-b7ce-47746236dacc",
   "metadata": {},
   "outputs": [],
   "source": [
    "step1 = pd.merge(inventory_df, film_df, on=\"film_id\")\n",
    "full_df = pd.merge(step1, rental_df, on=\"inventory_id\")"
   ]
  },
  {
   "cell_type": "code",
   "execution_count": 472,
   "id": "f380cddd-1644-4b38-be3b-2ff8d21886a1",
   "metadata": {},
   "outputs": [],
   "source": [
    "full_df[\"rental_date\"] = pd.to_datetime(full_df[\"rental_date\"])\n",
    "full_df[\"return_date\"] = pd.to_datetime(full_df[\"return_date\"])"
   ]
  },
  {
   "cell_type": "code",
   "execution_count": 473,
   "id": "edd349e3-702a-4bb8-a543-273e5671d253",
   "metadata": {},
   "outputs": [],
   "source": [
    "full_df = full_df[full_df[\"return_date\"].notna()]"
   ]
  },
  {
   "cell_type": "code",
   "execution_count": 474,
   "id": "3499be25-38ef-4f28-981f-8fe10b5029d5",
   "metadata": {},
   "outputs": [],
   "source": [
    "full_df[\"rental_days\"] = (full_df[\"return_date\"] - full_df[\"rental_date\"]).dt.days"
   ]
  },
  {
   "cell_type": "code",
   "execution_count": 475,
   "id": "73654e2b-1aab-41f9-9bc9-b9d0a729deb4",
   "metadata": {},
   "outputs": [],
   "source": [
    "result_df = (full_df.groupby(\"title\").agg(avg_rental_days=(\"rental_days\", \"mean\"))\n",
    ".reset_index().sort_values(\"avg_rental_days\", ascending=False))"
   ]
  },
  {
   "cell_type": "code",
   "execution_count": 476,
   "id": "1e8fe389-634c-4867-8019-02f7abdcc199",
   "metadata": {},
   "outputs": [],
   "source": [
    "result_df[\"avg_rental_days\"] = result_df[\"avg_rental_days\"].round(2)"
   ]
  },
  {
   "cell_type": "code",
   "execution_count": null,
   "id": "168909c4-1dea-4f5e-8efb-5c4740e05555",
   "metadata": {},
   "outputs": [],
   "source": [
    "result_df"
   ]
  },
  {
   "cell_type": "markdown",
   "id": "90798fb2-e35c-4665-a9da-d6c171275fc3",
   "metadata": {},
   "source": [
    "# Soru 66: Hangi filmler en çok kiralanan kategoride? "
   ]
  },
  {
   "cell_type": "code",
   "execution_count": 9,
   "id": "803b959f-36a5-4188-95f6-1a00813241c7",
   "metadata": {},
   "outputs": [],
   "source": [
    "import sqlite3\n",
    "import pandas as pd\n",
    "conn = sqlite3.connect(\"sqlite-sakila.db\")"
   ]
  },
  {
   "cell_type": "code",
   "execution_count": 10,
   "id": "9b9bb710-d4d2-447d-bd3b-c00c16564148",
   "metadata": {},
   "outputs": [],
   "source": [
    "category_df = pd.read_sql_query(\"SELECT * FROM category\", conn)\n",
    "film_category_df = pd.read_sql_query(\"SELECT * FROM film_category\", conn)\n",
    "film_df = pd.read_sql_query(\"SELECT film_id, title FROM film\", conn)\n",
    "inventory_df = pd.read_sql_query(\"SELECT film_id, inventory_id FROM inventory\", conn)\n",
    "rental_df = pd.read_sql_query(\"SELECT rental_id, inventory_id FROM rental\", conn)"
   ]
  },
  {
   "cell_type": "code",
   "execution_count": 11,
   "id": "f16d3e96-8855-4310-8d62-b2f50a5d7b96",
   "metadata": {},
   "outputs": [],
   "source": [
    "step1 = pd.merge(category_df, film_category_df, on=\"category_id\")\n",
    "step2 = pd.merge(step1, film_df, on=\"film_id\")\n",
    "step3 = pd.merge(step2, inventory_df, on=\"film_id\")\n",
    "step4 = pd.merge(step3, rental_df, on=\"inventory_id\")"
   ]
  },
  {
   "cell_type": "code",
   "execution_count": 12,
   "id": "afc2728c-92fa-4afe-8d1a-88d27b82ff93",
   "metadata": {},
   "outputs": [],
   "source": [
    "result_df = (step4.groupby([\"name\", \"title\"]).agg(rental_count=(\"rental_id\", \"count\"))\n",
    ".reset_index().rename(columns={\"name\": \"genre\"}).sort_values(\"rental_count\", ascending=False))"
   ]
  },
  {
   "cell_type": "code",
   "execution_count": null,
   "id": "b00b8fe5-9264-4665-bd78-60e2b8c33fa8",
   "metadata": {},
   "outputs": [],
   "source": [
    "result_df"
   ]
  },
  {
   "cell_type": "markdown",
   "id": "118d9396-c67d-4f9f-b976-f28a91a24805",
   "metadata": {},
   "source": [
    "# Soru 67: Hangi filmler en az kiralanan kategoride? "
   ]
  },
  {
   "cell_type": "code",
   "execution_count": 41,
   "id": "cc01b4ba-d416-491d-8e60-c5641ba70798",
   "metadata": {},
   "outputs": [],
   "source": [
    "import sqlite3\n",
    "import pandas as pd\n",
    "conn = sqlite3.connect(\"sqlite-sakila.db\")"
   ]
  },
  {
   "cell_type": "code",
   "execution_count": 42,
   "id": "1940fec4-d38e-4e16-8b42-80ed2220ac31",
   "metadata": {},
   "outputs": [],
   "source": [
    "category_df = pd.read_sql_query(\"SELECT * FROM category\", conn)\n",
    "film_category_df = pd.read_sql_query(\"SELECT * FROM film_category\", conn)\n",
    "film_df = pd.read_sql_query(\"SELECT film_id, title FROM film\", conn)\n",
    "inventory_df = pd.read_sql_query(\"SELECT film_id, inventory_id FROM inventory\", conn)\n",
    "rental_df = pd.read_sql_query(\"SELECT rental_id, inventory_id FROM rental\", conn)"
   ]
  },
  {
   "cell_type": "code",
   "execution_count": 43,
   "id": "dd324591-b26c-485c-96da-a792360dce74",
   "metadata": {},
   "outputs": [],
   "source": [
    "step1 = pd.merge(category_df, film_category_df, on=\"category_id\")\n",
    "step2 = pd.merge(step1, film_df, on=\"film_id\")\n",
    "step3 = pd.merge(step2, inventory_df, on=\"film_id\")\n",
    "step4 = pd.merge(step3, rental_df, on=\"inventory_id\")"
   ]
  },
  {
   "cell_type": "code",
   "execution_count": 44,
   "id": "ca5df49f-e167-4370-b362-554053f466e3",
   "metadata": {},
   "outputs": [],
   "source": [
    "result_df = (step4.groupby([\"name\", \"title\"]).agg(rental_count=(\"rental_id\", \"count\"))\n",
    ".reset_index().rename(columns={\"name\": \"genre\"}).sort_values(\"rental_count\", ascending=True))"
   ]
  },
  {
   "cell_type": "code",
   "execution_count": null,
   "id": "bda76389-069e-4738-9d1b-05d5f2e6f1b5",
   "metadata": {},
   "outputs": [],
   "source": [
    "result_df"
   ]
  },
  {
   "cell_type": "markdown",
   "id": "6008752a-2660-49ea-85c0-c195327d44d1",
   "metadata": {},
   "source": [
    "# Soru 68: Hangi mağazalarda en çok film kiralanmış? "
   ]
  },
  {
   "cell_type": "code",
   "execution_count": 31,
   "id": "edc2ca4a-6250-40bf-9349-a185f091c5f7",
   "metadata": {},
   "outputs": [],
   "source": [
    "import sqlite3\n",
    "import pandas as pd\n",
    "conn = sqlite3.connect(\"sqlite-sakila.db\")"
   ]
  },
  {
   "cell_type": "code",
   "execution_count": 32,
   "id": "6dbebba8-6e9d-4ca3-8b80-6f07b464c9ad",
   "metadata": {},
   "outputs": [],
   "source": [
    "store_df = pd.read_sql_query(\"SELECT * FROM store\", conn)\n",
    "staff_df = pd.read_sql_query(\"SELECT * FROM staff\", conn)\n",
    "rental_df = pd.read_sql_query(\"SELECT * FROM rental\", conn)"
   ]
  },
  {
   "cell_type": "code",
   "execution_count": 33,
   "id": "08135804-263b-4c77-a36d-43924d4ff114",
   "metadata": {},
   "outputs": [],
   "source": [
    "staff_store = pd.merge(staff_df[[\"staff_id\", \"store_id\"]], rental_df[[\"rental_id\", \"staff_id\"]], on=\"staff_id\")"
   ]
  },
  {
   "cell_type": "code",
   "execution_count": 34,
   "id": "968cae4f-f2ff-4605-a816-22f0efc64fb5",
   "metadata": {},
   "outputs": [],
   "source": [
    "result_df = (staff_store.groupby(\"store_id\").agg(rental_count=(\"rental_id\", \"count\"))\n",
    ".reset_index().sort_values(\"rental_count\", ascending=False))"
   ]
  },
  {
   "cell_type": "code",
   "execution_count": null,
   "id": "c6e89159-c897-4ddd-bbed-562ca9913635",
   "metadata": {},
   "outputs": [],
   "source": [
    "result_df"
   ]
  },
  {
   "cell_type": "markdown",
   "id": "be2afebf-b2fa-4cec-8c1e-c8d06eb57c2e",
   "metadata": {},
   "source": [
    "# Soru 69: Hangi mağazalarda en az film kiralanmış?  "
   ]
  },
  {
   "cell_type": "code",
   "execution_count": 46,
   "id": "252e881d-f9b3-4b08-8a1a-bd3bb854a6f9",
   "metadata": {},
   "outputs": [],
   "source": [
    "import sqlite3\n",
    "import pandas as pd\n",
    "conn = sqlite3.connect(\"sqlite-sakila.db\")"
   ]
  },
  {
   "cell_type": "code",
   "execution_count": 47,
   "id": "8a676ab0-feda-49ec-8ad0-c2159903a56b",
   "metadata": {},
   "outputs": [],
   "source": [
    "store_df = pd.read_sql_query(\"SELECT * FROM store\", conn)\n",
    "staff_df = pd.read_sql_query(\"SELECT * FROM staff\", conn)\n",
    "rental_df = pd.read_sql_query(\"SELECT * FROM rental\", conn)"
   ]
  },
  {
   "cell_type": "code",
   "execution_count": 48,
   "id": "4b719abb-170a-43b9-9608-1f4574e664e8",
   "metadata": {},
   "outputs": [],
   "source": [
    "staff_store = pd.merge(staff_df[[\"staff_id\", \"store_id\"]], rental_df[[\"rental_id\", \"staff_id\"]], on=\"staff_id\")"
   ]
  },
  {
   "cell_type": "code",
   "execution_count": 49,
   "id": "e85ebb12-099d-4aae-a82d-4cee79cd621c",
   "metadata": {},
   "outputs": [],
   "source": [
    "result_df = (staff_store.groupby(\"store_id\").agg(rental_count=(\"rental_id\", \"count\")).reset_index().sort_values(\"rental_count\", ascending=True))"
   ]
  },
  {
   "cell_type": "code",
   "execution_count": null,
   "id": "dda1cc5a-50d3-4e4a-8906-d3dbcc3952c3",
   "metadata": {},
   "outputs": [],
   "source": [
    "result_df"
   ]
  },
  {
   "cell_type": "markdown",
   "id": "40c7ba81-cb12-42fa-9de7-9622f29d6cf7",
   "metadata": {},
   "source": [
    "# Soru 70: Hangi aktörler en çok filmde rol almış? "
   ]
  },
  {
   "cell_type": "code",
   "execution_count": 51,
   "id": "dec3ce50-505c-4187-90ca-60292af1f403",
   "metadata": {},
   "outputs": [],
   "source": [
    "import sqlite3\n",
    "import pandas as pd\n",
    "conn = sqlite3.connect(\"sqlite-sakila.db\")"
   ]
  },
  {
   "cell_type": "code",
   "execution_count": 52,
   "id": "abcfdb20-5e3e-4b6a-a614-6a64d4533556",
   "metadata": {},
   "outputs": [],
   "source": [
    "actor_df = pd.read_sql_query(\"SELECT * FROM actor\", conn)\n",
    "film_actor_df = pd.read_sql_query(\"SELECT * FROM film_actor\", conn)"
   ]
  },
  {
   "cell_type": "code",
   "execution_count": 53,
   "id": "71182bb3-fad1-4ec8-9143-fd615459e46e",
   "metadata": {},
   "outputs": [],
   "source": [
    "actor_films = pd.merge(actor_df, film_actor_df, on=\"actor_id\")"
   ]
  },
  {
   "cell_type": "code",
   "execution_count": 54,
   "id": "d77b5791-4daa-485b-8690-d03992d524e3",
   "metadata": {},
   "outputs": [],
   "source": [
    "result_df = (actor_films.groupby([\"first_name\", \"last_name\"]).agg(film_count=(\"film_id\", \"count\"))\n",
    ".reset_index().sort_values(\"film_count\", ascending=False))"
   ]
  },
  {
   "cell_type": "code",
   "execution_count": null,
   "id": "96b394fd-1be5-4b1c-8118-f1af7c0ea4a1",
   "metadata": {},
   "outputs": [],
   "source": [
    "result_df"
   ]
  },
  {
   "cell_type": "markdown",
   "id": "d902745c-ea40-4565-80a2-cef620c30882",
   "metadata": {},
   "source": [
    "# Soru 71: Hangi aktörler en az filmde rol almış? "
   ]
  },
  {
   "cell_type": "code",
   "execution_count": 61,
   "id": "d1805f8d-fab1-45de-9475-fc6d782823e4",
   "metadata": {},
   "outputs": [],
   "source": [
    "import sqlite3\n",
    "import pandas as pd\n",
    "conn = sqlite3.connect(\"sqlite-sakila.db\")"
   ]
  },
  {
   "cell_type": "code",
   "execution_count": 62,
   "id": "c6d0a7f0-42f4-4869-967e-46a82fb4337a",
   "metadata": {},
   "outputs": [],
   "source": [
    "actor_df = pd.read_sql_query(\"SELECT * FROM actor\", conn)\n",
    "film_actor_df = pd.read_sql_query(\"SELECT * FROM film_actor\", conn)"
   ]
  },
  {
   "cell_type": "code",
   "execution_count": 63,
   "id": "bf034506-777b-4a91-91fa-166e6951312f",
   "metadata": {},
   "outputs": [],
   "source": [
    "actor_films = pd.merge(actor_df, film_actor_df, on=\"actor_id\")"
   ]
  },
  {
   "cell_type": "code",
   "execution_count": 64,
   "id": "c9f1455f-9ba9-4dbb-a101-41d4a32159e6",
   "metadata": {},
   "outputs": [],
   "source": [
    "result_df = (actor_films.groupby([\"first_name\", \"last_name\"]).agg(film_count=(\"film_id\", \"count\"))\n",
    ".reset_index().sort_values(\"film_count\", ascending=True))"
   ]
  },
  {
   "cell_type": "code",
   "execution_count": null,
   "id": "22b50bee-e2ee-407f-b649-c9fbde39aa7e",
   "metadata": {},
   "outputs": [],
   "source": [
    "result_df"
   ]
  },
  {
   "cell_type": "markdown",
   "id": "b52c2f4c-5035-4506-b467-8d3a3c2798f6",
   "metadata": {},
   "source": [
    "# Soru 72: Hangi aktörlerin oynadığı filmler en çok kiralanmış?  "
   ]
  },
  {
   "cell_type": "code",
   "execution_count": 69,
   "id": "1a7c0df9-7683-48b6-889a-7eea68fb924e",
   "metadata": {},
   "outputs": [],
   "source": [
    "import sqlite3\n",
    "import pandas as pd\n",
    "conn = sqlite3.connect(\"sqlite-sakila.db\")"
   ]
  },
  {
   "cell_type": "code",
   "execution_count": 70,
   "id": "5d03a3ed-e05f-4ef9-aaa1-80c73f244399",
   "metadata": {},
   "outputs": [],
   "source": [
    "actor_df = pd.read_sql_query(\"SELECT * FROM actor\", conn)\n",
    "film_actor_df = pd.read_sql_query(\"SELECT * FROM film_actor\", conn)\n",
    "film_df = pd.read_sql_query(\"SELECT * FROM film\", conn)\n",
    "inventory_df = pd.read_sql_query(\"SELECT * FROM inventory\", conn)\n",
    "rental_df = pd.read_sql_query(\"SELECT * FROM rental\", conn)"
   ]
  },
  {
   "cell_type": "code",
   "execution_count": 71,
   "id": "0363484d-6a54-46e0-826a-f570c709e372",
   "metadata": {},
   "outputs": [],
   "source": [
    "actor_df = actor_df.drop(columns=[\"last_update\"])\n",
    "film_actor_df = film_actor_df.drop(columns=[\"last_update\"])\n",
    "film_df = film_df.drop(columns=[\"last_update\"])\n",
    "inventory_df = inventory_df.drop(columns=[\"last_update\"])\n",
    "rental_df = rental_df.drop(columns=[\"last_update\"])"
   ]
  },
  {
   "cell_type": "code",
   "execution_count": 72,
   "id": "9836324d-637b-4f1b-a80d-b1eb60d2f011",
   "metadata": {},
   "outputs": [],
   "source": [
    "actor_film_df = pd.merge(actor_df, film_actor_df, on=\"actor_id\")\n",
    "actor_film_detail_df = pd.merge(actor_film_df, film_df, on=\"film_id\")\n",
    "film_inventory_df = pd.merge(actor_film_detail_df, inventory_df, on=\"film_id\")\n",
    "full_df = pd.merge(film_inventory_df, rental_df, on=\"inventory_id\")"
   ]
  },
  {
   "cell_type": "code",
   "execution_count": 73,
   "id": "59a01014-c900-4e80-9d62-b958c3b9c9a4",
   "metadata": {},
   "outputs": [],
   "source": [
    "result_df = (full_df.groupby([\"first_name\", \"last_name\"]).agg(rental_count=(\"rental_id\", \"count\"))\n",
    ".reset_index().sort_values(\"rental_count\", ascending=False))"
   ]
  },
  {
   "cell_type": "code",
   "execution_count": null,
   "id": "43623ab0-9a74-47dc-aedb-6370b9ddd9d7",
   "metadata": {},
   "outputs": [],
   "source": [
    "result_df"
   ]
  },
  {
   "cell_type": "markdown",
   "id": "4a7b25df-7dc3-4bc6-9b82-be5a4091e82b",
   "metadata": {},
   "source": [
    "# Soru 73: Hangi aktörlerin oynadığı filmler en az kiralanmış? "
   ]
  },
  {
   "cell_type": "code",
   "execution_count": 75,
   "id": "b16b98dc-3627-44e7-abb8-f8e010738451",
   "metadata": {},
   "outputs": [],
   "source": [
    "import sqlite3\n",
    "import pandas as pd\n",
    "conn = sqlite3.connect(\"sqlite-sakila.db\")"
   ]
  },
  {
   "cell_type": "code",
   "execution_count": 76,
   "id": "0613746e-9174-4f60-877f-09a588a8c864",
   "metadata": {},
   "outputs": [],
   "source": [
    "actor_df = pd.read_sql_query(\"SELECT * FROM actor\", conn)\n",
    "film_actor_df = pd.read_sql_query(\"SELECT * FROM film_actor\", conn)\n",
    "film_df = pd.read_sql_query(\"SELECT * FROM film\", conn)\n",
    "inventory_df = pd.read_sql_query(\"SELECT * FROM inventory\", conn)\n",
    "rental_df = pd.read_sql_query(\"SELECT * FROM rental\", conn)"
   ]
  },
  {
   "cell_type": "code",
   "execution_count": 79,
   "id": "0bfe65c6-65e3-44ea-a159-30455e27a357",
   "metadata": {},
   "outputs": [],
   "source": [
    "actor_df = actor_df.drop(columns=[\"last_update\"])\n",
    "film_actor_df = film_actor_df.drop(columns=[\"last_update\"])\n",
    "film_df = film_df.drop(columns=[\"last_update\"])\n",
    "inventory_df = inventory_df.drop(columns=[\"last_update\"])\n",
    "rental_df = rental_df.drop(columns=[\"last_update\"])"
   ]
  },
  {
   "cell_type": "code",
   "execution_count": 80,
   "id": "88355e9e-3d39-4bd6-a8bc-e59adb796574",
   "metadata": {},
   "outputs": [],
   "source": [
    "actor_film_df = pd.merge(actor_df, film_actor_df, on=\"actor_id\")\n",
    "actor_film_detail_df = pd.merge(actor_film_df, film_df, on=\"film_id\")\n",
    "film_inventory_df = pd.merge(actor_film_detail_df, inventory_df, on=\"film_id\")\n",
    "full_df = pd.merge(film_inventory_df, rental_df, on=\"inventory_id\")"
   ]
  },
  {
   "cell_type": "code",
   "execution_count": 81,
   "id": "c6743a68-070e-4541-94ff-d643f0be8bcc",
   "metadata": {},
   "outputs": [],
   "source": [
    "result_df = (full_df.groupby([\"first_name\", \"last_name\"]).agg(rental_count=(\"rental_id\", \"count\"))\n",
    ".reset_index().sort_values(\"rental_count\", ascending=True))"
   ]
  },
  {
   "cell_type": "code",
   "execution_count": null,
   "id": "55c84b2d-2d45-4835-bb9b-41a703ec5769",
   "metadata": {},
   "outputs": [],
   "source": [
    "result_df"
   ]
  },
  {
   "cell_type": "markdown",
   "id": "4dc17c67-0f60-461d-b900-791e464addfc",
   "metadata": {},
   "source": [
    "# Soru 74: Hangi kategorilerde en fazla aktör oynamış? "
   ]
  },
  {
   "cell_type": "code",
   "execution_count": 87,
   "id": "1e7a4819-5d29-4d66-829b-05f997b270d6",
   "metadata": {},
   "outputs": [],
   "source": [
    "import sqlite3\n",
    "import pandas as pd\n",
    "conn = sqlite3.connect(\"sqlite-sakila.db\")"
   ]
  },
  {
   "cell_type": "code",
   "execution_count": 88,
   "id": "de0d5212-e062-4a85-8d99-392598befe11",
   "metadata": {},
   "outputs": [],
   "source": [
    "category_df = pd.read_sql_query(\"SELECT * FROM category\", conn)\n",
    "film_category_df = pd.read_sql_query(\"SELECT * FROM film_category\", conn)\n",
    "film_df = pd.read_sql_query(\"SELECT * FROM film\", conn)\n",
    "film_actor_df = pd.read_sql_query(\"SELECT * FROM film_actor\", conn)"
   ]
  },
  {
   "cell_type": "code",
   "execution_count": 89,
   "id": "866827b9-f49d-4981-8018-adefbf19c66c",
   "metadata": {},
   "outputs": [],
   "source": [
    "category_df = category_df.drop(columns=[\"last_update\"])\n",
    "film_category_df = film_category_df.drop(columns=[\"last_update\"])\n",
    "film_df = film_df.drop(columns=[\"last_update\"])\n",
    "film_actor_df = film_actor_df.drop(columns=[\"last_update\"])"
   ]
  },
  {
   "cell_type": "code",
   "execution_count": 90,
   "id": "ed1676bf-b2be-49e1-bf8d-46498edecc1e",
   "metadata": {},
   "outputs": [],
   "source": [
    "step1 = pd.merge(category_df, film_category_df, on=\"category_id\")\n",
    "step2 = pd.merge(step1, film_df, on=\"film_id\")\n",
    "step3 = pd.merge(step2, film_actor_df, on=\"film_id\")"
   ]
  },
  {
   "cell_type": "code",
   "execution_count": 91,
   "id": "66a8e750-b33f-4900-b0ef-51dc85a0f3a2",
   "metadata": {},
   "outputs": [],
   "source": [
    "actor_count_by_genre = (step3.groupby(\"name\")[\"actor_id\"].nunique()\n",
    ".reset_index(name=\"actor_count\").sort_values(\"actor_count\", ascending=False))"
   ]
  },
  {
   "cell_type": "code",
   "execution_count": null,
   "id": "e0673ab1-0b23-4654-a700-0f6c81ac3527",
   "metadata": {},
   "outputs": [],
   "source": [
    "actor_count_by_genre"
   ]
  },
  {
   "cell_type": "markdown",
   "id": "212881da-d3ed-49fd-a9f0-b1d23f2a9b62",
   "metadata": {},
   "source": [
    "# Soru 75: Hangi kategorilerde en az aktör oynamış? "
   ]
  },
  {
   "cell_type": "code",
   "execution_count": 93,
   "id": "429d4286-fc97-46f5-8746-61d6345e9133",
   "metadata": {},
   "outputs": [],
   "source": [
    "import sqlite3\n",
    "import pandas as pd\n",
    "conn = sqlite3.connect(\"sqlite-sakila.db\")"
   ]
  },
  {
   "cell_type": "code",
   "execution_count": 94,
   "id": "4843c776-ffdf-45bf-b2a5-cab6387d8d9d",
   "metadata": {},
   "outputs": [],
   "source": [
    "category_df = pd.read_sql_query(\"SELECT * FROM category\", conn)\n",
    "film_category_df = pd.read_sql_query(\"SELECT * FROM film_category\", conn)\n",
    "film_df = pd.read_sql_query(\"SELECT * FROM film\", conn)\n",
    "film_actor_df = pd.read_sql_query(\"SELECT * FROM film_actor\", conn)"
   ]
  },
  {
   "cell_type": "code",
   "execution_count": 95,
   "id": "eea6172f-b5ef-482a-acf6-c43b9af03158",
   "metadata": {},
   "outputs": [],
   "source": [
    "category_df = category_df.drop(columns=[\"last_update\"])\n",
    "film_category_df = film_category_df.drop(columns=[\"last_update\"])\n",
    "film_df = film_df.drop(columns=[\"last_update\"])\n",
    "film_actor_df = film_actor_df.drop(columns=[\"last_update\"])"
   ]
  },
  {
   "cell_type": "code",
   "execution_count": 96,
   "id": "3806e108-7135-496c-aac1-5706c5889a93",
   "metadata": {},
   "outputs": [],
   "source": [
    "step1 = pd.merge(category_df, film_category_df, on=\"category_id\")\n",
    "step2 = pd.merge(step1, film_df, on=\"film_id\")\n",
    "step3 = pd.merge(step2, film_actor_df, on=\"film_id\")"
   ]
  },
  {
   "cell_type": "code",
   "execution_count": 97,
   "id": "b6931f63-28a0-400e-9482-44927ffa1244",
   "metadata": {},
   "outputs": [],
   "source": [
    "actor_count_by_genre = (step3.groupby(\"name\")[\"actor_id\"].nunique()\n",
    ".reset_index(name=\"actor_count\").sort_values(\"actor_count\", ascending=True))"
   ]
  },
  {
   "cell_type": "code",
   "execution_count": null,
   "id": "b8591304-0572-4b9c-8a41-ae00eef113d5",
   "metadata": {},
   "outputs": [],
   "source": [
    "actor_count_by_genre"
   ]
  },
  {
   "cell_type": "markdown",
   "id": "a49b9564-dbf2-40f7-8e6e-4a12ab038a93",
   "metadata": {},
   "source": [
    "# Soru 76: Hangi kategorilerde oynayan filmler en çok kiralanmış?  "
   ]
  },
  {
   "cell_type": "code",
   "execution_count": 101,
   "id": "405c0fb6-69ba-494b-bb77-c7da3421c3f5",
   "metadata": {},
   "outputs": [],
   "source": [
    "import sqlite3\n",
    "import pandas as pd\n",
    "conn = sqlite3.connect(\"sqlite-sakila.db\")"
   ]
  },
  {
   "cell_type": "code",
   "execution_count": 102,
   "id": "7b2a11fd-cc29-4fd3-8b19-99be967c4e47",
   "metadata": {},
   "outputs": [],
   "source": [
    "category_df = pd.read_sql_query(\"SELECT * FROM category\", conn)\n",
    "film_category_df = pd.read_sql_query(\"SELECT * FROM film_category\", conn)\n",
    "film_df = pd.read_sql_query(\"SELECT * FROM film\", conn)\n",
    "inventory_df = pd.read_sql_query(\"SELECT * FROM inventory\", conn)\n",
    "rental_df = pd.read_sql_query(\"SELECT * FROM rental\", conn)"
   ]
  },
  {
   "cell_type": "code",
   "execution_count": 103,
   "id": "7d52c145-fa6d-4492-950a-a09adfe0caf4",
   "metadata": {},
   "outputs": [],
   "source": [
    "category_df = category_df.drop(columns=[\"last_update\"])\n",
    "film_category_df = film_category_df.drop(columns=[\"last_update\"])\n",
    "film_df = film_df.drop(columns=[\"last_update\"])\n",
    "inventory_df = inventory_df.drop(columns=[\"last_update\"])\n",
    "rental_df = rental_df.drop(columns=[\"last_update\"])"
   ]
  },
  {
   "cell_type": "code",
   "execution_count": 104,
   "id": "910ac143-ecda-4046-a738-455b754aada6",
   "metadata": {},
   "outputs": [],
   "source": [
    "step1 = pd.merge(category_df, film_category_df, on=\"category_id\")\n",
    "step2 = pd.merge(step1, film_df, on=\"film_id\")\n",
    "step3 = pd.merge(step2, inventory_df, on=\"film_id\")\n",
    "full_df = pd.merge(step3, rental_df, on=\"inventory_id\")"
   ]
  },
  {
   "cell_type": "code",
   "execution_count": 106,
   "id": "1697cb0d-793a-4ea0-b6d5-d27f8166d09e",
   "metadata": {},
   "outputs": [],
   "source": [
    "rental_count_by_genre = (full_df.groupby(\"name\")[\"rental_id\"].count()\n",
    ".reset_index(name=\"rental_count\").sort_values(\"rental_count\", ascending=False))"
   ]
  },
  {
   "cell_type": "code",
   "execution_count": null,
   "id": "b81f1f3b-bdac-40b6-bf71-73dbf24b5102",
   "metadata": {},
   "outputs": [],
   "source": [
    "rental_count_by_genre"
   ]
  },
  {
   "cell_type": "markdown",
   "id": "92974a4c-55a0-483b-b33a-76e74caedc77",
   "metadata": {},
   "source": [
    "# Soru 77: Hangi kategorilerde oynayan filmler en az kiralanmış?"
   ]
  },
  {
   "cell_type": "code",
   "execution_count": 108,
   "id": "238a3502-b65f-4ce3-a477-87c28c50b19b",
   "metadata": {},
   "outputs": [],
   "source": [
    "import sqlite3\n",
    "import pandas as pd\n",
    "conn = sqlite3.connect(\"sqlite-sakila.db\")"
   ]
  },
  {
   "cell_type": "code",
   "execution_count": 109,
   "id": "330c346e-c92d-43d9-8161-761f9d1a5cda",
   "metadata": {},
   "outputs": [],
   "source": [
    "category_df = pd.read_sql_query(\"SELECT * FROM category\", conn)\n",
    "film_category_df = pd.read_sql_query(\"SELECT * FROM film_category\", conn)\n",
    "film_df = pd.read_sql_query(\"SELECT * FROM film\", conn)\n",
    "inventory_df = pd.read_sql_query(\"SELECT * FROM inventory\", conn)\n",
    "rental_df = pd.read_sql_query(\"SELECT * FROM rental\", conn)"
   ]
  },
  {
   "cell_type": "code",
   "execution_count": 110,
   "id": "48908bff-a804-425b-a309-eab7410bf118",
   "metadata": {},
   "outputs": [],
   "source": [
    "category_df = category_df.drop(columns=[\"last_update\"])\n",
    "film_category_df = film_category_df.drop(columns=[\"last_update\"])\n",
    "film_df = film_df.drop(columns=[\"last_update\"])\n",
    "inventory_df = inventory_df.drop(columns=[\"last_update\"])\n",
    "rental_df = rental_df.drop(columns=[\"last_update\"])"
   ]
  },
  {
   "cell_type": "code",
   "execution_count": 111,
   "id": "918f0b6b-9301-4d6e-8ce5-5d73ae938b2f",
   "metadata": {},
   "outputs": [],
   "source": [
    "step1 = pd.merge(category_df, film_category_df, on=\"category_id\")\n",
    "step2 = pd.merge(step1, film_df, on=\"film_id\")\n",
    "step3 = pd.merge(step2, inventory_df, on=\"film_id\")\n",
    "full_df = pd.merge(step3, rental_df, on=\"inventory_id\")"
   ]
  },
  {
   "cell_type": "code",
   "execution_count": 112,
   "id": "37142019-f835-4f27-bda2-2050c5ccc272",
   "metadata": {},
   "outputs": [],
   "source": [
    "rental_count_by_genre = (full_df.groupby(\"name\")[\"rental_id\"].count()\n",
    ".reset_index(name=\"rental_count\").sort_values(\"rental_count\", ascending=True))"
   ]
  },
  {
   "cell_type": "code",
   "execution_count": null,
   "id": "34b3ce12-c497-4007-bdf2-2a655d1138a2",
   "metadata": {},
   "outputs": [],
   "source": [
    "rental_count_by_genre"
   ]
  },
  {
   "cell_type": "markdown",
   "id": "485b2510-cbf5-415d-b695-77591e382084",
   "metadata": {},
   "source": [
    "# Soru 78: En fazla kazanç sağlayan kategoriler hangileri? "
   ]
  },
  {
   "cell_type": "code",
   "execution_count": 129,
   "id": "471f3d97-54c7-4f21-9686-bc6de55b3548",
   "metadata": {},
   "outputs": [],
   "source": [
    "import sqlite3\n",
    "import pandas as pd\n",
    "conn = sqlite3.connect(\"sqlite-sakila.db\")"
   ]
  },
  {
   "cell_type": "code",
   "execution_count": 130,
   "id": "bd72de54-9a9d-4ea2-9283-f7ac23e69155",
   "metadata": {},
   "outputs": [],
   "source": [
    "category_df = pd.read_sql_query(\"SELECT * FROM category\", conn)\n",
    "film_category_df = pd.read_sql_query(\"SELECT * FROM film_category\", conn)\n",
    "film_df = pd.read_sql_query(\"SELECT * FROM film\", conn)\n",
    "inventory_df = pd.read_sql_query(\"SELECT * FROM inventory\", conn)\n",
    "rental_df = pd.read_sql_query(\"SELECT * FROM rental\", conn)\n",
    "payment_df = pd.read_sql_query(\"SELECT * FROM payment\", conn)"
   ]
  },
  {
   "cell_type": "code",
   "execution_count": 131,
   "id": "dc93d0bf-7af6-4abe-aa6f-4201969d011b",
   "metadata": {},
   "outputs": [],
   "source": [
    "for df in [category_df, film_category_df, film_df, inventory_df, rental_df, payment_df]:\n",
    "    df.drop(columns=[\"last_update\"], inplace = True)"
   ]
  },
  {
   "cell_type": "code",
   "execution_count": 132,
   "id": "cc2ad690-06e4-4409-8bcd-e06048f0d7ab",
   "metadata": {},
   "outputs": [],
   "source": [
    "step1 = pd.merge(category_df, film_category_df, on=\"category_id\")\n",
    "step2 = pd.merge(step1, film_df, on=\"film_id\")\n",
    "step3 = pd.merge(step2, inventory_df, on=\"film_id\")\n",
    "step4 = pd.merge(step3, rental_df, on=\"inventory_id\")\n",
    "full_df = pd.merge(step4, payment_df, on=\"rental_id\")"
   ]
  },
  {
   "cell_type": "code",
   "execution_count": 133,
   "id": "612aebe3-a23a-4747-a251-ba0d3ebcf831",
   "metadata": {},
   "outputs": [],
   "source": [
    "revenue_by_genre = (full_df.groupby(\"name\")[\"amount\"].sum()\n",
    ".reset_index(name=\"total_revenue\").sort_values(\"total_revenue\", ascending=False))"
   ]
  },
  {
   "cell_type": "code",
   "execution_count": null,
   "id": "f85b6a16-54c5-441e-a4ae-b92be2e319db",
   "metadata": {},
   "outputs": [],
   "source": [
    "revenue_by_genre "
   ]
  },
  {
   "cell_type": "markdown",
   "id": "f1376ef9-a430-4150-9f14-75e33d5924ef",
   "metadata": {},
   "source": [
    "# Soru 79: En az kazanç sağlayan kategoriler hangileri? "
   ]
  },
  {
   "cell_type": "code",
   "execution_count": 135,
   "id": "bb3819f1-51ee-4aa6-9ab9-dea345252f79",
   "metadata": {},
   "outputs": [],
   "source": [
    "import sqlite3\n",
    "import pandas as pd\n",
    "conn = sqlite3.connect(\"sqlite-sakila.db\")"
   ]
  },
  {
   "cell_type": "code",
   "execution_count": 136,
   "id": "5c15570d-7824-4132-a71a-7025393a7a75",
   "metadata": {},
   "outputs": [],
   "source": [
    "category_df = pd.read_sql_query(\"SELECT * FROM category\", conn)\n",
    "film_category_df = pd.read_sql_query(\"SELECT * FROM film_category\", conn)\n",
    "film_df = pd.read_sql_query(\"SELECT * FROM film\", conn)\n",
    "inventory_df = pd.read_sql_query(\"SELECT * FROM inventory\", conn)\n",
    "rental_df = pd.read_sql_query(\"SELECT * FROM rental\", conn)\n",
    "payment_df = pd.read_sql_query(\"SELECT * FROM payment\", conn)"
   ]
  },
  {
   "cell_type": "code",
   "execution_count": 137,
   "id": "4f2d96ad-5805-4537-bd8f-8e4fb7bdef1e",
   "metadata": {},
   "outputs": [],
   "source": [
    "for df in [category_df, film_category_df, film_df, inventory_df, rental_df, payment_df]:\n",
    "    df.drop(columns=[\"last_update\"], inplace = True)"
   ]
  },
  {
   "cell_type": "code",
   "execution_count": 138,
   "id": "c277808c-948f-4829-a5b7-e992ed1e245d",
   "metadata": {},
   "outputs": [],
   "source": [
    "step1 = pd.merge(category_df, film_category_df, on=\"category_id\")\n",
    "step2 = pd.merge(step1, film_df, on=\"film_id\")\n",
    "step3 = pd.merge(step2, inventory_df, on=\"film_id\")\n",
    "step4 = pd.merge(step3, rental_df, on=\"inventory_id\")\n",
    "full_df = pd.merge(step4, payment_df, on=\"rental_id\")"
   ]
  },
  {
   "cell_type": "code",
   "execution_count": 139,
   "id": "398c11ac-8291-444e-98f6-fde4059c438a",
   "metadata": {},
   "outputs": [],
   "source": [
    "revenue_by_genre = (full_df.groupby(\"name\")[\"amount\"].sum()\n",
    ".reset_index(name=\"total_revenue\").sort_values(\"total_revenue\", ascending=True))"
   ]
  },
  {
   "cell_type": "code",
   "execution_count": null,
   "id": "21e4b6da-a579-4755-9b4e-b080b15d2363",
   "metadata": {},
   "outputs": [],
   "source": [
    "revenue_by_genre "
   ]
  },
  {
   "cell_type": "markdown",
   "id": "2f9f3b3d-b5eb-446d-b7e3-caea08f7a550",
   "metadata": {},
   "source": [
    "# Soru 80: En çok film kiralayan müşterilerin ortalama ödeme miktarı nedir? "
   ]
  },
  {
   "cell_type": "code",
   "execution_count": 141,
   "id": "7be00a4d-7398-4aef-ae55-b99e4d70f780",
   "metadata": {},
   "outputs": [],
   "source": [
    "import sqlite3\n",
    "import pandas as pd\n",
    "conn = sqlite3.connect(\"sqlite-sakila.db\")"
   ]
  },
  {
   "cell_type": "code",
   "execution_count": 142,
   "id": "9fbd9446-dff6-448f-8f5b-0f8e171bb2e2",
   "metadata": {},
   "outputs": [],
   "source": [
    "customer_df = pd.read_sql_query(\"SELECT * FROM customer\", conn)\n",
    "rental_df = pd.read_sql_query(\"SELECT * FROM rental\", conn)\n",
    "payment_df = pd.read_sql_query(\"SELECT * FROM payment\", conn)"
   ]
  },
  {
   "cell_type": "code",
   "execution_count": 143,
   "id": "a738eb4d-a810-4496-8804-c2ac43682999",
   "metadata": {},
   "outputs": [],
   "source": [
    "step1 = pd.merge(customer_df, rental_df, on=\"customer_id\")\n",
    "step2 = pd.merge(step1, payment_df, on=\"rental_id\")"
   ]
  },
  {
   "cell_type": "code",
   "execution_count": 144,
   "id": "b84b8b8e-46db-48c2-8eb1-a7a41516ec38",
   "metadata": {},
   "outputs": [],
   "source": [
    "agg_df = step2.groupby([\"first_name\", \"last_name\"]).agg(rental_count=(\"rental_id\", \"count\"),avg_payment=(\"amount\", \"mean\")).reset_index()"
   ]
  },
  {
   "cell_type": "code",
   "execution_count": 145,
   "id": "7364bef0-8594-47ad-9621-11e7cc19ddeb",
   "metadata": {},
   "outputs": [],
   "source": [
    "top10_customers = agg_df.sort_values(\"rental_count\", ascending=False).head(10)"
   ]
  },
  {
   "cell_type": "code",
   "execution_count": null,
   "id": "0d32cbb6-0972-4390-a776-29cbfddb3adb",
   "metadata": {},
   "outputs": [],
   "source": [
    "top10_customers"
   ]
  },
  {
   "cell_type": "markdown",
   "id": "c060a73d-a23c-4166-9160-ece65f3bc20a",
   "metadata": {},
   "source": [
    "# Soru 81: En az film kiralayan müşterilerin ortalama ödeme miktarı nedir?  "
   ]
  },
  {
   "cell_type": "code",
   "execution_count": 147,
   "id": "bf999d3d-2885-4256-bcef-ecde7d275184",
   "metadata": {},
   "outputs": [],
   "source": [
    "import sqlite3\n",
    "import pandas as pd\n",
    "conn = sqlite3.connect(\"sqlite-sakila.db\")"
   ]
  },
  {
   "cell_type": "code",
   "execution_count": 148,
   "id": "c7b615b7-cc85-4580-bc85-634caef610a6",
   "metadata": {},
   "outputs": [],
   "source": [
    "customer_df = pd.read_sql_query(\"SELECT * FROM customer\", conn)\n",
    "rental_df = pd.read_sql_query(\"SELECT * FROM rental\", conn)\n",
    "payment_df = pd.read_sql_query(\"SELECT * FROM payment\", conn)"
   ]
  },
  {
   "cell_type": "code",
   "execution_count": 149,
   "id": "aff6da1e-4270-4f86-8b64-0a41f496fdf3",
   "metadata": {},
   "outputs": [],
   "source": [
    "step1 = pd.merge(customer_df, rental_df, on=\"customer_id\")\n",
    "step2 = pd.merge(step1, payment_df, on=\"rental_id\")"
   ]
  },
  {
   "cell_type": "code",
   "execution_count": 150,
   "id": "787d9c1e-82db-4291-90b5-24f53afc0863",
   "metadata": {},
   "outputs": [],
   "source": [
    "agg_df = step2.groupby([\"first_name\", \"last_name\"]).agg(rental_count=(\"rental_id\", \"count\"),avg_payment=(\"amount\", \"mean\")).reset_index()"
   ]
  },
  {
   "cell_type": "code",
   "execution_count": 151,
   "id": "35b7da70-9734-4a2b-8a32-7f1af19a3a52",
   "metadata": {},
   "outputs": [],
   "source": [
    "top10_customers = agg_df.sort_values(\"rental_count\", ascending=True).head(10)"
   ]
  },
  {
   "cell_type": "code",
   "execution_count": null,
   "id": "a6791866-9bbc-4660-a959-ae4e41b1485e",
   "metadata": {},
   "outputs": [],
   "source": [
    "top10_customers"
   ]
  },
  {
   "cell_type": "markdown",
   "id": "be454d9f-2920-4aac-8aa6-6a0a53319b20",
   "metadata": {},
   "source": [
    "# Soru 82: Hangi mağazalarda hangi kategoriler en çok kiralanmış? "
   ]
  },
  {
   "cell_type": "code",
   "execution_count": 162,
   "id": "c80fb35d-e1bb-4e8a-aee5-bf7c654d423b",
   "metadata": {},
   "outputs": [],
   "source": [
    "import sqlite3\n",
    "import pandas as pd\n",
    "conn = sqlite3.connect(\"sqlite-sakila.db\")"
   ]
  },
  {
   "cell_type": "code",
   "execution_count": 163,
   "id": "8eead6a1-8abc-4f03-82eb-967f52483268",
   "metadata": {},
   "outputs": [],
   "source": [
    "store_df = pd.read_sql_query(\"SELECT * FROM store\", conn)\n",
    "staff_df = pd.read_sql_query(\"SELECT * FROM staff\", conn)\n",
    "rental_df = pd.read_sql_query(\"SELECT * FROM rental\", conn)\n",
    "inventory_df = pd.read_sql_query(\"SELECT * FROM inventory\", conn)\n",
    "film_df = pd.read_sql_query(\"SELECT * FROM film\", conn)\n",
    "film_category_df = pd.read_sql_query(\"SELECT * FROM film_category\", conn)\n",
    "category_df = pd.read_sql_query(\"SELECT * FROM category\", conn)"
   ]
  },
  {
   "cell_type": "code",
   "execution_count": 164,
   "id": "aa2ed7dc-e9ac-492c-b26c-c24649b84ca6",
   "metadata": {},
   "outputs": [],
   "source": [
    "dfs = [store_df, staff_df, rental_df, inventory_df, film_df, film_category_df, category_df]\n",
    "for i in range(len(dfs)):\n",
    "    dfs[i] = dfs[i].drop(columns=[\"last_update\"], errors=\"ignore\")"
   ]
  },
  {
   "cell_type": "code",
   "execution_count": 165,
   "id": "fa29e9b3-93dd-4ca9-82b9-faf38f2a0c51",
   "metadata": {},
   "outputs": [],
   "source": [
    "store_df, staff_df, rental_df, inventory_df, film_df, film_category_df, category_df = dfs"
   ]
  },
  {
   "cell_type": "code",
   "execution_count": 170,
   "id": "8a6a056e-2f49-4a23-9435-627c09e9cb3b",
   "metadata": {},
   "outputs": [],
   "source": [
    "step1 = pd.merge(store_df, staff_df, on=\"store_id\")\n",
    "step2 = pd.merge(step1, rental_df, on=\"staff_id\")\n",
    "step3 = pd.merge(step2, inventory_df, on=\"inventory_id\")\n",
    "step4 = pd.merge(step3, film_df, on=\"film_id\")\n",
    "step5 = pd.merge(step4, film_category_df, on=\"film_id\")\n",
    "full_df = pd.merge(step5, category_df, on=\"category_id\")"
   ]
  },
  {
   "cell_type": "code",
   "execution_count": null,
   "id": "d274b48c-c4e3-43ec-bc5c-2188f4c0ef61",
   "metadata": {},
   "outputs": [],
   "source": [
    "print(full_df.columns)"
   ]
  },
  {
   "cell_type": "code",
   "execution_count": 172,
   "id": "06d8a975-0fb1-40d6-b3ba-1dc93503158f",
   "metadata": {},
   "outputs": [],
   "source": [
    "rental_count_by_store_genre = (full_df.groupby([\"store_id_x\", \"name\"])[\"rental_id\"].count()\n",
    ".reset_index(name=\"rental_count\").sort_values(\"rental_count\", ascending=False))"
   ]
  },
  {
   "cell_type": "code",
   "execution_count": null,
   "id": "7daaa990-6350-4416-8b4e-73e078c4a3da",
   "metadata": {
    "scrolled": true
   },
   "outputs": [],
   "source": [
    "rental_count_by_store_genre"
   ]
  },
  {
   "cell_type": "markdown",
   "id": "bb5a4c8a-8bc5-4770-8abd-5562003ea1a8",
   "metadata": {},
   "source": [
    "# Soru 83: Hangi mağazalarda hangi kategoriler en az kiralanmış? "
   ]
  },
  {
   "cell_type": "code",
   "execution_count": 175,
   "id": "0f9c7f6c-f03a-4ee5-a416-f057b5d1d43a",
   "metadata": {},
   "outputs": [],
   "source": [
    "import sqlite3\n",
    "import pandas as pd\n",
    "conn = sqlite3.connect(\"sqlite-sakila.db\")"
   ]
  },
  {
   "cell_type": "code",
   "execution_count": 176,
   "id": "a5396425-cd9d-4258-af0a-063ca9c6104c",
   "metadata": {},
   "outputs": [],
   "source": [
    "store_df = pd.read_sql_query(\"SELECT * FROM store\", conn)\n",
    "staff_df = pd.read_sql_query(\"SELECT * FROM staff\", conn)\n",
    "rental_df = pd.read_sql_query(\"SELECT * FROM rental\", conn)\n",
    "inventory_df = pd.read_sql_query(\"SELECT * FROM inventory\", conn)\n",
    "film_df = pd.read_sql_query(\"SELECT * FROM film\", conn)\n",
    "film_category_df = pd.read_sql_query(\"SELECT * FROM film_category\", conn)\n",
    "category_df = pd.read_sql_query(\"SELECT * FROM category\", conn)"
   ]
  },
  {
   "cell_type": "code",
   "execution_count": 177,
   "id": "bb68f0d3-33e9-4d9c-a922-2ff2ed56b202",
   "metadata": {},
   "outputs": [],
   "source": [
    "dfs = [store_df, staff_df, rental_df, inventory_df, film_df, film_category_df, category_df]\n",
    "for i in range(len(dfs)):\n",
    "    dfs[i] = dfs[i].drop(columns=[\"last_update\"], errors=\"ignore\")"
   ]
  },
  {
   "cell_type": "code",
   "execution_count": 178,
   "id": "fa2d29ac-af15-4f54-9cf1-8421510a790b",
   "metadata": {},
   "outputs": [],
   "source": [
    "store_df, staff_df, rental_df, inventory_df, film_df, film_category_df, category_df = dfs"
   ]
  },
  {
   "cell_type": "code",
   "execution_count": 179,
   "id": "63ddc91c-2cfc-4a83-baeb-bbf8a9b3b19e",
   "metadata": {},
   "outputs": [],
   "source": [
    "step1 = pd.merge(store_df, staff_df, on=\"store_id\")\n",
    "step2 = pd.merge(step1, rental_df, on=\"staff_id\")\n",
    "step3 = pd.merge(step2, inventory_df, on=\"inventory_id\")\n",
    "step4 = pd.merge(step3, film_df, on=\"film_id\")\n",
    "step5 = pd.merge(step4, film_category_df, on=\"film_id\")\n",
    "full_df = pd.merge(step5, category_df, on=\"category_id\")"
   ]
  },
  {
   "cell_type": "code",
   "execution_count": 182,
   "id": "68fdf2ed-4f1b-4c2d-b25f-a2e501e23b55",
   "metadata": {},
   "outputs": [],
   "source": [
    "rental_count_by_store_genre = (full_df.groupby([\"store_id_x\", \"name\"])[\"rental_id\"].count()\n",
    ".reset_index(name=\"rental_count\").sort_values(\"rental_count\", ascending=True))"
   ]
  },
  {
   "cell_type": "code",
   "execution_count": null,
   "id": "d12da11d-3bea-43c9-9a05-fb17756ff2e7",
   "metadata": {
    "scrolled": true
   },
   "outputs": [],
   "source": [
    "rental_count_by_store_genre"
   ]
  },
  {
   "cell_type": "markdown",
   "id": "0a12d50a-b3c1-4c64-87b1-803e063e7429",
   "metadata": {},
   "source": [
    "# Soru 84: En fazla sayıda film kiralayan mağaza hangisidir ve toplam kiralama sayısı nedir? "
   ]
  },
  {
   "cell_type": "code",
   "execution_count": 185,
   "id": "ccaab45b-6ebb-4af6-8d81-b6b02a57eea4",
   "metadata": {},
   "outputs": [],
   "source": [
    "import sqlite3\n",
    "import pandas as pd\n",
    "conn = sqlite3.connect(\"sqlite-sakila.db\")"
   ]
  },
  {
   "cell_type": "code",
   "execution_count": 186,
   "id": "a7a5cb42-7a0b-40be-8c3a-9107e41629a5",
   "metadata": {},
   "outputs": [],
   "source": [
    "store_df = pd.read_sql_query(\"SELECT * FROM store\", conn)\n",
    "staff_df = pd.read_sql_query(\"SELECT * FROM staff\", conn)\n",
    "rental_df = pd.read_sql_query(\"SELECT * FROM rental\", conn)"
   ]
  },
  {
   "cell_type": "code",
   "execution_count": 187,
   "id": "34a3ef46-edbf-4103-a499-fec85467796c",
   "metadata": {},
   "outputs": [],
   "source": [
    "step1 = pd.merge(store_df, staff_df, on=\"store_id\")\n",
    "step2 = pd.merge(step1, rental_df, on=\"staff_id\")"
   ]
  },
  {
   "cell_type": "code",
   "execution_count": 188,
   "id": "0d8c9edd-366f-471d-ad94-fc057507d09f",
   "metadata": {},
   "outputs": [],
   "source": [
    "total_rentals = (step2.groupby(\"store_id\")[\"rental_id\"].count().reset_index(name=\"total_rentals\")\n",
    ".sort_values(\"total_rentals\", ascending=False).head(1))"
   ]
  },
  {
   "cell_type": "code",
   "execution_count": null,
   "id": "8cc60817-dd43-467b-8b1d-f3610e94c1ab",
   "metadata": {},
   "outputs": [],
   "source": [
    "total_rentals"
   ]
  },
  {
   "cell_type": "markdown",
   "id": "4dc1a7f1-d989-42c1-96bd-93d593ae5aa9",
   "metadata": {},
   "source": [
    "# Soru 85: En az sayıda film kiralayan mağaza hangisidir ve toplam kiralama sayısı nedir?  "
   ]
  },
  {
   "cell_type": "code",
   "execution_count": 190,
   "id": "868e1b34-1c83-432a-ba40-5ba369d88010",
   "metadata": {},
   "outputs": [],
   "source": [
    "import sqlite3\n",
    "import pandas as pd\n",
    "conn = sqlite3.connect(\"sqlite-sakila.db\")"
   ]
  },
  {
   "cell_type": "code",
   "execution_count": 191,
   "id": "90cf2507-bdd9-4063-878e-abc35510596e",
   "metadata": {},
   "outputs": [],
   "source": [
    "store_df = pd.read_sql_query(\"SELECT * FROM store\", conn)\n",
    "staff_df = pd.read_sql_query(\"SELECT * FROM staff\", conn)\n",
    "rental_df = pd.read_sql_query(\"SELECT * FROM rental\", conn)"
   ]
  },
  {
   "cell_type": "code",
   "execution_count": 192,
   "id": "c0088c86-227b-4a74-a2c7-f439477b07a3",
   "metadata": {},
   "outputs": [],
   "source": [
    "step1 = pd.merge(store_df, staff_df, on=\"store_id\")\n",
    "step2 = pd.merge(step1, rental_df, on=\"staff_id\")"
   ]
  },
  {
   "cell_type": "code",
   "execution_count": 195,
   "id": "65b8d225-79f8-4c08-85f2-604f6576c262",
   "metadata": {},
   "outputs": [],
   "source": [
    "total_rentals = (step2.groupby(\"store_id\")[\"rental_id\"].count()\n",
    ".reset_index(name=\"total_rentals\").sort_values(\"total_rentals\", ascending=True).head(1))"
   ]
  },
  {
   "cell_type": "code",
   "execution_count": null,
   "id": "964ea4cb-86b9-4837-934f-5a662803cf75",
   "metadata": {},
   "outputs": [],
   "source": [
    "total_rentals"
   ]
  },
  {
   "cell_type": "markdown",
   "id": "b71b1fe1-1f85-4fe2-a39a-6cd6c848e102",
   "metadata": {},
   "source": [
    "# Soru 86: En fazla sayıda kiralama yapan müşteri hangisidir ve toplam kiralama sayısı nedir?  "
   ]
  },
  {
   "cell_type": "code",
   "execution_count": 197,
   "id": "ade7ba0b-51ab-49a6-8420-712218541b0b",
   "metadata": {},
   "outputs": [],
   "source": [
    "import sqlite3\n",
    "import pandas as pd\n",
    "conn = sqlite3.connect(\"sqlite-sakila.db\")"
   ]
  },
  {
   "cell_type": "code",
   "execution_count": 198,
   "id": "ab2f8e30-2c6e-4c06-abf7-5afbe63ac97e",
   "metadata": {},
   "outputs": [],
   "source": [
    "customer_df = pd.read_sql_query(\"SELECT * FROM customer\", conn)\n",
    "rental_df = pd.read_sql_query(\"SELECT * FROM rental\", conn)"
   ]
  },
  {
   "cell_type": "code",
   "execution_count": 199,
   "id": "07eafb33-a918-4ef5-b4d6-637003479c85",
   "metadata": {},
   "outputs": [],
   "source": [
    "customer_rental = pd.merge(customer_df, rental_df, on=\"customer_id\")"
   ]
  },
  {
   "cell_type": "code",
   "execution_count": 200,
   "id": "aa9b17af-f57d-4c8a-85c6-50ac0bad253e",
   "metadata": {},
   "outputs": [],
   "source": [
    "top_customer = (customer_rental.groupby([\"first_name\", \"last_name\"])[\"rental_id\"].count()\n",
    ".reset_index(name=\"total_rentals\").sort_values(\"total_rentals\", ascending=False).head(1))"
   ]
  },
  {
   "cell_type": "code",
   "execution_count": null,
   "id": "11f516f1-d134-460f-bb2c-b963e1b8dd1a",
   "metadata": {},
   "outputs": [],
   "source": [
    "top_customer"
   ]
  },
  {
   "cell_type": "markdown",
   "id": "51c66d15-1aad-469d-aad2-848b071b8479",
   "metadata": {},
   "source": [
    "# Soru 87: En az sayıda kiralama yapan müşteri hangisidir ve toplam kiralama sayısı nedir?  "
   ]
  },
  {
   "cell_type": "code",
   "execution_count": 205,
   "id": "45908c28-0c76-4314-bd33-1ef385beeda6",
   "metadata": {},
   "outputs": [],
   "source": [
    "import sqlite3\n",
    "import pandas as pd\n",
    "conn = sqlite3.connect(\"sqlite-sakila.db\")"
   ]
  },
  {
   "cell_type": "code",
   "execution_count": 206,
   "id": "ca26da5f-9322-4cfe-83c9-e7e73a7ed5ef",
   "metadata": {},
   "outputs": [],
   "source": [
    "customer_df = pd.read_sql_query(\"SELECT * FROM customer\", conn)\n",
    "rental_df = pd.read_sql_query(\"SELECT * FROM rental\", conn)"
   ]
  },
  {
   "cell_type": "code",
   "execution_count": 207,
   "id": "0561b97f-fb9f-4432-9c5b-449c79e8a250",
   "metadata": {},
   "outputs": [],
   "source": [
    "customer_rental = pd.merge(customer_df, rental_df, on=\"customer_id\")"
   ]
  },
  {
   "cell_type": "code",
   "execution_count": 208,
   "id": "2de48513-ffb3-42db-83e6-3878db83235f",
   "metadata": {},
   "outputs": [],
   "source": [
    "top_customer = (customer_rental.groupby([\"first_name\", \"last_name\"])[\"rental_id\"].count()\n",
    ".reset_index(name=\"total_rentals\").sort_values(\"total_rentals\", ascending=True).head(1))"
   ]
  },
  {
   "cell_type": "code",
   "execution_count": null,
   "id": "646766a4-072d-4f9e-93fc-8c14161af213",
   "metadata": {},
   "outputs": [],
   "source": [
    "top_customer"
   ]
  },
  {
   "cell_type": "markdown",
   "id": "1081dc0a-1913-43ab-b94a-a1a98da798bc",
   "metadata": {},
   "source": [
    "# Soru 88: En fazla sayıda kiralanan film hangisidir ve toplam kiralama sayısı nedir?  "
   ]
  },
  {
   "cell_type": "code",
   "execution_count": 210,
   "id": "449254cd-daf0-488b-a597-834215e6986c",
   "metadata": {},
   "outputs": [],
   "source": [
    "import sqlite3\n",
    "import pandas as pd\n",
    "conn = sqlite3.connect(\"sqlite-sakila.db\")"
   ]
  },
  {
   "cell_type": "code",
   "execution_count": 211,
   "id": "6a2e1a80-4f1a-49ca-8392-d7fc7f899c59",
   "metadata": {},
   "outputs": [],
   "source": [
    "inventory_df = pd.read_sql_query(\"SELECT * FROM inventory\", conn)\n",
    "film_df = pd.read_sql_query(\"SELECT * FROM film\", conn)\n",
    "rental_df = pd.read_sql_query(\"SELECT * FROM rental\", conn)"
   ]
  },
  {
   "cell_type": "code",
   "execution_count": 212,
   "id": "9ee33333-7c9a-427b-9d65-7614d9613f23",
   "metadata": {},
   "outputs": [],
   "source": [
    "film_inventory = pd.merge(film_df, inventory_df, on=\"film_id\")\n",
    "film_rental = pd.merge(film_inventory, rental_df, on=\"inventory_id\")"
   ]
  },
  {
   "cell_type": "code",
   "execution_count": 213,
   "id": "5d4ed8b1-6759-4ff6-ab31-907958bc859a",
   "metadata": {},
   "outputs": [],
   "source": [
    "top_film = (film_rental.groupby(\"title\")[\"rental_id\"].count()\n",
    ".reset_index(name=\"total_rentals\").sort_values(\"total_rentals\", ascending=False).head(1))"
   ]
  },
  {
   "cell_type": "code",
   "execution_count": null,
   "id": "18046f09-6b6a-4323-8d67-e1cb1537d4d8",
   "metadata": {},
   "outputs": [],
   "source": [
    "top_film"
   ]
  },
  {
   "cell_type": "markdown",
   "id": "19c061b6-426b-44d9-9daf-01ceebdb50c5",
   "metadata": {},
   "source": [
    "# Soru 89: En az sayıda kiralanan film hangisidir ve toplam kiralama sayısı nedir?  "
   ]
  },
  {
   "cell_type": "code",
   "execution_count": 215,
   "id": "d16a7e8a-ea59-4a24-8ec7-240ea594dca1",
   "metadata": {},
   "outputs": [],
   "source": [
    "import sqlite3\n",
    "import pandas as pd\n",
    "conn = sqlite3.connect(\"sqlite-sakila.db\")"
   ]
  },
  {
   "cell_type": "code",
   "execution_count": 216,
   "id": "9c257cf6-3e35-4dbe-a924-51cded144cd8",
   "metadata": {},
   "outputs": [],
   "source": [
    "inventory_df = pd.read_sql_query(\"SELECT * FROM inventory\", conn)\n",
    "film_df = pd.read_sql_query(\"SELECT * FROM film\", conn)\n",
    "rental_df = pd.read_sql_query(\"SELECT * FROM rental\", conn)"
   ]
  },
  {
   "cell_type": "code",
   "execution_count": 217,
   "id": "b0c086aa-0a64-45f8-81d7-36c667b0b0e3",
   "metadata": {},
   "outputs": [],
   "source": [
    "film_inventory = pd.merge(film_df, inventory_df, on=\"film_id\")\n",
    "film_rental = pd.merge(film_inventory, rental_df, on=\"inventory_id\")"
   ]
  },
  {
   "cell_type": "code",
   "execution_count": 220,
   "id": "9b707c15-d74a-447d-abb0-a8e2c3f0daec",
   "metadata": {},
   "outputs": [],
   "source": [
    "top_film = (film_rental.groupby(\"title\")[\"rental_id\"].count()\n",
    ".reset_index(name=\"total_rentals\").sort_values(\"total_rentals\", ascending=True).head(1))"
   ]
  },
  {
   "cell_type": "code",
   "execution_count": null,
   "id": "09469523-89cb-41a4-a6a3-217a54d12f41",
   "metadata": {},
   "outputs": [],
   "source": [
    "top_film"
   ]
  },
  {
   "cell_type": "markdown",
   "id": "788b55cb-01a9-4410-9638-f1b4e5f0c8b2",
   "metadata": {},
   "source": [
    "# Soru 90: En fazla kazanç sağlayan müşteri hangisidir ve toplam kazancı nedir?  "
   ]
  },
  {
   "cell_type": "code",
   "execution_count": 27,
   "id": "76ff6e3a-f145-4594-a1c7-d4386b31d11a",
   "metadata": {},
   "outputs": [],
   "source": [
    "import sqlite3\n",
    "import pandas as pd\n",
    "conn = sqlite3.connect(\"sqlite-sakila.db\")"
   ]
  },
  {
   "cell_type": "code",
   "execution_count": 28,
   "id": "4aa067a2-f5cf-4a8e-b8cc-6797f8a235d2",
   "metadata": {},
   "outputs": [],
   "source": [
    "customer_df = pd.read_sql_query(\"SELECT * FROM customer\", conn)\n",
    "rental_df = pd.read_sql_query(\"SELECT * FROM rental\", conn)\n",
    "payment_df = pd.read_sql_query(\"SELECT * FROM payment\", conn)"
   ]
  },
  {
   "cell_type": "code",
   "execution_count": 29,
   "id": "ea32fa2c-5ff0-4ae7-a642-26c6fc78dd2a",
   "metadata": {},
   "outputs": [],
   "source": [
    "rental_payment = pd.merge(rental_df, payment_df, on=\"rental_id\")\n",
    "full_df = pd.merge(rental_payment, customer_df, left_on=\"customer_id_x\", right_on=\"customer_id\")"
   ]
  },
  {
   "cell_type": "code",
   "execution_count": 30,
   "id": "76554037-54d2-4e15-bbfc-094953547b1f",
   "metadata": {},
   "outputs": [],
   "source": [
    "top_customer = (full_df.groupby([\"first_name\", \"last_name\"])[\"amount\"].sum()\n",
    ".reset_index(name=\"total_revenue\").sort_values(\"total_revenue\", ascending=False).head(1))"
   ]
  },
  {
   "cell_type": "code",
   "execution_count": null,
   "id": "bc9d8f20-d28d-4538-ba2e-0513f998be00",
   "metadata": {},
   "outputs": [],
   "source": [
    "top_customer"
   ]
  },
  {
   "cell_type": "markdown",
   "id": "a2797ba6-fa06-4208-888c-5430f22621df",
   "metadata": {},
   "source": [
    "# Soru 91: En az kazanç sağlayan müşteri hangisidir ve toplam kazancı nedir? "
   ]
  },
  {
   "cell_type": "code",
   "execution_count": 32,
   "id": "670c95d0-98aa-4f92-ac0e-d2b2a8b9874b",
   "metadata": {},
   "outputs": [],
   "source": [
    "import sqlite3\n",
    "import pandas as pd\n",
    "conn = sqlite3.connect(\"sqlite-sakila.db\")"
   ]
  },
  {
   "cell_type": "code",
   "execution_count": 33,
   "id": "9e832af1-92c5-41d6-8d67-803da2f8d76a",
   "metadata": {},
   "outputs": [],
   "source": [
    "customer_df = pd.read_sql_query(\"SELECT * FROM customer\", conn)\n",
    "rental_df = pd.read_sql_query(\"SELECT * FROM rental\", conn)\n",
    "payment_df = pd.read_sql_query(\"SELECT * FROM payment\", conn)"
   ]
  },
  {
   "cell_type": "code",
   "execution_count": 34,
   "id": "a64812b5-305a-4069-9cf2-0d02fd1ccf9f",
   "metadata": {},
   "outputs": [],
   "source": [
    "rental_payment = pd.merge(rental_df, payment_df, on=\"rental_id\")\n",
    "full_df = pd.merge(rental_payment, customer_df, left_on=\"customer_id_x\", right_on=\"customer_id\")"
   ]
  },
  {
   "cell_type": "code",
   "execution_count": 35,
   "id": "36e0eefb-d367-4c6a-992b-547c13d36f0a",
   "metadata": {},
   "outputs": [],
   "source": [
    "top_customer = (full_df.groupby([\"first_name\", \"last_name\"])[\"amount\"].sum()\n",
    ".reset_index(name=\"total_revenue\").sort_values(\"total_revenue\", ascending=True).head(1))"
   ]
  },
  {
   "cell_type": "code",
   "execution_count": null,
   "id": "6c14df6b-1a4a-4bbe-b1eb-751a63b712f5",
   "metadata": {},
   "outputs": [],
   "source": [
    "top_customer"
   ]
  },
  {
   "cell_type": "markdown",
   "id": "ae1c2333-4311-4024-b01b-00a6711ce10c",
   "metadata": {},
   "source": [
    "# Soru 92: Hangi film, hangi kategoride en çok kazanç sağlamış?"
   ]
  },
  {
   "cell_type": "code",
   "execution_count": 37,
   "id": "bb1793bc-a181-46d9-9bd2-04b8f2b72f6d",
   "metadata": {},
   "outputs": [],
   "source": [
    "import sqlite3\n",
    "import pandas as pd\n",
    "conn = sqlite3.connect(\"sqlite-sakila.db\")"
   ]
  },
  {
   "cell_type": "code",
   "execution_count": 38,
   "id": "f9043c8c-e8d4-49bf-b6f7-c1b140104b00",
   "metadata": {},
   "outputs": [],
   "source": [
    "film_df = pd.read_sql_query(\"SELECT * FROM film\", conn)\n",
    "film_category_df = pd.read_sql_query(\"SELECT * FROM film_category\", conn)\n",
    "category_df = pd.read_sql_query(\"SELECT * FROM category\", conn)\n",
    "inventory_df = pd.read_sql_query(\"SELECT * FROM inventory\", conn)\n",
    "rental_df = pd.read_sql_query(\"SELECT * FROM rental\", conn)\n",
    "payment_df = pd.read_sql_query(\"SELECT * FROM payment\", conn)"
   ]
  },
  {
   "cell_type": "code",
   "execution_count": 40,
   "id": "6bb7f626-c3df-46ba-9b30-7112e3c0de30",
   "metadata": {},
   "outputs": [],
   "source": [
    "film_df.drop(columns=\"last_update\", inplace=True)\n",
    "film_category_df.drop(columns=\"last_update\", inplace=True)\n",
    "category_df.drop(columns=\"last_update\", inplace=True)\n",
    "inventory_df.drop(columns=\"last_update\", inplace=True)\n",
    "rental_df.drop(columns=\"last_update\", inplace=True)\n",
    "payment_df.drop(columns=\"last_update\", inplace=True)"
   ]
  },
  {
   "cell_type": "code",
   "execution_count": 41,
   "id": "42da7553-0b41-4fd3-bd81-5d4615b80fdb",
   "metadata": {},
   "outputs": [],
   "source": [
    "step1 = pd.merge(film_df, film_category_df, on=\"film_id\")\n",
    "step2 = pd.merge(step1, category_df, on=\"category_id\")\n",
    "step3 = pd.merge(step2, inventory_df, on=\"film_id\")\n",
    "step4 = pd.merge(step3, rental_df, on=\"inventory_id\")\n",
    "full_df = pd.merge(step4, payment_df, on=\"rental_id\")"
   ]
  },
  {
   "cell_type": "code",
   "execution_count": 44,
   "id": "f5b793f5-ea46-45f5-8321-33c124665ae2",
   "metadata": {},
   "outputs": [],
   "source": [
    "result = (full_df.groupby([\"title\", \"name\"])[\"amount\"].sum().reset_index()\n",
    ".rename(columns={\"name\": \"genre\", \"amount\": \"total_revenue\"})\n",
    ".sort_values(by=\"total_revenue\", ascending=False).head(1))"
   ]
  },
  {
   "cell_type": "code",
   "execution_count": null,
   "id": "93a1959d-bf4e-4c96-8074-84a0936872ee",
   "metadata": {},
   "outputs": [],
   "source": [
    "result"
   ]
  },
  {
   "cell_type": "markdown",
   "id": "7e796b7e-caff-461d-b1a0-f40cd9e5e4cc",
   "metadata": {},
   "source": [
    "# Soru 93: Hangi film, hangi kategoride en az kazanç sağlamış? "
   ]
  },
  {
   "cell_type": "code",
   "execution_count": 46,
   "id": "b08dd93d-5bd3-4a5e-bfab-aeca10691576",
   "metadata": {},
   "outputs": [],
   "source": [
    "import sqlite3\n",
    "import pandas as pd\n",
    "conn = sqlite3.connect(\"sqlite-sakila.db\")"
   ]
  },
  {
   "cell_type": "code",
   "execution_count": 47,
   "id": "d72a8640-af9d-44a1-9032-2b6331b35d56",
   "metadata": {},
   "outputs": [],
   "source": [
    "film_df = pd.read_sql_query(\"SELECT * FROM film\", conn)\n",
    "film_category_df = pd.read_sql_query(\"SELECT * FROM film_category\", conn)\n",
    "category_df = pd.read_sql_query(\"SELECT * FROM category\", conn)\n",
    "inventory_df = pd.read_sql_query(\"SELECT * FROM inventory\", conn)\n",
    "rental_df = pd.read_sql_query(\"SELECT * FROM rental\", conn)\n",
    "payment_df = pd.read_sql_query(\"SELECT * FROM payment\", conn)"
   ]
  },
  {
   "cell_type": "code",
   "execution_count": 48,
   "id": "b1a6496b-9e5d-4759-be03-e2a746ac5041",
   "metadata": {},
   "outputs": [],
   "source": [
    "film_df.drop(columns=\"last_update\", inplace=True)\n",
    "film_category_df.drop(columns=\"last_update\", inplace=True)\n",
    "category_df.drop(columns=\"last_update\", inplace=True)\n",
    "inventory_df.drop(columns=\"last_update\", inplace=True)\n",
    "rental_df.drop(columns=\"last_update\", inplace=True)\n",
    "payment_df.drop(columns=\"last_update\", inplace=True)"
   ]
  },
  {
   "cell_type": "code",
   "execution_count": 49,
   "id": "d7cc65c6-5a72-416c-be75-b7701b45d8f0",
   "metadata": {},
   "outputs": [],
   "source": [
    "step1 = pd.merge(film_df, film_category_df, on=\"film_id\")\n",
    "step2 = pd.merge(step1, category_df, on=\"category_id\")\n",
    "step3 = pd.merge(step2, inventory_df, on=\"film_id\")\n",
    "step4 = pd.merge(step3, rental_df, on=\"inventory_id\")\n",
    "full_df = pd.merge(step4, payment_df, on=\"rental_id\")"
   ]
  },
  {
   "cell_type": "code",
   "execution_count": 50,
   "id": "7b993dad-b2b1-44c9-8845-4de719edf7b7",
   "metadata": {},
   "outputs": [],
   "source": [
    "result = (full_df.groupby([\"title\", \"name\"])[\"amount\"].sum().reset_index()\n",
    ".rename(columns={\"name\": \"genre\", \"amount\": \"total_revenue\"})\n",
    ".sort_values(by=\"total_revenue\", ascending=True).head(1))"
   ]
  },
  {
   "cell_type": "code",
   "execution_count": null,
   "id": "b2b77bd7-b32b-4068-9d57-3f26148594e6",
   "metadata": {},
   "outputs": [],
   "source": [
    "result"
   ]
  },
  {
   "cell_type": "markdown",
   "id": "1dbbbc3d-a96d-4898-85f0-59509fb0af7a",
   "metadata": {},
   "source": [
    "# Soru 94: En fazla kazanç sağlayan mağaza hangisidir ve toplam kazancı nedir?"
   ]
  },
  {
   "cell_type": "code",
   "execution_count": 52,
   "id": "54cc1809-8510-4484-a43b-d179bae7f19d",
   "metadata": {},
   "outputs": [],
   "source": [
    "import sqlite3\n",
    "import pandas as pd\n",
    "conn = sqlite3.connect(\"sqlite-sakila.db\")"
   ]
  },
  {
   "cell_type": "code",
   "execution_count": 53,
   "id": "b0eb2865-f673-47fb-815b-5b969b461f70",
   "metadata": {},
   "outputs": [],
   "source": [
    "store_df = pd.read_sql_query(\"SELECT store_id FROM store\", conn)\n",
    "staff_df = pd.read_sql_query(\"SELECT staff_id, store_id FROM staff\", conn)\n",
    "rental_df = pd.read_sql_query(\"SELECT rental_id, staff_id FROM rental\", conn)\n",
    "payment_df = pd.read_sql_query(\"SELECT rental_id, amount FROM payment\", conn)"
   ]
  },
  {
   "cell_type": "code",
   "execution_count": 54,
   "id": "c3101cfa-5c61-485f-8be6-27218c5f55cd",
   "metadata": {},
   "outputs": [],
   "source": [
    "step1 = pd.merge(store_df, staff_df, on=\"store_id\")\n",
    "step2 = pd.merge(step1, rental_df, on=\"staff_id\")\n",
    "step3 = pd.merge(step2, payment_df, on=\"rental_id\")"
   ]
  },
  {
   "cell_type": "code",
   "execution_count": 55,
   "id": "6de49432-d566-453b-8a25-bcaa55cc7f11",
   "metadata": {},
   "outputs": [],
   "source": [
    "result_df = (step3.groupby(\"store_id\")[\"amount\"].sum()\n",
    ".reset_index(name=\"total_revenue\").sort_values(\"total_revenue\", ascending=False).head(1))"
   ]
  },
  {
   "cell_type": "code",
   "execution_count": null,
   "id": "7baffd19-697e-441e-b2f6-f38f7935dc90",
   "metadata": {},
   "outputs": [],
   "source": [
    "result_df"
   ]
  },
  {
   "cell_type": "markdown",
   "id": "ba667b7f-1e8e-444f-bcd7-e3bdebab0a15",
   "metadata": {},
   "source": [
    "# Soru 95: En az kazanç sağlayan mağaza hangisidir ve toplam kazancı nedir? "
   ]
  },
  {
   "cell_type": "code",
   "execution_count": 57,
   "id": "ab2c69c0-4255-484f-971f-ac830c9ae917",
   "metadata": {},
   "outputs": [],
   "source": [
    "import sqlite3\n",
    "import pandas as pd\n",
    "conn = sqlite3.connect(\"sqlite-sakila.db\")"
   ]
  },
  {
   "cell_type": "code",
   "execution_count": 58,
   "id": "b53ee555-e286-4afd-8822-de0dd1564400",
   "metadata": {},
   "outputs": [],
   "source": [
    "store_df = pd.read_sql_query(\"SELECT store_id FROM store\", conn)\n",
    "staff_df = pd.read_sql_query(\"SELECT staff_id, store_id FROM staff\", conn)\n",
    "rental_df = pd.read_sql_query(\"SELECT rental_id, staff_id FROM rental\", conn)\n",
    "payment_df = pd.read_sql_query(\"SELECT rental_id, amount FROM payment\", conn)"
   ]
  },
  {
   "cell_type": "code",
   "execution_count": 59,
   "id": "be447a7b-cd65-4dac-8569-edad6e30b81f",
   "metadata": {},
   "outputs": [],
   "source": [
    "step1 = pd.merge(store_df, staff_df, on=\"store_id\")\n",
    "step2 = pd.merge(step1, rental_df, on=\"staff_id\")\n",
    "step3 = pd.merge(step2, payment_df, on=\"rental_id\")"
   ]
  },
  {
   "cell_type": "code",
   "execution_count": 60,
   "id": "7b4747ff-40e8-4c14-9f12-7c317dc0cf6b",
   "metadata": {},
   "outputs": [],
   "source": [
    "result_df = (step3.groupby(\"store_id\")[\"amount\"].sum()\n",
    ".reset_index(name=\"total_revenue\").sort_values(\"total_revenue\", ascending=True).head(1))"
   ]
  },
  {
   "cell_type": "code",
   "execution_count": null,
   "id": "46b8fc4e-e348-4563-bd3e-bab599df031c",
   "metadata": {},
   "outputs": [],
   "source": [
    "result_df"
   ]
  },
  {
   "cell_type": "markdown",
   "id": "4d780645-85bc-432c-89c9-adfabd6dc5e6",
   "metadata": {},
   "source": [
    "# Soru 96: En fazla sayıda farklı film kiralayan müşteri hangisidir?  "
   ]
  },
  {
   "cell_type": "code",
   "execution_count": 64,
   "id": "1abe87c6-8b36-4047-a02c-1d558002731a",
   "metadata": {},
   "outputs": [],
   "source": [
    "import sqlite3\n",
    "import pandas as pd\n",
    "conn = sqlite3.connect(\"sqlite-sakila.db\")"
   ]
  },
  {
   "cell_type": "code",
   "execution_count": 65,
   "id": "f3d103ea-b337-4df8-bd90-fb2672f3456b",
   "metadata": {},
   "outputs": [],
   "source": [
    "customer_df = pd.read_sql_query(\"SELECT * FROM customer\", conn)\n",
    "rental_df = pd.read_sql_query(\"SELECT * FROM rental\", conn)"
   ]
  },
  {
   "cell_type": "code",
   "execution_count": 66,
   "id": "879993bb-212f-466e-8890-70c51a3ca1c1",
   "metadata": {},
   "outputs": [],
   "source": [
    "merged_df = pd.merge(customer_df, rental_df, on=\"customer_id\")"
   ]
  },
  {
   "cell_type": "code",
   "execution_count": 69,
   "id": "cf8b57a1-56b3-4a19-ae1e-03f839c42564",
   "metadata": {},
   "outputs": [],
   "source": [
    "result_df = (merged_df.groupby([\"first_name\", \"last_name\"])[\"inventory_id\"].nunique()\n",
    ".reset_index(name=\"unique_rentals\").sort_values(\"unique_rentals\", ascending=False).head(1))"
   ]
  },
  {
   "cell_type": "code",
   "execution_count": null,
   "id": "d4a0cd36-d850-4138-8d3b-ace91cd79b8c",
   "metadata": {},
   "outputs": [],
   "source": [
    "result_df"
   ]
  },
  {
   "cell_type": "markdown",
   "id": "1b6e3de3-da4d-4509-9480-aa53cc9b4ac2",
   "metadata": {},
   "source": [
    "# Soru 97: En az sayıda farklı film kiralayan müşteri hangisidir? "
   ]
  },
  {
   "cell_type": "code",
   "execution_count": 62,
   "id": "e52a1944-13d6-4d3b-b1b7-7b7c659bbacd",
   "metadata": {},
   "outputs": [],
   "source": [
    "import sqlite3\n",
    "import pandas as pd\n",
    "conn = sqlite3.connect(\"sqlite-sakila.db\")"
   ]
  },
  {
   "cell_type": "code",
   "execution_count": 63,
   "id": "db6240b2-bdee-44de-85f5-2a6c992b326f",
   "metadata": {},
   "outputs": [],
   "source": [
    "customer_df = pd.read_sql_query(\"SELECT * FROM customer\", conn)\n",
    "rental_df = pd.read_sql_query(\"SELECT * FROM rental\", conn)"
   ]
  },
  {
   "cell_type": "code",
   "execution_count": null,
   "id": "03552a39-3001-410c-942b-51570d7cc4b4",
   "metadata": {},
   "outputs": [],
   "source": [
    "merged_df = pd.merge(customer_df, rental_df, on=\"customer_id\")"
   ]
  },
  {
   "cell_type": "code",
   "execution_count": 71,
   "id": "0acddb74-90c0-4f5a-b000-601d4664d67b",
   "metadata": {},
   "outputs": [],
   "source": [
    "result_df = (merged_df.groupby([\"first_name\", \"last_name\"])[\"inventory_id\"].nunique()\n",
    ".reset_index(name=\"unique_rentals\").sort_values(\"unique_rentals\", ascending=True).head(1))"
   ]
  },
  {
   "cell_type": "code",
   "execution_count": null,
   "id": "89dd7f73-58b6-4a68-a534-97c7dfeb27c6",
   "metadata": {},
   "outputs": [],
   "source": [
    "result_df"
   ]
  },
  {
   "cell_type": "markdown",
   "id": "96cfbc9f-ebb4-48f3-bb47-0c000bd3682d",
   "metadata": {},
   "source": [
    "# Soru 98: En fazla sayıda farklı müşteri tarafından kiralanan film hangisidir? "
   ]
  },
  {
   "cell_type": "code",
   "execution_count": null,
   "id": "a4e0abe5-fadb-498d-a697-1702a6046ba1",
   "metadata": {},
   "outputs": [],
   "source": [
    "import sqlite3\n",
    "import pandas as pd\n",
    "conn = sqlite3.connect(\"sqlite-sakila.db\")"
   ]
  },
  {
   "cell_type": "code",
   "execution_count": 73,
   "id": "a96896f6-26f8-47fd-a6af-78843b27f67a",
   "metadata": {},
   "outputs": [],
   "source": [
    "film_df = pd.read_sql_query(\"SELECT * FROM film\", conn)\n",
    "inventory_df = pd.read_sql_query(\"SELECT * FROM inventory\", conn)\n",
    "rental_df = pd.read_sql_query(\"SELECT * FROM rental\", conn)"
   ]
  },
  {
   "cell_type": "code",
   "execution_count": 74,
   "id": "4c08a239-3bd0-4e12-a75f-21f5f5ab472a",
   "metadata": {},
   "outputs": [],
   "source": [
    "step1 = pd.merge(inventory_df, rental_df, on=\"inventory_id\")\n",
    "step2 = pd.merge(step1, film_df, on=\"film_id\")"
   ]
  },
  {
   "cell_type": "code",
   "execution_count": 75,
   "id": "dcc77760-620a-436a-a4c6-56a2f236bd26",
   "metadata": {},
   "outputs": [],
   "source": [
    "result_df = (step2.groupby(\"title\")[\"customer_id\"].nunique().reset_index(name=\"unique_customers\")\n",
    ".sort_values(\"unique_customers\", ascending=False).head(1))"
   ]
  },
  {
   "cell_type": "code",
   "execution_count": null,
   "id": "eed52fa9-7f62-4707-8af2-f555d05cefb6",
   "metadata": {},
   "outputs": [],
   "source": [
    "result_df"
   ]
  },
  {
   "cell_type": "markdown",
   "id": "624918bb-4c8b-4e46-b4f8-c2469b23acfd",
   "metadata": {},
   "source": [
    "# Soru 99: En az sayıda farklı müşteri tarafından kiralanan film hangisidir?  "
   ]
  },
  {
   "cell_type": "code",
   "execution_count": 77,
   "id": "14b79985-a1f8-4394-84df-0bb5d00c346b",
   "metadata": {},
   "outputs": [],
   "source": [
    "import sqlite3\n",
    "import pandas as pd\n",
    "conn = sqlite3.connect(\"sqlite-sakila.db\")"
   ]
  },
  {
   "cell_type": "code",
   "execution_count": 78,
   "id": "c5cbadd6-d39d-4e0c-9a63-bb36fd5dd326",
   "metadata": {},
   "outputs": [],
   "source": [
    "film_df = pd.read_sql_query(\"SELECT * FROM film\", conn)\n",
    "inventory_df = pd.read_sql_query(\"SELECT * FROM inventory\", conn)\n",
    "rental_df = pd.read_sql_query(\"SELECT * FROM rental\", conn)"
   ]
  },
  {
   "cell_type": "code",
   "execution_count": 79,
   "id": "d46c9810-4e89-47c5-85a7-d36af7140978",
   "metadata": {},
   "outputs": [],
   "source": [
    "step1 = pd.merge(inventory_df, rental_df, on=\"inventory_id\")\n",
    "step2 = pd.merge(step1, film_df, on=\"film_id\")"
   ]
  },
  {
   "cell_type": "code",
   "execution_count": 82,
   "id": "b7edda3b-51a4-4541-af8a-03339aa0af88",
   "metadata": {},
   "outputs": [],
   "source": [
    "result_df = (step2.groupby(\"title\")[\"customer_id\"].nunique().reset_index(name=\"unique_customers\")\n",
    ".sort_values(\"unique_customers\", ascending=True).head(1))"
   ]
  },
  {
   "cell_type": "code",
   "execution_count": null,
   "id": "212010d3-c74e-4c81-9765-6fba68e0be76",
   "metadata": {},
   "outputs": [],
   "source": [
    "result_df"
   ]
  },
  {
   "cell_type": "markdown",
   "id": "67700231-c486-454e-bd66-5fabf378093d",
   "metadata": {},
   "source": [
    "# Soru 100: Hangi mağazada, hangi kategoride en fazla kazanç sağlanmış?  "
   ]
  },
  {
   "cell_type": "code",
   "execution_count": 90,
   "id": "ff6dcc51-d71e-4eff-b0bd-b8348a82afa6",
   "metadata": {},
   "outputs": [],
   "source": [
    "import sqlite3\n",
    "import pandas as pd\n",
    "conn = sqlite3.connect(\"sqlite-sakila.db\")"
   ]
  },
  {
   "cell_type": "code",
   "execution_count": 91,
   "id": "87076523-9c39-464c-923a-451ae7ed5c0e",
   "metadata": {},
   "outputs": [],
   "source": [
    "store_df = pd.read_sql_query(\"SELECT * FROM store\", conn)\n",
    "staff_df = pd.read_sql_query(\"SELECT * FROM staff\", conn)\n",
    "rental_df = pd.read_sql_query(\"SELECT * FROM rental\", conn)\n",
    "inventory_df = pd.read_sql_query(\"SELECT * FROM inventory\", conn)\n",
    "film_df = pd.read_sql_query(\"SELECT * FROM film\", conn)\n",
    "film_category_df = pd.read_sql_query(\"SELECT * FROM film_category\", conn)\n",
    "category_df = pd.read_sql_query(\"SELECT * FROM category\", conn)\n",
    "payment_df = pd.read_sql_query(\"SELECT * FROM payment\", conn)"
   ]
  },
  {
   "cell_type": "code",
   "execution_count": 92,
   "id": "cbb4e480-f275-4eab-937c-e149a55f0d71",
   "metadata": {},
   "outputs": [],
   "source": [
    "store_df.drop(columns=\"last_update\", inplace=True)\n",
    "staff_df.drop(columns=\"last_update\", inplace=True)\n",
    "rental_df.drop(columns=\"last_update\", inplace=True)\n",
    "inventory_df.drop(columns=\"last_update\", inplace=True)\n",
    "film_df.drop(columns=\"last_update\", inplace=True)\n",
    "film_category_df.drop(columns=\"last_update\", inplace=True)\n",
    "category_df.drop(columns=\"last_update\", inplace=True)\n",
    "payment_df.drop(columns=\"last_update\", inplace=True)"
   ]
  },
  {
   "cell_type": "code",
   "execution_count": 98,
   "id": "748c77eb-fb34-48eb-ad66-7220e4c82ace",
   "metadata": {},
   "outputs": [],
   "source": [
    "step1 = pd.merge(store_df, staff_df, on=\"store_id\")\n",
    "step2 = pd.merge(step1, rental_df, on=\"staff_id\")\n",
    "step3 = pd.merge(step2, inventory_df, on=\"inventory_id\")\n",
    "step4 = pd.merge(step3, film_df, on=\"film_id\")\n",
    "step5 = pd.merge(step4, film_category_df, on=\"film_id\")\n",
    "step6 = pd.merge(step5, category_df, on=\"category_id\")\n",
    "full_df = pd.merge(step6, payment_df, on=\"rental_id\")"
   ]
  },
  {
   "cell_type": "code",
   "execution_count": 106,
   "id": "cfaddcfd-7fac-416e-8d5d-2f7c1f6302fa",
   "metadata": {},
   "outputs": [],
   "source": [
    "full_df = full_df.rename(columns={\"store_id_x\": \"store_id\"})\n",
    "full_df = full_df.rename(columns={\"name\": \"genre\"})"
   ]
  },
  {
   "cell_type": "code",
   "execution_count": null,
   "id": "8c61bb03-9382-4e37-a0e3-e3a0190e0416",
   "metadata": {},
   "outputs": [],
   "source": [
    "print(full_df.columns)"
   ]
  },
  {
   "cell_type": "code",
   "execution_count": 108,
   "id": "de85d6fd-7c82-4a13-8090-e9b0fd39f817",
   "metadata": {},
   "outputs": [],
   "source": [
    "result_df = (full_df.groupby([\"store_id\", \"genre\"])[\"amount\"].sum()\n",
    ".reset_index(name=\"total_revenue\").sort_values(\"total_revenue\", ascending=False).head(1))"
   ]
  },
  {
   "cell_type": "code",
   "execution_count": null,
   "id": "91efe3e4-6304-43e3-94b6-b0e8f52ec2f8",
   "metadata": {},
   "outputs": [],
   "source": [
    "result_df"
   ]
  }
 ],
 "metadata": {
  "kernelspec": {
   "display_name": "Python 3 (ipykernel)",
   "language": "python",
   "name": "python3"
  },
  "language_info": {
   "codemirror_mode": {
    "name": "ipython",
    "version": 3
   },
   "file_extension": ".py",
   "mimetype": "text/x-python",
   "name": "python",
   "nbconvert_exporter": "python",
   "pygments_lexer": "ipython3",
   "version": "3.12.7"
  }
 },
 "nbformat": 4,
 "nbformat_minor": 5
}
