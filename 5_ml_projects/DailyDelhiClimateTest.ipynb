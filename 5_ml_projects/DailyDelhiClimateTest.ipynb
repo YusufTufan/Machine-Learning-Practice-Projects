{
 "cells": [
  {
   "cell_type": "code",
   "execution_count": 42,
   "id": "4aac3495-0307-49b7-81fc-f259ee95d471",
   "metadata": {},
   "outputs": [],
   "source": [
    "import pandas as pd\n",
    "import numpy as np\n",
    "import matplotlib.pyplot as plt\n",
    "\n",
    "from sklearn.preprocessing import StandardScaler\n",
    "from sklearn.cluster import DBSCAN\n",
    "from sklearn.neighbors import LocalOutlierFactor\n",
    "from sklearn.ensemble import IsolationForest\n",
    "\n",
    "from datetime import datetime"
   ]
  },
  {
   "cell_type": "markdown",
   "id": "2155e246-7220-4276-9e9e-4ccd40c6688f",
   "metadata": {},
   "source": [
    "# Veriyi okuma, yapısını inceleme , değerleri düzenleme"
   ]
  },
  {
   "cell_type": "code",
   "execution_count": 25,
   "id": "68dfdb3a-00db-42ff-856f-42ddc56f4427",
   "metadata": {},
   "outputs": [
    {
     "data": {
      "text/html": [
       "<div>\n",
       "<style scoped>\n",
       "    .dataframe tbody tr th:only-of-type {\n",
       "        vertical-align: middle;\n",
       "    }\n",
       "\n",
       "    .dataframe tbody tr th {\n",
       "        vertical-align: top;\n",
       "    }\n",
       "\n",
       "    .dataframe thead th {\n",
       "        text-align: right;\n",
       "    }\n",
       "</style>\n",
       "<table border=\"1\" class=\"dataframe\">\n",
       "  <thead>\n",
       "    <tr style=\"text-align: right;\">\n",
       "      <th></th>\n",
       "      <th>date</th>\n",
       "      <th>meantemp</th>\n",
       "      <th>humidity</th>\n",
       "      <th>wind_speed</th>\n",
       "      <th>meanpressure</th>\n",
       "    </tr>\n",
       "  </thead>\n",
       "  <tbody>\n",
       "    <tr>\n",
       "      <th>0</th>\n",
       "      <td>2017-01-01</td>\n",
       "      <td>15.913043</td>\n",
       "      <td>85.869565</td>\n",
       "      <td>2.743478</td>\n",
       "      <td>59.000000</td>\n",
       "    </tr>\n",
       "    <tr>\n",
       "      <th>1</th>\n",
       "      <td>2017-01-02</td>\n",
       "      <td>18.500000</td>\n",
       "      <td>77.222222</td>\n",
       "      <td>2.894444</td>\n",
       "      <td>1018.277778</td>\n",
       "    </tr>\n",
       "    <tr>\n",
       "      <th>2</th>\n",
       "      <td>2017-01-03</td>\n",
       "      <td>17.111111</td>\n",
       "      <td>81.888889</td>\n",
       "      <td>4.016667</td>\n",
       "      <td>1018.333333</td>\n",
       "    </tr>\n",
       "    <tr>\n",
       "      <th>3</th>\n",
       "      <td>2017-01-04</td>\n",
       "      <td>18.700000</td>\n",
       "      <td>70.050000</td>\n",
       "      <td>4.545000</td>\n",
       "      <td>1015.700000</td>\n",
       "    </tr>\n",
       "    <tr>\n",
       "      <th>4</th>\n",
       "      <td>2017-01-05</td>\n",
       "      <td>18.388889</td>\n",
       "      <td>74.944444</td>\n",
       "      <td>3.300000</td>\n",
       "      <td>1014.333333</td>\n",
       "    </tr>\n",
       "  </tbody>\n",
       "</table>\n",
       "</div>"
      ],
      "text/plain": [
       "         date   meantemp   humidity  wind_speed  meanpressure\n",
       "0  2017-01-01  15.913043  85.869565    2.743478     59.000000\n",
       "1  2017-01-02  18.500000  77.222222    2.894444   1018.277778\n",
       "2  2017-01-03  17.111111  81.888889    4.016667   1018.333333\n",
       "3  2017-01-04  18.700000  70.050000    4.545000   1015.700000\n",
       "4  2017-01-05  18.388889  74.944444    3.300000   1014.333333"
      ]
     },
     "execution_count": 25,
     "metadata": {},
     "output_type": "execute_result"
    }
   ],
   "source": [
    "df = pd.read_csv(\"DailyDelhiClimateTest.csv\")\n",
    "df.head()"
   ]
  },
  {
   "cell_type": "code",
   "execution_count": 26,
   "id": "6b49717f-bb50-45d6-b787-df278d854ba4",
   "metadata": {},
   "outputs": [],
   "source": [
    "df[\"date\"] = pd.to_datetime(df[\"date\"])"
   ]
  },
  {
   "cell_type": "code",
   "execution_count": 27,
   "id": "ce9065eb-e146-422b-ba55-08baa81c370c",
   "metadata": {},
   "outputs": [],
   "source": [
    "df = df.sort_values(\"date\").reset_index(drop=True)"
   ]
  },
  {
   "cell_type": "markdown",
   "id": "bbe257e4-e8db-4831-8001-3e5920750bed",
   "metadata": {},
   "source": [
    "# Model eğitimi için hazırlık ve model eğitimleri"
   ]
  },
  {
   "cell_type": "code",
   "execution_count": 28,
   "id": "ca2fc8a2-383a-482b-98b4-7ce32ed09a9e",
   "metadata": {},
   "outputs": [],
   "source": [
    "features = [\"meantemp\", \"humidity\", \"wind_speed\", \"meanpressure\"]"
   ]
  },
  {
   "cell_type": "code",
   "execution_count": 29,
   "id": "984713f4-5595-4fe1-99a5-f18a132a2866",
   "metadata": {},
   "outputs": [],
   "source": [
    "scaler = StandardScaler()"
   ]
  },
  {
   "cell_type": "code",
   "execution_count": 63,
   "id": "23dd3e43-d4ab-4839-9f2f-dd158b3ab4cf",
   "metadata": {},
   "outputs": [],
   "source": [
    "X = df[features].copy()\n",
    "X_scaled = scaler.fit_transform(X)"
   ]
  },
  {
   "cell_type": "markdown",
   "id": "acad9f5c-dee0-4cc2-899a-7a246772caaa",
   "metadata": {},
   "source": [
    "# DBSCAN"
   ]
  },
  {
   "cell_type": "code",
   "execution_count": 33,
   "id": "a4cd033a-33a1-4cac-8d64-366161e6df0b",
   "metadata": {},
   "outputs": [],
   "source": [
    "dbscan = DBSCAN(eps=1.0, min_samples=5, metric=\"euclidean\")\n",
    "db_labels = dbscan.fit_predict(X_scaled)                   # -1=anomali, 0..=cluster\n",
    "DBSCAN_label = (db_labels == -1).astype(int)"
   ]
  },
  {
   "cell_type": "markdown",
   "id": "eebc1bd9-4c2a-4d8a-aa38-f0173135f599",
   "metadata": {},
   "source": [
    "# LOF"
   ]
  },
  {
   "cell_type": "code",
   "execution_count": 34,
   "id": "33e26947-e81a-483e-b9fa-6d944106e3ce",
   "metadata": {},
   "outputs": [],
   "source": [
    "lof = LocalOutlierFactor(n_neighbors=20, contamination=\"auto\", novelty=False)\n",
    "lof_labels = lof.fit_predict(X_scaled)                     # 1=normal, -1=anomali\n",
    "LOF_label = (lof_labels == -1).astype(int)\n",
    "LOF_score = -lof.negative_outlier_factor_    "
   ]
  },
  {
   "cell_type": "markdown",
   "id": "265a0147-9b75-4df3-b7a3-8623b0afb1ef",
   "metadata": {},
   "source": [
    "# Isolation Forest"
   ]
  },
  {
   "cell_type": "code",
   "execution_count": 35,
   "id": "351bb6a8-45eb-4920-815b-d7f09ca6bd0f",
   "metadata": {},
   "outputs": [],
   "source": [
    "iforest = IsolationForest(n_estimators=200, contamination=0.05, random_state=42)\n",
    "iforest.fit(X_scaled)\n",
    "if_labels = iforest.predict(X_scaled)                      # 1=normal, -1=anomali\n",
    "IF_label = (if_labels == -1).astype(int)\n",
    "IF_score = -iforest.score_samples(X_scaled) "
   ]
  },
  {
   "cell_type": "markdown",
   "id": "e9c08580-abf8-4d94-824e-73851e1b07cf",
   "metadata": {},
   "source": [
    "# Sonuçlar"
   ]
  },
  {
   "cell_type": "code",
   "execution_count": 36,
   "id": "19de25a1-9da5-423a-a1ab-61628bc5ccb8",
   "metadata": {},
   "outputs": [],
   "source": [
    "out = df[[\"date\"]].copy()\n",
    "out[\"DBSCAN_label\"] = DBSCAN_label\n",
    "out[\"LOF_label\"] = LOF_label\n",
    "out[\"IF_label\"] = IF_label"
   ]
  },
  {
   "cell_type": "code",
   "execution_count": 37,
   "id": "648db13d-ede5-49e1-844c-985abd9d6ff7",
   "metadata": {},
   "outputs": [],
   "source": [
    "out[\"vote\"] = out[[\"DBSCAN_label\",\"LOF_label\",\"IF_label\"]].sum(axis=1)\n",
    "out[\"final_anomaly\"] = (out[\"vote\"] >= 2).astype(int)  "
   ]
  },
  {
   "cell_type": "code",
   "execution_count": 39,
   "id": "f46311d3-f5d4-4453-891c-7d0e9ac5baad",
   "metadata": {},
   "outputs": [
    {
     "data": {
      "text/html": [
       "<div>\n",
       "<style scoped>\n",
       "    .dataframe tbody tr th:only-of-type {\n",
       "        vertical-align: middle;\n",
       "    }\n",
       "\n",
       "    .dataframe tbody tr th {\n",
       "        vertical-align: top;\n",
       "    }\n",
       "\n",
       "    .dataframe thead th {\n",
       "        text-align: right;\n",
       "    }\n",
       "</style>\n",
       "<table border=\"1\" class=\"dataframe\">\n",
       "  <thead>\n",
       "    <tr style=\"text-align: right;\">\n",
       "      <th></th>\n",
       "      <th>date</th>\n",
       "      <th>DBSCAN_label</th>\n",
       "      <th>LOF_label</th>\n",
       "      <th>IF_label</th>\n",
       "      <th>vote</th>\n",
       "      <th>final_anomaly</th>\n",
       "      <th>Anomaly_Status</th>\n",
       "    </tr>\n",
       "  </thead>\n",
       "  <tbody>\n",
       "    <tr>\n",
       "      <th>0</th>\n",
       "      <td>2017-01-01</td>\n",
       "      <td>1</td>\n",
       "      <td>1</td>\n",
       "      <td>1</td>\n",
       "      <td>3</td>\n",
       "      <td>1</td>\n",
       "      <td>Yüksek İhtimal Anomali</td>\n",
       "    </tr>\n",
       "    <tr>\n",
       "      <th>1</th>\n",
       "      <td>2017-01-02</td>\n",
       "      <td>0</td>\n",
       "      <td>0</td>\n",
       "      <td>0</td>\n",
       "      <td>0</td>\n",
       "      <td>0</td>\n",
       "      <td>Normal</td>\n",
       "    </tr>\n",
       "    <tr>\n",
       "      <th>2</th>\n",
       "      <td>2017-01-03</td>\n",
       "      <td>0</td>\n",
       "      <td>0</td>\n",
       "      <td>0</td>\n",
       "      <td>0</td>\n",
       "      <td>0</td>\n",
       "      <td>Normal</td>\n",
       "    </tr>\n",
       "    <tr>\n",
       "      <th>3</th>\n",
       "      <td>2017-01-04</td>\n",
       "      <td>0</td>\n",
       "      <td>0</td>\n",
       "      <td>0</td>\n",
       "      <td>0</td>\n",
       "      <td>0</td>\n",
       "      <td>Normal</td>\n",
       "    </tr>\n",
       "    <tr>\n",
       "      <th>4</th>\n",
       "      <td>2017-01-05</td>\n",
       "      <td>0</td>\n",
       "      <td>0</td>\n",
       "      <td>0</td>\n",
       "      <td>0</td>\n",
       "      <td>0</td>\n",
       "      <td>Normal</td>\n",
       "    </tr>\n",
       "    <tr>\n",
       "      <th>...</th>\n",
       "      <td>...</td>\n",
       "      <td>...</td>\n",
       "      <td>...</td>\n",
       "      <td>...</td>\n",
       "      <td>...</td>\n",
       "      <td>...</td>\n",
       "      <td>...</td>\n",
       "    </tr>\n",
       "    <tr>\n",
       "      <th>109</th>\n",
       "      <td>2017-04-20</td>\n",
       "      <td>0</td>\n",
       "      <td>0</td>\n",
       "      <td>1</td>\n",
       "      <td>1</td>\n",
       "      <td>0</td>\n",
       "      <td>Normal</td>\n",
       "    </tr>\n",
       "    <tr>\n",
       "      <th>110</th>\n",
       "      <td>2017-04-21</td>\n",
       "      <td>0</td>\n",
       "      <td>0</td>\n",
       "      <td>0</td>\n",
       "      <td>0</td>\n",
       "      <td>0</td>\n",
       "      <td>Normal</td>\n",
       "    </tr>\n",
       "    <tr>\n",
       "      <th>111</th>\n",
       "      <td>2017-04-22</td>\n",
       "      <td>0</td>\n",
       "      <td>0</td>\n",
       "      <td>0</td>\n",
       "      <td>0</td>\n",
       "      <td>0</td>\n",
       "      <td>Normal</td>\n",
       "    </tr>\n",
       "    <tr>\n",
       "      <th>112</th>\n",
       "      <td>2017-04-23</td>\n",
       "      <td>0</td>\n",
       "      <td>0</td>\n",
       "      <td>0</td>\n",
       "      <td>0</td>\n",
       "      <td>0</td>\n",
       "      <td>Normal</td>\n",
       "    </tr>\n",
       "    <tr>\n",
       "      <th>113</th>\n",
       "      <td>2017-04-24</td>\n",
       "      <td>0</td>\n",
       "      <td>0</td>\n",
       "      <td>0</td>\n",
       "      <td>0</td>\n",
       "      <td>0</td>\n",
       "      <td>Normal</td>\n",
       "    </tr>\n",
       "  </tbody>\n",
       "</table>\n",
       "<p>114 rows × 7 columns</p>\n",
       "</div>"
      ],
      "text/plain": [
       "          date  DBSCAN_label  LOF_label  IF_label  vote  final_anomaly  \\\n",
       "0   2017-01-01             1          1         1     3              1   \n",
       "1   2017-01-02             0          0         0     0              0   \n",
       "2   2017-01-03             0          0         0     0              0   \n",
       "3   2017-01-04             0          0         0     0              0   \n",
       "4   2017-01-05             0          0         0     0              0   \n",
       "..         ...           ...        ...       ...   ...            ...   \n",
       "109 2017-04-20             0          0         1     1              0   \n",
       "110 2017-04-21             0          0         0     0              0   \n",
       "111 2017-04-22             0          0         0     0              0   \n",
       "112 2017-04-23             0          0         0     0              0   \n",
       "113 2017-04-24             0          0         0     0              0   \n",
       "\n",
       "             Anomaly_Status  \n",
       "0    Yüksek İhtimal Anomali  \n",
       "1                    Normal  \n",
       "2                    Normal  \n",
       "3                    Normal  \n",
       "4                    Normal  \n",
       "..                      ...  \n",
       "109                  Normal  \n",
       "110                  Normal  \n",
       "111                  Normal  \n",
       "112                  Normal  \n",
       "113                  Normal  \n",
       "\n",
       "[114 rows x 7 columns]"
      ]
     },
     "execution_count": 39,
     "metadata": {},
     "output_type": "execute_result"
    }
   ],
   "source": [
    "out[\"Anomaly_Status\"] = np.where(out[\"final_anomaly\"]==1, \"Yüksek İhtimal Anomali\", \"Normal\")\n",
    "out"
   ]
  },
  {
   "cell_type": "code",
   "execution_count": 46,
   "id": "8d14bc9e-c1fd-4c1e-8742-6a0a46e0fd62",
   "metadata": {},
   "outputs": [
    {
     "data": {
      "text/html": [
       "<div>\n",
       "<style scoped>\n",
       "    .dataframe tbody tr th:only-of-type {\n",
       "        vertical-align: middle;\n",
       "    }\n",
       "\n",
       "    .dataframe tbody tr th {\n",
       "        vertical-align: top;\n",
       "    }\n",
       "\n",
       "    .dataframe thead th {\n",
       "        text-align: right;\n",
       "    }\n",
       "</style>\n",
       "<table border=\"1\" class=\"dataframe\">\n",
       "  <thead>\n",
       "    <tr style=\"text-align: right;\">\n",
       "      <th></th>\n",
       "      <th>Class</th>\n",
       "      <th>DBSCAN_label_Count</th>\n",
       "      <th>DBSCAN_label_Pct</th>\n",
       "      <th>LOF_label_Count</th>\n",
       "      <th>LOF_label_Pct</th>\n",
       "      <th>IF_label_Count</th>\n",
       "      <th>IF_label_Pct</th>\n",
       "    </tr>\n",
       "  </thead>\n",
       "  <tbody>\n",
       "    <tr>\n",
       "      <th>0</th>\n",
       "      <td>0</td>\n",
       "      <td>111</td>\n",
       "      <td>97.368421</td>\n",
       "      <td>112</td>\n",
       "      <td>98.245614</td>\n",
       "      <td>108</td>\n",
       "      <td>94.736842</td>\n",
       "    </tr>\n",
       "    <tr>\n",
       "      <th>1</th>\n",
       "      <td>1</td>\n",
       "      <td>3</td>\n",
       "      <td>2.631579</td>\n",
       "      <td>2</td>\n",
       "      <td>1.754386</td>\n",
       "      <td>6</td>\n",
       "      <td>5.263158</td>\n",
       "    </tr>\n",
       "  </tbody>\n",
       "</table>\n",
       "</div>"
      ],
      "text/plain": [
       "   Class  DBSCAN_label_Count  DBSCAN_label_Pct  LOF_label_Count  \\\n",
       "0      0                 111         97.368421              112   \n",
       "1      1                   3          2.631579                2   \n",
       "\n",
       "   LOF_label_Pct  IF_label_Count  IF_label_Pct  \n",
       "0      98.245614             108     94.736842  \n",
       "1       1.754386               6      5.263158  "
      ]
     },
     "execution_count": 46,
     "metadata": {},
     "output_type": "execute_result"
    }
   ],
   "source": [
    "N = len(out)\n",
    "\n",
    "def count_pct(col):\n",
    "    c = out[col].value_counts().reindex([0,1], fill_value=0)\n",
    "    return pd.DataFrame({\n",
    "        \"Class\":[0,1],\n",
    "        f\"{col}_Count\":[c[0], c[1]],\n",
    "        f\"{col}_Pct\":[c[0]/N*100, c[1]/N*100]\n",
    "    })\n",
    "\n",
    "summary = (\n",
    "    count_pct(\"DBSCAN_label\")\n",
    "    .join(count_pct(\"LOF_label\").set_index(\"Class\"), on=\"Class\", rsuffix=\"_LOF\")\n",
    "    .join(count_pct(\"IF_label\").set_index(\"Class\"), on=\"Class\", rsuffix=\"_IF\")\n",
    ")\n",
    "summary"
   ]
  },
  {
   "cell_type": "code",
   "execution_count": 47,
   "id": "c498a461-c10e-49c4-945a-6abf159e2e95",
   "metadata": {},
   "outputs": [
    {
     "data": {
      "image/png": "[encoded data removed]",
      "text/plain": [
       "<Figure size 1200x400 with 1 Axes>"
      ]
     },
     "metadata": {},
     "output_type": "display_data"
    }
   ],
   "source": [
    "plt.figure(figsize=(12,4))\n",
    "plt.plot(df[\"date\"], df[\"meantemp\"], lw=1)\n",
    "anom_idx = out[\"final_anomaly\"]==1\n",
    "plt.scatter(df.loc[anom_idx,\"date\"], df.loc[anom_idx,\"meantemp\"], s=40)\n",
    "plt.title(\"Mevcut sıcaklık serisi ve final anomaliler\")\n",
    "plt.xlabel(\"Tarih\"); plt.ylabel(\"meantemp\")\n",
    "plt.tight_layout(); plt.show()"
   ]
  },
  {
   "cell_type": "code",
   "execution_count": 48,
   "id": "eec7d1c9-2825-40d2-ade9-366f3390b997",
   "metadata": {},
   "outputs": [
    {
     "data": {
      "image/png": "[encoded data removed]",
      "text/plain": [
       "<Figure size 800x400 with 1 Axes>"
      ]
     },
     "metadata": {},
     "output_type": "display_data"
    }
   ],
   "source": [
    "# Uzun form\n",
    "rows = []\n",
    "for algo in [\"DBSCAN\",\"LOF\",\"IF\"]:\n",
    "    rows.append({\"Algorithm\":algo, \"Class\":\"Normal (0)\", \"Count\":int(out[f\"{algo}_label\"].value_counts().get(0,0))})\n",
    "    rows.append({\"Algorithm\":algo, \"Class\":\"Anomali (1)\", \"Count\":int(out[f\"{algo}_label\"].value_counts().get(1,0))})\n",
    "cmp_df = pd.DataFrame(rows)\n",
    "\n",
    "# Gruplanmış bar\n",
    "pivot = cmp_df.pivot(index=\"Algorithm\", columns=\"Class\", values=\"Count\").fillna(0)\n",
    "ax = pivot.plot(kind=\"bar\", figsize=(8,4))\n",
    "ax.set_ylabel(\"Adet\")\n",
    "ax.set_title(\"Algoritma bazlı anomali/normal sayıları\")\n",
    "plt.tight_layout(); plt.show()\n"
   ]
  },
  {
   "cell_type": "code",
   "execution_count": 49,
   "id": "7fbfa696-1b90-462d-b9e5-6135588a2af9",
   "metadata": {},
   "outputs": [
    {
     "data": {
      "text/html": [
       "<div>\n",
       "<style scoped>\n",
       "    .dataframe tbody tr th:only-of-type {\n",
       "        vertical-align: middle;\n",
       "    }\n",
       "\n",
       "    .dataframe tbody tr th {\n",
       "        vertical-align: top;\n",
       "    }\n",
       "\n",
       "    .dataframe thead th {\n",
       "        text-align: right;\n",
       "    }\n",
       "</style>\n",
       "<table border=\"1\" class=\"dataframe\">\n",
       "  <thead>\n",
       "    <tr style=\"text-align: right;\">\n",
       "      <th></th>\n",
       "      <th>date</th>\n",
       "      <th>DBSCAN_label</th>\n",
       "      <th>LOF_label</th>\n",
       "      <th>IF_label</th>\n",
       "      <th>vote</th>\n",
       "      <th>Anomaly_Status</th>\n",
       "    </tr>\n",
       "  </thead>\n",
       "  <tbody>\n",
       "    <tr>\n",
       "      <th>0</th>\n",
       "      <td>2017-01-01</td>\n",
       "      <td>1</td>\n",
       "      <td>1</td>\n",
       "      <td>1</td>\n",
       "      <td>3</td>\n",
       "      <td>Yüksek İhtimal Anomali</td>\n",
       "    </tr>\n",
       "    <tr>\n",
       "      <th>54</th>\n",
       "      <td>2017-02-24</td>\n",
       "      <td>1</td>\n",
       "      <td>0</td>\n",
       "      <td>1</td>\n",
       "      <td>2</td>\n",
       "      <td>Yüksek İhtimal Anomali</td>\n",
       "    </tr>\n",
       "    <tr>\n",
       "      <th>99</th>\n",
       "      <td>2017-04-10</td>\n",
       "      <td>1</td>\n",
       "      <td>1</td>\n",
       "      <td>1</td>\n",
       "      <td>3</td>\n",
       "      <td>Yüksek İhtimal Anomali</td>\n",
       "    </tr>\n",
       "  </tbody>\n",
       "</table>\n",
       "</div>"
      ],
      "text/plain": [
       "         date  DBSCAN_label  LOF_label  IF_label  vote          Anomaly_Status\n",
       "0  2017-01-01             1          1         1     3  Yüksek İhtimal Anomali\n",
       "54 2017-02-24             1          0         1     2  Yüksek İhtimal Anomali\n",
       "99 2017-04-10             1          1         1     3  Yüksek İhtimal Anomali"
      ]
     },
     "execution_count": 49,
     "metadata": {},
     "output_type": "execute_result"
    }
   ],
   "source": [
    "anoms = out.loc[out[\"final_anomaly\"]==1, [\"date\",\"DBSCAN_label\",\"LOF_label\",\"IF_label\",\"vote\",\"Anomaly_Status\"]]\n",
    "anoms\n"
   ]
  }
 ],
 "metadata": {
  "kernelspec": {
   "display_name": "Python 3 (ipykernel)",
   "language": "python",
   "name": "python3"
  },
  "language_info": {
   "codemirror_mode": {
    "name": "ipython",
    "version": 3
   },
   "file_extension": ".py",
   "mimetype": "text/x-python",
   "name": "python",
   "nbconvert_exporter": "python",
   "pygments_lexer": "ipython3",
   "version": "3.12.7"
  }
 },
 "nbformat": 4,
 "nbformat_minor": 5
}
